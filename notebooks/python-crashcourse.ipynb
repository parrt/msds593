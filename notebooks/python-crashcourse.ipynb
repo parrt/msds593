{
 "cells": [
  {
   "cell_type": "markdown",
   "metadata": {},
   "source": [
    "# Crash course in Python used in EDA\n",
    "\n",
    "We are going to be moving quickly through exploratory data analysis, which will necessarily assume some competence in key areas of Python. I've tried to include a number of the key Python elements in this notebook for you. We will go over this in class, but I suggest in your infinite spare time that you review it and try the examples out."
   ]
  },
  {
   "cell_type": "markdown",
   "metadata": {},
   "source": [
    "## Assignment versus expression\n",
    "\n",
    "The simplest assignments look like *variable* = *expression* where *expression* can be arbitrarily complex:"
   ]
  },
  {
   "cell_type": "code",
   "execution_count": 17,
   "metadata": {},
   "outputs": [],
   "source": [
    "x = 10                   # an assignment with simple right-hand side"
   ]
  },
  {
   "cell_type": "code",
   "execution_count": 22,
   "metadata": {},
   "outputs": [],
   "source": [
    "y = sum([1,10,100,1000]) # an assignment with more complex right-hand side"
   ]
  },
  {
   "cell_type": "code",
   "execution_count": 19,
   "metadata": {},
   "outputs": [
    {
     "data": {
      "text/plain": [
       "10"
      ]
     },
     "execution_count": 19,
     "metadata": {},
     "output_type": "execute_result"
    }
   ],
   "source": [
    "x      # an expression"
   ]
  },
  {
   "cell_type": "code",
   "execution_count": 20,
   "metadata": {},
   "outputs": [
    {
     "data": {
      "text/plain": [
       "15.0"
      ]
     },
     "execution_count": 20,
     "metadata": {},
     "output_type": "execute_result"
    }
   ],
   "source": [
    "x*1.5 # an expression"
   ]
  },
  {
   "cell_type": "code",
   "execution_count": 23,
   "metadata": {},
   "outputs": [
    {
     "data": {
      "text/plain": [
       "1111"
      ]
     },
     "execution_count": 23,
     "metadata": {},
     "output_type": "execute_result"
    }
   ],
   "source": [
    "sum([1,10,100,1000]) # an expression"
   ]
  },
  {
   "cell_type": "markdown",
   "metadata": {},
   "source": [
    "Because we are executing this Python code within a Jupyter notebook, the code snippets are executed immediately."
   ]
  },
  {
   "cell_type": "markdown",
   "metadata": {},
   "source": [
    "<img src=\"images/redbang.png\" width=\"30\" align=\"left\">The value of the last expression in any notebook cell is printed by Jupyter.\n",
    "\n",
    "We can also print the result of multiple expressions in a single cell:"
   ]
  },
  {
   "cell_type": "code",
   "execution_count": 21,
   "metadata": {},
   "outputs": [
    {
     "data": {
      "text/plain": [
       "(31.400000000000002, 1111)"
      ]
     },
     "execution_count": 21,
     "metadata": {},
     "output_type": "execute_result"
    }
   ],
   "source": [
    "x*3.14, y"
   ]
  },
  {
   "cell_type": "markdown",
   "metadata": {},
   "source": [
    "## Indexing lists or similar collections\n",
    "\n",
    "One of the most important operators we will use in expressions is the `[...]` indexing operator. You are likely familiar with this already for accessing the elements of lists.  The index is typically an integer and the first element is that position 0:"
   ]
  },
  {
   "cell_type": "code",
   "execution_count": 108,
   "metadata": {},
   "outputs": [
    {
     "data": {
      "text/plain": [
       "10"
      ]
     },
     "execution_count": 108,
     "metadata": {},
     "output_type": "execute_result"
    }
   ],
   "source": [
    "a = [10,20,30,40]  # define a list with four numbers\n",
    "a[0]               # print the first element; indexing is from ZERO!"
   ]
  },
  {
   "cell_type": "code",
   "execution_count": 29,
   "metadata": {},
   "outputs": [
    {
     "data": {
      "text/plain": [
       "40"
      ]
     },
     "execution_count": 29,
     "metadata": {},
     "output_type": "execute_result"
    }
   ],
   "source": [
    "a[-1]              # print the last value"
   ]
  },
  {
   "cell_type": "code",
   "execution_count": 30,
   "metadata": {},
   "outputs": [
    {
     "data": {
      "text/plain": [
       "[20, 30]"
      ]
     },
     "execution_count": 30,
     "metadata": {},
     "output_type": "execute_result"
    }
   ],
   "source": [
    "a[1:3]             # print the 2nd and 3rd values"
   ]
  },
  {
   "cell_type": "markdown",
   "metadata": {},
   "source": [
    "If we have a list of lists, it looks like a matrix and we access with two index operations to get an element:"
   ]
  },
  {
   "cell_type": "code",
   "execution_count": 115,
   "metadata": {},
   "outputs": [
    {
     "data": {
      "text/plain": [
       "[[1, 2, 3], [4, 5, 6]]"
      ]
     },
     "execution_count": 115,
     "metadata": {},
     "output_type": "execute_result"
    }
   ],
   "source": [
    "a = [[1,2,3],      # a list of lists\n",
    "     [4,5,6]]\n",
    "a"
   ]
  },
  {
   "cell_type": "code",
   "execution_count": 116,
   "metadata": {},
   "outputs": [
    {
     "data": {
      "image/svg+xml": [
       "<?xml version=\"1.0\" encoding=\"UTF-8\" standalone=\"no\"?>\n",
       "<!DOCTYPE svg PUBLIC \"-//W3C//DTD SVG 1.1//EN\"\n",
       " \"http://www.w3.org/Graphics/SVG/1.1/DTD/svg11.dtd\">\n",
       "<!-- Generated by graphviz version 2.40.1 (20161225.0304)\n",
       " -->\n",
       "<!-- Title: G Pages: 1 -->\n",
       "<svg width=\"86pt\" height=\"72pt\"\n",
       " viewBox=\"0.00 0.00 86.00 72.00\" xmlns=\"http://www.w3.org/2000/svg\" xmlns:xlink=\"http://www.w3.org/1999/xlink\">\n",
       "<g id=\"graph0\" class=\"graph\" transform=\"scale(1 1) rotate(0) translate(4 68)\">\n",
       "<title>G</title>\n",
       "<polygon fill=\"#ffffff\" stroke=\"transparent\" points=\"-4,4 -4,-68 82,-68 82,4 -4,4\"/>\n",
       "<!-- node140350436840960 -->\n",
       "<g id=\"node1\" class=\"node\">\n",
       "<title>node140350436840960</title>\n",
       "<polygon fill=\"#cfe2d4\" stroke=\"#444443\" stroke-width=\".5\" points=\"13,-48 0,-48 0,-16 13,-16 13,-48\"/>\n",
       "<polygon fill=\"#cfe2d4\" stroke=\"transparent\" points=\"1.5,-32 1.5,-47 12.5,-47 12.5,-32 1.5,-32\"/>\n",
       "<polyline fill=\"none\" stroke=\"#444443\" points=\"1.5,-32 12.5,-32 \"/>\n",
       "<text text-anchor=\"start\" x=\"4.4973\" y=\"-36.8\" font-family=\"Helvetica,sans-Serif\" font-size=\"9.00\" fill=\"#444443\">0</text>\n",
       "<polygon fill=\"#cfe2d4\" stroke=\"transparent\" points=\"1.5,-17 1.5,-32 12.5,-32 12.5,-17 1.5,-17\"/>\n",
       "<text text-anchor=\"start\" x=\"4.4973\" y=\"-21.8\" font-family=\"Helvetica,sans-Serif\" font-size=\"9.00\" fill=\"#444443\">1</text>\n",
       "</g>\n",
       "<!-- node140350146313728 -->\n",
       "<g id=\"node2\" class=\"node\">\n",
       "<title>node140350146313728</title>\n",
       "<polygon fill=\"none\" stroke=\"#000000\" stroke-width=\".5\" points=\"78,-64 42,-64 42,-34 78,-34 78,-64\"/>\n",
       "<polygon fill=\"#fefecd\" stroke=\"transparent\" points=\"43,-52 43,-63 55,-63 55,-52 43,-52\"/>\n",
       "<polyline fill=\"none\" stroke=\"#000000\" points=\"43,-52 55,-52 55,-63 \"/>\n",
       "<text text-anchor=\"start\" x=\"46.4973\" y=\"-54.8\" font-family=\"Helvetica,sans-Serif\" font-size=\"9.00\" fill=\"#444443\">0</text>\n",
       "<polygon fill=\"#fefecd\" stroke=\"transparent\" points=\"55,-52 55,-63 67,-63 67,-52 55,-52\"/>\n",
       "<polyline fill=\"none\" stroke=\"#000000\" points=\"55,-52 67,-52 67,-63 \"/>\n",
       "<text text-anchor=\"start\" x=\"58.4973\" y=\"-54.8\" font-family=\"Helvetica,sans-Serif\" font-size=\"9.00\" fill=\"#444443\">1</text>\n",
       "<polygon fill=\"#fefecd\" stroke=\"transparent\" points=\"67,-52 67,-63 77,-63 77,-52 67,-52\"/>\n",
       "<polyline fill=\"none\" stroke=\"#000000\" points=\"67,-52 77,-52 \"/>\n",
       "<text text-anchor=\"start\" x=\"69.4973\" y=\"-54.8\" font-family=\"Helvetica,sans-Serif\" font-size=\"9.00\" fill=\"#444443\">2</text>\n",
       "<polygon fill=\"#fefecd\" stroke=\"transparent\" points=\"43,-35 43,-52 55,-52 55,-35 43,-35\"/>\n",
       "<polyline fill=\"none\" stroke=\"#000000\" points=\"55,-35 55,-52 \"/>\n",
       "<text text-anchor=\"start\" x=\"45.9412\" y=\"-40.2\" font-family=\"Helvetica,sans-Serif\" font-size=\"11.00\" fill=\"#444443\">1</text>\n",
       "<polygon fill=\"#fefecd\" stroke=\"transparent\" points=\"55,-35 55,-52 67,-52 67,-35 55,-35\"/>\n",
       "<polyline fill=\"none\" stroke=\"#000000\" points=\"67,-35 67,-52 \"/>\n",
       "<text text-anchor=\"start\" x=\"57.9412\" y=\"-40.2\" font-family=\"Helvetica,sans-Serif\" font-size=\"11.00\" fill=\"#444443\">2</text>\n",
       "<polygon fill=\"#fefecd\" stroke=\"transparent\" points=\"67,-35 67,-52 77,-52 77,-35 67,-35\"/>\n",
       "<text text-anchor=\"start\" x=\"68.9412\" y=\"-40.2\" font-family=\"Helvetica,sans-Serif\" font-size=\"11.00\" fill=\"#444443\">3</text>\n",
       "</g>\n",
       "<!-- node140350436840960&#45;&gt;node140350146313728 -->\n",
       "<g id=\"edge1\" class=\"edge\">\n",
       "<title>node140350436840960:0&#45;&gt;node140350146313728:w</title>\n",
       "<path fill=\"none\" stroke=\"#444443\" stroke-width=\".5\" d=\"M12.5,-40C24.7084,-40 27.6972,-47.1389 37.8889,-48.7006\"/>\n",
       "<polygon fill=\"#444443\" stroke=\"#444443\" stroke-width=\".5\" points=\"37.9088,-50.1056 42,-49 38.1123,-47.313 37.9088,-50.1056\"/>\n",
       "</g>\n",
       "<!-- node140350436214976 -->\n",
       "<g id=\"node3\" class=\"node\">\n",
       "<title>node140350436214976</title>\n",
       "<polygon fill=\"none\" stroke=\"#000000\" stroke-width=\".5\" points=\"78,-30 42,-30 42,0 78,0 78,-30\"/>\n",
       "<polygon fill=\"#fefecd\" stroke=\"transparent\" points=\"43,-18 43,-29 55,-29 55,-18 43,-18\"/>\n",
       "<polyline fill=\"none\" stroke=\"#000000\" points=\"43,-18 55,-18 55,-29 \"/>\n",
       "<text text-anchor=\"start\" x=\"46.4973\" y=\"-20.8\" font-family=\"Helvetica,sans-Serif\" font-size=\"9.00\" fill=\"#444443\">0</text>\n",
       "<polygon fill=\"#fefecd\" stroke=\"transparent\" points=\"55,-18 55,-29 67,-29 67,-18 55,-18\"/>\n",
       "<polyline fill=\"none\" stroke=\"#000000\" points=\"55,-18 67,-18 67,-29 \"/>\n",
       "<text text-anchor=\"start\" x=\"58.4973\" y=\"-20.8\" font-family=\"Helvetica,sans-Serif\" font-size=\"9.00\" fill=\"#444443\">1</text>\n",
       "<polygon fill=\"#fefecd\" stroke=\"transparent\" points=\"67,-18 67,-29 77,-29 77,-18 67,-18\"/>\n",
       "<polyline fill=\"none\" stroke=\"#000000\" points=\"67,-18 77,-18 \"/>\n",
       "<text text-anchor=\"start\" x=\"69.4973\" y=\"-20.8\" font-family=\"Helvetica,sans-Serif\" font-size=\"9.00\" fill=\"#444443\">2</text>\n",
       "<polygon fill=\"#fefecd\" stroke=\"transparent\" points=\"43,-1 43,-18 55,-18 55,-1 43,-1\"/>\n",
       "<polyline fill=\"none\" stroke=\"#000000\" points=\"55,-1 55,-18 \"/>\n",
       "<text text-anchor=\"start\" x=\"45.9412\" y=\"-6.2\" font-family=\"Helvetica,sans-Serif\" font-size=\"11.00\" fill=\"#444443\">4</text>\n",
       "<polygon fill=\"#fefecd\" stroke=\"transparent\" points=\"55,-1 55,-18 67,-18 67,-1 55,-1\"/>\n",
       "<polyline fill=\"none\" stroke=\"#000000\" points=\"67,-1 67,-18 \"/>\n",
       "<text text-anchor=\"start\" x=\"57.9412\" y=\"-6.2\" font-family=\"Helvetica,sans-Serif\" font-size=\"11.00\" fill=\"#444443\">5</text>\n",
       "<polygon fill=\"#fefecd\" stroke=\"transparent\" points=\"67,-1 67,-18 77,-18 77,-1 67,-1\"/>\n",
       "<text text-anchor=\"start\" x=\"68.9412\" y=\"-6.2\" font-family=\"Helvetica,sans-Serif\" font-size=\"11.00\" fill=\"#444443\">6</text>\n",
       "</g>\n",
       "<!-- node140350436840960&#45;&gt;node140350436214976 -->\n",
       "<g id=\"edge2\" class=\"edge\">\n",
       "<title>node140350436840960:1&#45;&gt;node140350436214976:w</title>\n",
       "<path fill=\"none\" stroke=\"#444443\" stroke-width=\".5\" d=\"M12.5,-24C24.7084,-24 27.6972,-16.8611 37.8889,-15.2994\"/>\n",
       "<polygon fill=\"#444443\" stroke=\"#444443\" stroke-width=\".5\" points=\"38.1123,-16.687 42,-15 37.9088,-13.8944 38.1123,-16.687\"/>\n",
       "</g>\n",
       "</g>\n",
       "</svg>\n"
      ],
      "text/plain": [
       "<graphviz.files.Source at 0x7fa5b12ddc10>"
      ]
     },
     "execution_count": 116,
     "metadata": {},
     "output_type": "execute_result"
    }
   ],
   "source": [
    "! pip -q install lolviz   # Terence built this cool visualization package for objects\n",
    "from lolviz import *      # \"lol\" is \"list of lists\" but handles lots of objects\n",
    "lolviz(a)                 # show me the structure of the object pointed to by a"
   ]
  },
  {
   "cell_type": "code",
   "execution_count": 117,
   "metadata": {},
   "outputs": [
    {
     "data": {
      "text/plain": [
       "[1, 2, 3]"
      ]
     },
     "execution_count": 117,
     "metadata": {},
     "output_type": "execute_result"
    }
   ],
   "source": [
    "a[0]       # first row"
   ]
  },
  {
   "cell_type": "code",
   "execution_count": 118,
   "metadata": {},
   "outputs": [
    {
     "data": {
      "text/plain": [
       "3"
      ]
     },
     "execution_count": 118,
     "metadata": {},
     "output_type": "execute_result"
    }
   ],
   "source": [
    "a[0][2]    # first row, third element (element at position two)"
   ]
  },
  {
   "cell_type": "code",
   "execution_count": 119,
   "metadata": {},
   "outputs": [
    {
     "data": {
      "text/plain": [
       "3"
      ]
     },
     "execution_count": 119,
     "metadata": {},
     "output_type": "execute_result"
    }
   ],
   "source": [
    "(a[0])[2]  # left subexpression evaluated first"
   ]
  },
  {
   "cell_type": "markdown",
   "metadata": {},
   "source": [
    "Just to be clear what's going on `a` is a list of lists. So, `a[0]` accesses the first element which is a list. If it is a list, we can access the elements like `a[0][2]`, which is equivalent to `(a[0])[2]`, if that helps you to see the order of operations."
   ]
  },
  {
   "cell_type": "markdown",
   "metadata": {},
   "source": [
    "We will very commonly convert this nested list into a numpy array and then the indexing operator changes:"
   ]
  },
  {
   "cell_type": "code",
   "execution_count": 120,
   "metadata": {},
   "outputs": [
    {
     "data": {
      "text/plain": [
       "array([[1, 2, 3],\n",
       "       [4, 5, 6]])"
      ]
     },
     "execution_count": 120,
     "metadata": {},
     "output_type": "execute_result"
    }
   ],
   "source": [
    "import numpy as np  # import and give it a shorthand name \"np\"\n",
    "a = np.array(a)\n",
    "a"
   ]
  },
  {
   "cell_type": "code",
   "execution_count": 121,
   "metadata": {},
   "outputs": [
    {
     "data": {
      "image/svg+xml": [
       "<?xml version=\"1.0\" encoding=\"UTF-8\" standalone=\"no\"?>\n",
       "<!DOCTYPE svg PUBLIC \"-//W3C//DTD SVG 1.1//EN\"\n",
       " \"http://www.w3.org/Graphics/SVG/1.1/DTD/svg11.dtd\">\n",
       "<!-- Generated by graphviz version 2.40.1 (20161225.0304)\n",
       " -->\n",
       "<!-- Title: G Pages: 1 -->\n",
       "<svg width=\"43pt\" height=\"42pt\"\n",
       " viewBox=\"0.00 0.00 43.00 42.00\" xmlns=\"http://www.w3.org/2000/svg\" xmlns:xlink=\"http://www.w3.org/1999/xlink\">\n",
       "<g id=\"graph0\" class=\"graph\" transform=\"scale(1 1) rotate(0) translate(4 38)\">\n",
       "<title>G</title>\n",
       "<polygon fill=\"#ffffff\" stroke=\"transparent\" points=\"-4,4 -4,-38 39,-38 39,4 -4,4\"/>\n",
       "<!-- node140349349455472 -->\n",
       "<g id=\"node1\" class=\"node\">\n",
       "<title>node140349349455472</title>\n",
       "<polygon fill=\"none\" stroke=\"#000000\" stroke-width=\".5\" points=\"35,-34 0,-34 0,0 35,0 35,-34\"/>\n",
       "<polygon fill=\"#fefecd\" stroke=\"transparent\" points=\"1.5,-17 1.5,-33 12.5,-33 12.5,-17 1.5,-17\"/>\n",
       "<text text-anchor=\"start\" x=\"4.2192\" y=\"-22\" font-family=\"Helvetica,sans-Serif\" font-size=\"10.00\" fill=\"#444443\">1</text>\n",
       "<polygon fill=\"#fefecd\" stroke=\"transparent\" points=\"12.5,-17 12.5,-33 23.5,-33 23.5,-17 12.5,-17\"/>\n",
       "<text text-anchor=\"start\" x=\"15.2192\" y=\"-22\" font-family=\"Helvetica,sans-Serif\" font-size=\"10.00\" fill=\"#444443\">2</text>\n",
       "<polygon fill=\"#fefecd\" stroke=\"transparent\" points=\"23.5,-17 23.5,-33 34.5,-33 34.5,-17 23.5,-17\"/>\n",
       "<text text-anchor=\"start\" x=\"26.2192\" y=\"-22\" font-family=\"Helvetica,sans-Serif\" font-size=\"10.00\" fill=\"#444443\">3</text>\n",
       "<polygon fill=\"#fefecd\" stroke=\"transparent\" points=\"1.5,-1 1.5,-17 12.5,-17 12.5,-1 1.5,-1\"/>\n",
       "<text text-anchor=\"start\" x=\"4.2192\" y=\"-6\" font-family=\"Helvetica,sans-Serif\" font-size=\"10.00\" fill=\"#444443\">4</text>\n",
       "<polygon fill=\"#fefecd\" stroke=\"transparent\" points=\"12.5,-1 12.5,-17 23.5,-17 23.5,-1 12.5,-1\"/>\n",
       "<text text-anchor=\"start\" x=\"15.2192\" y=\"-6\" font-family=\"Helvetica,sans-Serif\" font-size=\"10.00\" fill=\"#444443\">5</text>\n",
       "<polygon fill=\"#fefecd\" stroke=\"transparent\" points=\"23.5,-1 23.5,-17 34.5,-17 34.5,-1 23.5,-1\"/>\n",
       "<text text-anchor=\"start\" x=\"26.2192\" y=\"-6\" font-family=\"Helvetica,sans-Serif\" font-size=\"10.00\" fill=\"#444443\">6</text>\n",
       "</g>\n",
       "</g>\n",
       "</svg>\n"
      ],
      "text/plain": [
       "<graphviz.files.Source at 0x7fa5b12b9ca0>"
      ]
     },
     "execution_count": 121,
     "metadata": {},
     "output_type": "execute_result"
    }
   ],
   "source": [
    "objviz(a) # using lolviz library again; it senses numpy not list of lists"
   ]
  },
  {
   "cell_type": "code",
   "execution_count": 122,
   "metadata": {},
   "outputs": [
    {
     "data": {
      "text/plain": [
       "3"
      ]
     },
     "execution_count": 122,
     "metadata": {},
     "output_type": "execute_result"
    }
   ],
   "source": [
    "a[0,2]              # instead of a[0][2], use this; index is now a TUPLE!"
   ]
  },
  {
   "cell_type": "markdown",
   "metadata": {},
   "source": [
    "The syntax for indexing is overloaded to also mean: \"get an element from a dictionary\":"
   ]
  },
  {
   "cell_type": "code",
   "execution_count": 123,
   "metadata": {},
   "outputs": [
    {
     "data": {
      "image/svg+xml": [
       "<?xml version=\"1.0\" encoding=\"UTF-8\" standalone=\"no\"?>\n",
       "<!DOCTYPE svg PUBLIC \"-//W3C//DTD SVG 1.1//EN\"\n",
       " \"http://www.w3.org/Graphics/SVG/1.1/DTD/svg11.dtd\">\n",
       "<!-- Generated by graphviz version 2.40.1 (20161225.0304)\n",
       " -->\n",
       "<!-- Title: G Pages: 1 -->\n",
       "<svg width=\"142pt\" height=\"63pt\"\n",
       " viewBox=\"0.00 0.00 142.00 62.50\" xmlns=\"http://www.w3.org/2000/svg\" xmlns:xlink=\"http://www.w3.org/1999/xlink\">\n",
       "<g id=\"graph0\" class=\"graph\" transform=\"scale(1 1) rotate(0) translate(4 58.5)\">\n",
       "<title>G</title>\n",
       "<polygon fill=\"#ffffff\" stroke=\"transparent\" points=\"-4,4 -4,-58.5 138,-58.5 138,4 -4,4\"/>\n",
       "<!-- node140350152094080 -->\n",
       "<g id=\"node1\" class=\"node\">\n",
       "<title>node140350152094080</title>\n",
       "<polygon fill=\"#fefecd\" stroke=\"#444443\" stroke-width=\".5\" points=\"58,-54.5 0,-54.5 0,-7.5 58,-7.5 58,-54.5\"/>\n",
       "<polygon fill=\"#fefecd\" stroke=\"transparent\" points=\"2,-39 2,-52 33,-52 33,-39 2,-39\"/>\n",
       "<text text-anchor=\"start\" x=\"7.4067\" y=\"-42.2\" font-family=\"Helvetica,sans-Serif\" font-size=\"11.00\" fill=\"#444443\">&#39;tom&#39; </text>\n",
       "<text text-anchor=\"start\" x=\"33\" y=\"-42.3996\" font-family=\"Helvetica,sans-Serif\" font-size=\"9.00\" fill=\"#444443\">→</text>\n",
       "<polygon fill=\"#fefecd\" stroke=\"transparent\" points=\"42,-39 42,-52 56,-52 56,-39 42,-39\"/>\n",
       "<text text-anchor=\"start\" x=\"43\" y=\"-42.2\" font-family=\"Helvetica,sans-Serif\" font-size=\"11.00\" fill=\"#444443\"> 3</text>\n",
       "<polygon fill=\"#fefecd\" stroke=\"transparent\" points=\"2,-37 2,-39 56,-39 56,-37 2,-37\"/>\n",
       "<polygon fill=\"#fefecd\" stroke=\"transparent\" points=\"2,-24 2,-37 33,-37 33,-24 2,-24\"/>\n",
       "<text text-anchor=\"start\" x=\"1.6499\" y=\"-27.2\" font-family=\"Helvetica,sans-Serif\" font-size=\"11.00\" fill=\"#444443\">&#39;mary&#39; </text>\n",
       "<text text-anchor=\"start\" x=\"33\" y=\"-27.3996\" font-family=\"Helvetica,sans-Serif\" font-size=\"9.00\" fill=\"#444443\">→</text>\n",
       "<polygon fill=\"#fefecd\" stroke=\"transparent\" points=\"42,-24 42,-37 56,-37 56,-24 42,-24\"/>\n",
       "<text text-anchor=\"start\" x=\"43\" y=\"-27.2\" font-family=\"Helvetica,sans-Serif\" font-size=\"11.00\" fill=\"#444443\"> 9</text>\n",
       "<polygon fill=\"#fefecd\" stroke=\"transparent\" points=\"2,-22 2,-24 56,-24 56,-22 2,-22\"/>\n",
       "<polygon fill=\"#fefecd\" stroke=\"transparent\" points=\"2,-9 2,-22 33,-22 33,-9 2,-9\"/>\n",
       "<text text-anchor=\"start\" x=\"3.126\" y=\"-12.2\" font-family=\"Helvetica,sans-Serif\" font-size=\"11.00\" fill=\"#444443\">&#39;parrt&#39; </text>\n",
       "<text text-anchor=\"start\" x=\"33\" y=\"-12.3996\" font-family=\"Helvetica,sans-Serif\" font-size=\"9.00\" fill=\"#444443\">→</text>\n",
       "<polygon fill=\"#fefecd\" stroke=\"transparent\" points=\"42,-9 42,-22 56,-22 56,-9 42,-9\"/>\n",
       "<text text-anchor=\"start\" x=\"42.8877\" y=\"-12.2\" font-family=\"Helvetica,sans-Serif\" font-size=\"11.00\" fill=\"#444443\"> &#160;&#160;&#160;</text>\n",
       "</g>\n",
       "<!-- node140349349694016 -->\n",
       "<g id=\"node2\" class=\"node\">\n",
       "<title>node140349349694016</title>\n",
       "<polygon fill=\"none\" stroke=\"#000000\" stroke-width=\".5\" points=\"134,-30 80,-30 80,0 134,0 134,-30\"/>\n",
       "<polygon fill=\"#fefecd\" stroke=\"transparent\" points=\"81,-18 81,-29 93,-29 93,-18 81,-18\"/>\n",
       "<polyline fill=\"none\" stroke=\"#000000\" points=\"81,-18 93,-18 93,-29 \"/>\n",
       "<text text-anchor=\"start\" x=\"84.4973\" y=\"-20.8\" font-family=\"Helvetica,sans-Serif\" font-size=\"9.00\" fill=\"#444443\">0</text>\n",
       "<polygon fill=\"#fefecd\" stroke=\"transparent\" points=\"93,-18 93,-29 105,-29 105,-18 93,-18\"/>\n",
       "<polyline fill=\"none\" stroke=\"#000000\" points=\"93,-18 105,-18 105,-29 \"/>\n",
       "<text text-anchor=\"start\" x=\"96.4973\" y=\"-20.8\" font-family=\"Helvetica,sans-Serif\" font-size=\"9.00\" fill=\"#444443\">1</text>\n",
       "<polygon fill=\"#fefecd\" stroke=\"transparent\" points=\"105,-18 105,-29 117,-29 117,-18 105,-18\"/>\n",
       "<polyline fill=\"none\" stroke=\"#000000\" points=\"105,-18 117,-18 117,-29 \"/>\n",
       "<text text-anchor=\"start\" x=\"108.4973\" y=\"-20.8\" font-family=\"Helvetica,sans-Serif\" font-size=\"9.00\" fill=\"#444443\">2</text>\n",
       "<polygon fill=\"#fefecd\" stroke=\"transparent\" points=\"117,-18 117,-29 133,-29 133,-18 117,-18\"/>\n",
       "<polyline fill=\"none\" stroke=\"#000000\" points=\"117,-18 133,-18 \"/>\n",
       "<text text-anchor=\"start\" x=\"122.4973\" y=\"-20.8\" font-family=\"Helvetica,sans-Serif\" font-size=\"9.00\" fill=\"#444443\">3</text>\n",
       "<polygon fill=\"#fefecd\" stroke=\"transparent\" points=\"81,-1 81,-18 93,-18 93,-1 81,-1\"/>\n",
       "<polyline fill=\"none\" stroke=\"#000000\" points=\"93,-1 93,-18 \"/>\n",
       "<text text-anchor=\"start\" x=\"83.9412\" y=\"-6.2\" font-family=\"Helvetica,sans-Serif\" font-size=\"11.00\" fill=\"#444443\">4</text>\n",
       "<polygon fill=\"#fefecd\" stroke=\"transparent\" points=\"93,-1 93,-18 105,-18 105,-1 93,-1\"/>\n",
       "<polyline fill=\"none\" stroke=\"#000000\" points=\"105,-1 105,-18 \"/>\n",
       "<text text-anchor=\"start\" x=\"95.9412\" y=\"-6.2\" font-family=\"Helvetica,sans-Serif\" font-size=\"11.00\" fill=\"#444443\">8</text>\n",
       "<polygon fill=\"#fefecd\" stroke=\"transparent\" points=\"105,-1 105,-18 117,-18 117,-1 105,-1\"/>\n",
       "<polyline fill=\"none\" stroke=\"#000000\" points=\"117,-1 117,-18 \"/>\n",
       "<text text-anchor=\"start\" x=\"107.9412\" y=\"-6.2\" font-family=\"Helvetica,sans-Serif\" font-size=\"11.00\" fill=\"#444443\">2</text>\n",
       "<polygon fill=\"#fefecd\" stroke=\"transparent\" points=\"117,-1 117,-18 133,-18 133,-1 117,-1\"/>\n",
       "<text text-anchor=\"start\" x=\"118.8823\" y=\"-6.2\" font-family=\"Helvetica,sans-Serif\" font-size=\"11.00\" fill=\"#444443\">19</text>\n",
       "</g>\n",
       "<!-- node140350152094080&#45;&gt;node140349349694016 -->\n",
       "<g id=\"edge1\" class=\"edge\">\n",
       "<title>node140350152094080:c&#45;&gt;node140349349694016</title>\n",
       "<path fill=\"none\" stroke=\"#444443\" stroke-width=\".5\" d=\"M52.3531,-15C57.082,-15 66.1932,-15 75.6407,-15\"/>\n",
       "<ellipse fill=\"#444443\" stroke=\"#444443\" stroke-width=\".5\" cx=\"50.6\" cy=\"-15\" rx=\"1.6\" ry=\"1.6\"/>\n",
       "<polygon fill=\"#444443\" stroke=\"#444443\" stroke-width=\".5\" points=\"75.6984,-16.4001 79.6984,-15 75.6983,-13.6001 75.6984,-16.4001\"/>\n",
       "</g>\n",
       "</g>\n",
       "</svg>\n"
      ],
      "text/plain": [
       "<graphviz.files.Source at 0x7fa5b12482b0>"
      ]
     },
     "execution_count": 123,
     "metadata": {},
     "output_type": "execute_result"
    }
   ],
   "source": [
    "d = {\"tom\":3, \"mary\":9, \"parrt\":[4,8,2,19]}  # define a dictionary\n",
    "objviz(d)"
   ]
  },
  {
   "cell_type": "code",
   "execution_count": 124,
   "metadata": {},
   "outputs": [
    {
     "data": {
      "text/plain": [
       "3"
      ]
     },
     "execution_count": 124,
     "metadata": {},
     "output_type": "execute_result"
    }
   ],
   "source": [
    "d[\"tom\"]"
   ]
  },
  {
   "cell_type": "code",
   "execution_count": 125,
   "metadata": {},
   "outputs": [
    {
     "data": {
      "text/plain": [
       "[4, 8, 2, 19]"
      ]
     },
     "execution_count": 125,
     "metadata": {},
     "output_type": "execute_result"
    }
   ],
   "source": [
    "d['parrt']"
   ]
  },
  {
   "cell_type": "code",
   "execution_count": 126,
   "metadata": {},
   "outputs": [
    {
     "data": {
      "text/plain": [
       "19"
      ]
     },
     "execution_count": 126,
     "metadata": {},
     "output_type": "execute_result"
    }
   ],
   "source": [
    "d['parrt'][3]     # get list for key 'parrt' then access element at position 3"
   ]
  },
  {
   "cell_type": "markdown",
   "metadata": {},
   "source": [
    "## Packages / modules"
   ]
  },
  {
   "cell_type": "markdown",
   "metadata": {},
   "source": [
    "There are a vast number of libraries available in Python to help you do your job. You can think of each library as a book of recipes and each recipe is a function. Because there are so many, we have to explicitly tell Python to import the library or libraries we'd like to use (there could be conflicting function names between them so we have to be explicit).\n",
    "\n",
    "<img src=\"images/redbang.png\" width=\"30\" align=\"left\">In common practice, we mix up the terms package and module, but [to be precise](https://stackoverflow.com/questions/7948494/whats-the-difference-between-a-python-module-and-a-python-package#:~:text=A%20package%20is%20a%20collection%20of%20Python%20modules%3A%20while%20a,a%20bunch%20of%20Python%20scripts.) a Python *module* is a single Python file like my `lolviz` above. A *package* is a directory with a collection of modules (python files).\n",
    "\n",
    "Let's say we wanted to compute the area of a circle with radius $r$ ($\\pi r ^2$).  We could just remember a bit of $pi$, such as 3.14159, but it's better to use a built-in variable defined in the math package:"
   ]
  },
  {
   "cell_type": "code",
   "execution_count": 26,
   "metadata": {},
   "outputs": [
    {
     "data": {
      "text/plain": [
       "12.566370614359172"
      ]
     },
     "execution_count": 26,
     "metadata": {},
     "output_type": "execute_result"
    }
   ],
   "source": [
    "import math     # tell Python we want to use stuff inside math package\n",
    "r = 2\n",
    "math.pi * r**2  # pi is a var inside math and \"**\"\" is the power operator"
   ]
  },
  {
   "cell_type": "markdown",
   "metadata": {},
   "source": [
    "The basic syntax is *packagename*.*variable* or, for functions in a package, *packagename*.*function(...)*. \n",
    "\n",
    "It's also possible to have packages within packages. Numpy is a numerical library we will use frequently and it has a function to get a matrix of random numbers. Within package `numpy` we access the `random` package and then the `rand()` function:"
   ]
  },
  {
   "cell_type": "code",
   "execution_count": 27,
   "metadata": {},
   "outputs": [
    {
     "data": {
      "text/plain": [
       "array([[0.35166607, 0.41375476, 0.58495631],\n",
       "       [0.04575451, 0.18897379, 0.69708789]])"
      ]
     },
     "execution_count": 27,
     "metadata": {},
     "output_type": "execute_result"
    }
   ],
   "source": [
    "import numpy as np  # import and give it a shorthand name \"np\"\n",
    "np.random.rand(2,3)"
   ]
  },
  {
   "cell_type": "markdown",
   "metadata": {},
   "source": [
    "<img src=\"images/redbang.png\" width=\"30\" align=\"left\">The `.` (dot operator) is severely overloaded to mean multiple things; in fact a program is able to redefine what it means. Just keep in mind that `.` can mean:\n",
    "\n",
    "1. Access a member of a package, which can be a variable, function, or another package\n",
    "1. Access a member of an object, which can be a field or function"
   ]
  },
  {
   "cell_type": "markdown",
   "metadata": {},
   "source": [
    "## Functions\n",
    "\n",
    "Python programs consist of zero or more functions and the so-called \"main\" program, consisting of a sequence of operations that gets the ball rolling.\n",
    "\n",
    "What we need to know about to define or use a function:\n",
    "\n",
    "1. a descriptive function name\n",
    "1. the kind of value(s) it operates on (parameter types)\n",
    "1. the kind of value it returns (return type)\n",
    "1. what the function does and the value it returns\n",
    "\n",
    "If we can't specifying exactly what goes in and out of the function, there's no hope of determining the processing steps, let alone Python code, to implement that function."
   ]
  },
  {
   "cell_type": "markdown",
   "metadata": {},
   "source": [
    "<img src=\"images/redbang.png\" width=\"30\" align=\"left\">The Python interpreter does not execute the code inside the function unless we directly invoke that function. Python sees the function definition as just that: a \"recipe\" definition that we can call if we want."
   ]
  },
  {
   "cell_type": "code",
   "execution_count": 5,
   "metadata": {},
   "outputs": [
    {
     "name": "stdout",
     "output_type": "stream",
     "text": [
      "this is part of main not part of function\n"
     ]
    }
   ],
   "source": [
    "def hi():\n",
    "    print(\"hi\")\n",
    "print(\"this is part of main not part of function\")"
   ]
  },
  {
   "cell_type": "markdown",
   "metadata": {},
   "source": [
    "The definition of a function is different than invoking or calling a function. Calling a function requires the function name and any argument values. In this case, we don't have any arguments so we call the function as just hi():"
   ]
  },
  {
   "cell_type": "code",
   "execution_count": 55,
   "metadata": {},
   "outputs": [
    {
     "name": "stdout",
     "output_type": "stream",
     "text": [
      "hi\n"
     ]
    }
   ],
   "source": [
    "hi()"
   ]
  },
  {
   "cell_type": "markdown",
   "metadata": {},
   "source": [
    "Let's define a function that returns a value, rather then printing a value:"
   ]
  },
  {
   "cell_type": "code",
   "execution_count": 56,
   "metadata": {},
   "outputs": [],
   "source": [
    "def pi():            # no arguments\n",
    "    return 3.14159   # return type is float"
   ]
  },
  {
   "cell_type": "code",
   "execution_count": 127,
   "metadata": {},
   "outputs": [
    {
     "name": "stdout",
     "output_type": "stream",
     "text": [
      "3.14159\n"
     ]
    }
   ],
   "source": [
    "pi()                 # there is no print, but jupyter prints value of last expr in cell"
   ]
  },
  {
   "cell_type": "code",
   "execution_count": 128,
   "metadata": {},
   "outputs": [
    {
     "data": {
      "text/plain": [
       "<function __main__.pi()>"
      ]
     },
     "execution_count": 128,
     "metadata": {},
     "output_type": "execute_result"
    }
   ],
   "source": [
    "pi                   # this is the name of a function but does not execute the function"
   ]
  },
  {
   "cell_type": "markdown",
   "metadata": {},
   "source": [
    "Functions `hi` and `pi` are not attached in some sense to a package (technically they are part of the main module) and we can just call them without the \"dot\" operator. If we put them in module `foo`, then we could refer to them elsewhere as `foo.hi()` and `foo.pi()`."
   ]
  },
  {
   "cell_type": "markdown",
   "metadata": {},
   "source": [
    "## Objects\n",
    "\n",
    "Everything in Python is an object and there are way too many details to going to here; you can check out my [OO notes](https://github.com/parrt/msds501/blob/master/notes/OO.ipynb) though for more details.\n",
    "\n",
    "As it pertains to what we do in EDA, we are very frequently going to call functions that are embedded within objects.  If you've played with Python strings before, you do this quite frequently. For example:"
   ]
  },
  {
   "cell_type": "code",
   "execution_count": 60,
   "metadata": {},
   "outputs": [
    {
     "data": {
      "text/plain": [
       "('PARRT', 4)"
      ]
     },
     "execution_count": 60,
     "metadata": {},
     "output_type": "execute_result"
    }
   ],
   "source": [
    "\"parrt\".upper(), \"parrt\".index('t')"
   ]
  },
  {
   "cell_type": "markdown",
   "metadata": {},
   "source": [
    "Note that `len()` is a function not associated specifically with strings and so we call that generic function with the object as an argument:"
   ]
  },
  {
   "cell_type": "code",
   "execution_count": 61,
   "metadata": {},
   "outputs": [
    {
     "data": {
      "text/plain": [
       "5"
      ]
     },
     "execution_count": 61,
     "metadata": {},
     "output_type": "execute_result"
    }
   ],
   "source": [
    "len(\"parrt\")"
   ]
  },
  {
   "cell_type": "markdown",
   "metadata": {},
   "source": [
    "Again we are overloading the dot operator to mean object member access. The syntax is typically *object*.*function(...)*. Things get complicated when we combine indexing with member access. Here's a preview of some data frame accessing:"
   ]
  },
  {
   "cell_type": "code",
   "execution_count": 63,
   "metadata": {},
   "outputs": [
    {
     "data": {
      "text/html": [
       "<div>\n",
       "<style scoped>\n",
       "    .dataframe tbody tr th:only-of-type {\n",
       "        vertical-align: middle;\n",
       "    }\n",
       "\n",
       "    .dataframe tbody tr th {\n",
       "        vertical-align: top;\n",
       "    }\n",
       "\n",
       "    .dataframe thead th {\n",
       "        text-align: right;\n",
       "    }\n",
       "</style>\n",
       "<table border=\"1\" class=\"dataframe\">\n",
       "  <thead>\n",
       "    <tr style=\"text-align: right;\">\n",
       "      <th></th>\n",
       "      <th>MPG</th>\n",
       "      <th>CYL</th>\n",
       "      <th>ENG</th>\n",
       "      <th>WGT</th>\n",
       "    </tr>\n",
       "  </thead>\n",
       "  <tbody>\n",
       "    <tr>\n",
       "      <th>0</th>\n",
       "      <td>18.0</td>\n",
       "      <td>8</td>\n",
       "      <td>307.0</td>\n",
       "      <td>3504</td>\n",
       "    </tr>\n",
       "    <tr>\n",
       "      <th>1</th>\n",
       "      <td>15.0</td>\n",
       "      <td>8</td>\n",
       "      <td>350.0</td>\n",
       "      <td>3693</td>\n",
       "    </tr>\n",
       "    <tr>\n",
       "      <th>2</th>\n",
       "      <td>18.0</td>\n",
       "      <td>8</td>\n",
       "      <td>318.0</td>\n",
       "      <td>3436</td>\n",
       "    </tr>\n",
       "  </tbody>\n",
       "</table>\n",
       "</div>"
      ],
      "text/plain": [
       "    MPG  CYL    ENG   WGT\n",
       "0  18.0    8  307.0  3504\n",
       "1  15.0    8  350.0  3693\n",
       "2  18.0    8  318.0  3436"
      ]
     },
     "execution_count": 63,
     "metadata": {},
     "output_type": "execute_result"
    }
   ],
   "source": [
    "import pandas as pd\n",
    "df_cars = pd.read_csv(\"data/cars.csv\") # get data into df_cars object\n",
    "df_cars.head(3)                        # show first 3 rows"
   ]
  },
  {
   "cell_type": "code",
   "execution_count": 64,
   "metadata": {},
   "outputs": [
    {
     "data": {
      "text/plain": [
       "array([8, 4, 6, 3, 5])"
      ]
     },
     "execution_count": 64,
     "metadata": {},
     "output_type": "execute_result"
    }
   ],
   "source": [
    "df_cars['CYL'].unique() # get unique elements in column CYL"
   ]
  },
  {
   "cell_type": "markdown",
   "metadata": {},
   "source": [
    "Things can get even more complex if we change the function calls together:"
   ]
  },
  {
   "cell_type": "code",
   "execution_count": 71,
   "metadata": {},
   "outputs": [
    {
     "data": {
      "text/plain": [
       "13.0    20\n",
       "14.0    19\n",
       "18.0    17\n",
       "15.0    16\n",
       "26.0    14\n",
       "Name: MPG, dtype: int64"
      ]
     },
     "execution_count": 71,
     "metadata": {},
     "output_type": "execute_result"
    }
   ],
   "source": [
    "df_cars['MPG'].value_counts().head(5)"
   ]
  },
  {
   "cell_type": "markdown",
   "metadata": {},
   "source": [
    "Or when we do operations and then call function on the resulting object:"
   ]
  },
  {
   "cell_type": "code",
   "execution_count": 68,
   "metadata": {},
   "outputs": [
    {
     "data": {
      "text/plain": [
       "0    0.005137\n",
       "1    0.004062\n",
       "2    0.005239\n",
       "3    0.004661\n",
       "4    0.004929\n",
       "dtype: float64"
      ]
     },
     "execution_count": 68,
     "metadata": {},
     "output_type": "execute_result"
    }
   ],
   "source": [
    "(df_cars['MPG'] / df_cars['WGT']).head(5)"
   ]
  },
  {
   "cell_type": "markdown",
   "metadata": {},
   "source": [
    "Let me break that apart for you:"
   ]
  },
  {
   "cell_type": "code",
   "execution_count": 69,
   "metadata": {},
   "outputs": [
    {
     "data": {
      "text/plain": [
       "0    0.005137\n",
       "1    0.004062\n",
       "2    0.005239\n",
       "3    0.004661\n",
       "4    0.004929\n",
       "dtype: float64"
      ]
     },
     "execution_count": 69,
     "metadata": {},
     "output_type": "execute_result"
    }
   ],
   "source": [
    "mpg = df_cars['MPG']\n",
    "wgt = df_cars['WGT']\n",
    "mpg_per_pound = mpg / wgt\n",
    "mpg_per_pound.head(5)"
   ]
  },
  {
   "cell_type": "markdown",
   "metadata": {},
   "source": [
    "### Function argument and return value types\n",
    "\n",
    "It's critical that you know the types of the values going into functions and coming out via return statements.\n"
   ]
  },
  {
   "cell_type": "code",
   "execution_count": 77,
   "metadata": {},
   "outputs": [],
   "source": [
    "def triple(a):\n",
    "    print(\"type is\", type(a))\n",
    "    return 3*a"
   ]
  },
  {
   "cell_type": "code",
   "execution_count": 78,
   "metadata": {},
   "outputs": [
    {
     "name": "stdout",
     "output_type": "stream",
     "text": [
      "type is <class 'int'>\n"
     ]
    },
    {
     "data": {
      "text/plain": [
       "9"
      ]
     },
     "execution_count": 78,
     "metadata": {},
     "output_type": "execute_result"
    }
   ],
   "source": [
    "triple(3)"
   ]
  },
  {
   "cell_type": "code",
   "execution_count": 83,
   "metadata": {},
   "outputs": [
    {
     "name": "stdout",
     "output_type": "stream",
     "text": [
      "type is <class 'float'>\n"
     ]
    },
    {
     "data": {
      "text/plain": [
       "13.5"
      ]
     },
     "execution_count": 83,
     "metadata": {},
     "output_type": "execute_result"
    }
   ],
   "source": [
    "triple(4.5)"
   ]
  },
  {
   "cell_type": "code",
   "execution_count": 84,
   "metadata": {},
   "outputs": [
    {
     "name": "stdout",
     "output_type": "stream",
     "text": [
      "type is <class 'list'>\n"
     ]
    },
    {
     "data": {
      "text/plain": [
       "[1, 2, 3, 1, 2, 3, 1, 2, 3]"
      ]
     },
     "execution_count": 84,
     "metadata": {},
     "output_type": "execute_result"
    }
   ],
   "source": [
    "triple([1,2,3])"
   ]
  },
  {
   "cell_type": "code",
   "execution_count": 85,
   "metadata": {},
   "outputs": [
    {
     "name": "stdout",
     "output_type": "stream",
     "text": [
      "type is <class 'numpy.ndarray'>\n"
     ]
    },
    {
     "data": {
      "text/plain": [
       "array([3, 6, 9])"
      ]
     },
     "execution_count": 85,
     "metadata": {},
     "output_type": "execute_result"
    }
   ],
   "source": [
    "triple(np.array([1,2,3]))"
   ]
  },
  {
   "cell_type": "markdown",
   "metadata": {},
   "source": [
    "Now, see what happens when the return value is of different types. It affects how we can use the result."
   ]
  },
  {
   "cell_type": "code",
   "execution_count": 92,
   "metadata": {},
   "outputs": [],
   "source": [
    "def stuff(): return [[9,7,5], [10,15,20]]"
   ]
  },
  {
   "cell_type": "code",
   "execution_count": 93,
   "metadata": {},
   "outputs": [
    {
     "data": {
      "text/plain": [
       "15"
      ]
     },
     "execution_count": 93,
     "metadata": {},
     "output_type": "execute_result"
    }
   ],
   "source": [
    "x = stuff()\n",
    "x[1][1]"
   ]
  },
  {
   "cell_type": "code",
   "execution_count": 94,
   "metadata": {},
   "outputs": [
    {
     "ename": "TypeError",
     "evalue": "list indices must be integers or slices, not tuple",
     "output_type": "error",
     "traceback": [
      "\u001b[0;31m---------------------------------------------------------------------------\u001b[0m",
      "\u001b[0;31mTypeError\u001b[0m                                 Traceback (most recent call last)",
      "\u001b[0;32m<ipython-input-94-02eb37e19992>\u001b[0m in \u001b[0;36m<module>\u001b[0;34m\u001b[0m\n\u001b[0;32m----> 1\u001b[0;31m \u001b[0mx\u001b[0m\u001b[0;34m[\u001b[0m\u001b[0;36m1\u001b[0m\u001b[0;34m,\u001b[0m\u001b[0;36m1\u001b[0m\u001b[0;34m]\u001b[0m\u001b[0;34m\u001b[0m\u001b[0;34m\u001b[0m\u001b[0m\n\u001b[0m",
      "\u001b[0;31mTypeError\u001b[0m: list indices must be integers or slices, not tuple"
     ]
    }
   ],
   "source": [
    "x[1,1] # ERROR!"
   ]
  },
  {
   "cell_type": "code",
   "execution_count": 95,
   "metadata": {},
   "outputs": [],
   "source": [
    "def npstuff(): return np.array( [[9,7,5], [10,15,20]] )"
   ]
  },
  {
   "cell_type": "code",
   "execution_count": 98,
   "metadata": {},
   "outputs": [
    {
     "data": {
      "text/plain": [
       "(15, 15)"
      ]
     },
     "execution_count": 98,
     "metadata": {},
     "output_type": "execute_result"
    }
   ],
   "source": [
    "y = npstuff()\n",
    "y[1][1], y[1,1]"
   ]
  },
  {
   "cell_type": "markdown",
   "metadata": {},
   "source": [
    "## Return values versus printing\n",
    "\n",
    "Just to pound this concept into your heads...\n",
    "\n",
    "One of the big confusion points for students is the difference between return values and printing results.\n",
    "\n",
    "Programs in the analytics world typically read data from a file and emit output or write data to another file. In other words, programs interact with the world outside of the program. The world outside of the program is usually the network, the disk, or the screen. In contrast, most functions that we write won't interact with the outside world.\n",
    "\n",
    "<img src=\"images/redbang.png\" width=\"30\" align=\"left\">Functions compute and return (give values back) to their caller. They don't print anything to the user unless explicitly asked to do so with a `print` statement."
   ]
  },
  {
   "cell_type": "code",
   "execution_count": 102,
   "metadata": {},
   "outputs": [],
   "source": [
    "def pi():\n",
    "    print(3.14159) # This is not a return statement!\n",
    "    # return value is None"
   ]
  },
  {
   "cell_type": "code",
   "execution_count": 103,
   "metadata": {},
   "outputs": [
    {
     "name": "stdout",
     "output_type": "stream",
     "text": [
      "3.14159\n",
      "None\n"
     ]
    }
   ],
   "source": [
    "print(pi())"
   ]
  },
  {
   "cell_type": "code",
   "execution_count": 104,
   "metadata": {},
   "outputs": [
    {
     "name": "stdout",
     "output_type": "stream",
     "text": [
      "3.14159\n"
     ]
    }
   ],
   "source": [
    "pi()"
   ]
  },
  {
   "cell_type": "markdown",
   "metadata": {},
   "source": [
    "## Altering function arguments\n",
    "\n",
    "We usually think of function arguments as passing information to functions, but we can also have the function alter the parameters. So in that sense, they act kind of like the function return values as well. For more on this issue, check out [data aliasing](https://github.com/parrt/msds501/blob/master/notes/aliasing.ipynb). But let's go through an example here."
   ]
  },
  {
   "cell_type": "code",
   "execution_count": 129,
   "metadata": {},
   "outputs": [],
   "source": [
    "def negate(x):\n",
    "    for i in range(len(x)):\n",
    "        x[i] = -x[i]"
   ]
  },
  {
   "cell_type": "code",
   "execution_count": 139,
   "metadata": {},
   "outputs": [
    {
     "data": {
      "image/svg+xml": [
       "<?xml version=\"1.0\" encoding=\"UTF-8\" standalone=\"no\"?>\n",
       "<!DOCTYPE svg PUBLIC \"-//W3C//DTD SVG 1.1//EN\"\n",
       " \"http://www.w3.org/Graphics/SVG/1.1/DTD/svg11.dtd\">\n",
       "<!-- Generated by graphviz version 2.40.1 (20161225.0304)\n",
       " -->\n",
       "<!-- Title: G Pages: 1 -->\n",
       "<svg width=\"102pt\" height=\"47pt\"\n",
       " viewBox=\"0.00 0.00 102.00 47.00\" xmlns=\"http://www.w3.org/2000/svg\" xmlns:xlink=\"http://www.w3.org/1999/xlink\">\n",
       "<g id=\"graph0\" class=\"graph\" transform=\"scale(1 1) rotate(0) translate(4 43)\">\n",
       "<title>G</title>\n",
       "<polygon fill=\"#ffffff\" stroke=\"transparent\" points=\"-4,4 -4,-43 98,-43 98,4 -4,4\"/>\n",
       "<!-- node140349354324032 -->\n",
       "<g id=\"node1\" class=\"node\">\n",
       "<title>node140349354324032</title>\n",
       "<polygon fill=\"#d9e6f5\" stroke=\"#444443\" stroke-width=\".5\" points=\"38,-39 0,-39 0,-7 38,-7 38,-39\"/>\n",
       "<polygon fill=\"#d9e6f5\" stroke=\"transparent\" points=\"2,-24 2,-37 36,-37 36,-24 2,-24\"/>\n",
       "<polyline fill=\"none\" stroke=\"#444443\" points=\"2,-24 36,-24 \"/>\n",
       "<text text-anchor=\"start\" x=\"2.8035\" y=\"-27.2\" font-family=\"Times,serif\" font-style=\"italic\" font-size=\"11.00\" fill=\"#444443\">globals</text>\n",
       "<polygon fill=\"#d9e6f5\" stroke=\"transparent\" points=\"2,-22 2,-24 36,-24 36,-22 2,-22\"/>\n",
       "<polygon fill=\"#d9e6f5\" stroke=\"transparent\" points=\"2,-9 2,-22 17,-22 17,-9 2,-9\"/>\n",
       "<polyline fill=\"none\" stroke=\"#444443\" points=\"17,-9 17,-22 \"/>\n",
       "<text text-anchor=\"start\" x=\"6.8262\" y=\"-12.2\" font-family=\"Helvetica,sans-Serif\" font-size=\"11.00\" fill=\"#444443\">a </text>\n",
       "<polygon fill=\"#d9e6f5\" stroke=\"transparent\" points=\"19,-9 19,-22 36,-22 36,-9 19,-9\"/>\n",
       "<text text-anchor=\"start\" x=\"20\" y=\"-12.2\" font-family=\"Helvetica,sans-Serif\" font-size=\"11.00\" fill=\"#444443\"> &#160;&#160;&#160;</text>\n",
       "</g>\n",
       "<!-- node140349350665600 -->\n",
       "<g id=\"node2\" class=\"node\">\n",
       "<title>node140349350665600</title>\n",
       "<polygon fill=\"none\" stroke=\"#000000\" stroke-width=\".5\" points=\"94,-30 46,-30 46,0 94,0 94,-30\"/>\n",
       "<polygon fill=\"#fefecd\" stroke=\"transparent\" points=\"47,-18 47,-29 59,-29 59,-18 47,-18\"/>\n",
       "<polyline fill=\"none\" stroke=\"#000000\" points=\"47,-18 59,-18 59,-29 \"/>\n",
       "<text text-anchor=\"start\" x=\"50.4973\" y=\"-20.8\" font-family=\"Helvetica,sans-Serif\" font-size=\"9.00\" fill=\"#444443\">0</text>\n",
       "<polygon fill=\"#fefecd\" stroke=\"transparent\" points=\"59,-18 59,-29 71,-29 71,-18 59,-18\"/>\n",
       "<polyline fill=\"none\" stroke=\"#000000\" points=\"59,-18 71,-18 71,-29 \"/>\n",
       "<text text-anchor=\"start\" x=\"62.4973\" y=\"-20.8\" font-family=\"Helvetica,sans-Serif\" font-size=\"9.00\" fill=\"#444443\">1</text>\n",
       "<polygon fill=\"#fefecd\" stroke=\"transparent\" points=\"71,-18 71,-29 83,-29 83,-18 71,-18\"/>\n",
       "<polyline fill=\"none\" stroke=\"#000000\" points=\"71,-18 83,-18 83,-29 \"/>\n",
       "<text text-anchor=\"start\" x=\"74.4973\" y=\"-20.8\" font-family=\"Helvetica,sans-Serif\" font-size=\"9.00\" fill=\"#444443\">2</text>\n",
       "<polygon fill=\"#fefecd\" stroke=\"transparent\" points=\"83,-18 83,-29 93,-29 93,-18 83,-18\"/>\n",
       "<polyline fill=\"none\" stroke=\"#000000\" points=\"83,-18 93,-18 \"/>\n",
       "<text text-anchor=\"start\" x=\"85.4973\" y=\"-20.8\" font-family=\"Helvetica,sans-Serif\" font-size=\"9.00\" fill=\"#444443\">3</text>\n",
       "<polygon fill=\"#fefecd\" stroke=\"transparent\" points=\"47,-1 47,-18 59,-18 59,-1 47,-1\"/>\n",
       "<polyline fill=\"none\" stroke=\"#000000\" points=\"59,-1 59,-18 \"/>\n",
       "<text text-anchor=\"start\" x=\"49.9412\" y=\"-6.2\" font-family=\"Helvetica,sans-Serif\" font-size=\"11.00\" fill=\"#444443\">1</text>\n",
       "<polygon fill=\"#fefecd\" stroke=\"transparent\" points=\"59,-1 59,-18 71,-18 71,-1 59,-1\"/>\n",
       "<polyline fill=\"none\" stroke=\"#000000\" points=\"71,-1 71,-18 \"/>\n",
       "<text text-anchor=\"start\" x=\"61.9412\" y=\"-6.2\" font-family=\"Helvetica,sans-Serif\" font-size=\"11.00\" fill=\"#444443\">3</text>\n",
       "<polygon fill=\"#fefecd\" stroke=\"transparent\" points=\"71,-1 71,-18 83,-18 83,-1 71,-1\"/>\n",
       "<polyline fill=\"none\" stroke=\"#000000\" points=\"83,-1 83,-18 \"/>\n",
       "<text text-anchor=\"start\" x=\"73.9412\" y=\"-6.2\" font-family=\"Helvetica,sans-Serif\" font-size=\"11.00\" fill=\"#444443\">5</text>\n",
       "<polygon fill=\"#fefecd\" stroke=\"transparent\" points=\"83,-1 83,-18 93,-18 93,-1 83,-1\"/>\n",
       "<text text-anchor=\"start\" x=\"84.9412\" y=\"-6.2\" font-family=\"Helvetica,sans-Serif\" font-size=\"11.00\" fill=\"#444443\">7</text>\n",
       "</g>\n",
       "<!-- node140349354324032&#45;&gt;node140349350665600 -->\n",
       "<g id=\"edge1\" class=\"edge\">\n",
       "<title>node140349354324032:c&#45;&gt;node140349350665600</title>\n",
       "<path fill=\"none\" stroke=\"#444443\" stroke-width=\".5\" d=\"M31.3705,-15C33.827,-15 37.418,-15 41.4353,-15\"/>\n",
       "<ellipse fill=\"#444443\" stroke=\"#444443\" stroke-width=\".5\" cx=\"29.6\" cy=\"-15\" rx=\"1.6\" ry=\"1.6\"/>\n",
       "<polygon fill=\"#444443\" stroke=\"#444443\" stroke-width=\".5\" points=\"41.5685,-16.4001 45.5684,-15 41.5684,-13.6001 41.5685,-16.4001\"/>\n",
       "</g>\n",
       "</g>\n",
       "</svg>\n"
      ],
      "text/plain": [
       "<graphviz.files.Source at 0x7fa5b12ddcd0>"
      ]
     },
     "execution_count": 139,
     "metadata": {},
     "output_type": "execute_result"
    }
   ],
   "source": [
    "a = [1,3,5,7]\n",
    "callviz(varnames=['a']) # visualize the global variable space"
   ]
  },
  {
   "cell_type": "code",
   "execution_count": 140,
   "metadata": {},
   "outputs": [],
   "source": [
    "negate(a)          # what does Jupyter print for this?"
   ]
  },
  {
   "cell_type": "code",
   "execution_count": 141,
   "metadata": {},
   "outputs": [
    {
     "data": {
      "text/plain": [
       "[-1, -3, -5, -7]"
      ]
     },
     "execution_count": 141,
     "metadata": {},
     "output_type": "execute_result"
    }
   ],
   "source": [
    "a                  # array 'a' has changed!!"
   ]
  },
  {
   "cell_type": "code",
   "execution_count": 142,
   "metadata": {},
   "outputs": [
    {
     "data": {
      "image/svg+xml": [
       "<?xml version=\"1.0\" encoding=\"UTF-8\" standalone=\"no\"?>\n",
       "<!DOCTYPE svg PUBLIC \"-//W3C//DTD SVG 1.1//EN\"\n",
       " \"http://www.w3.org/Graphics/SVG/1.1/DTD/svg11.dtd\">\n",
       "<!-- Generated by graphviz version 2.40.1 (20161225.0304)\n",
       " -->\n",
       "<!-- Title: G Pages: 1 -->\n",
       "<svg width=\"114pt\" height=\"47pt\"\n",
       " viewBox=\"0.00 0.00 114.00 47.00\" xmlns=\"http://www.w3.org/2000/svg\" xmlns:xlink=\"http://www.w3.org/1999/xlink\">\n",
       "<g id=\"graph0\" class=\"graph\" transform=\"scale(1 1) rotate(0) translate(4 43)\">\n",
       "<title>G</title>\n",
       "<polygon fill=\"#ffffff\" stroke=\"transparent\" points=\"-4,4 -4,-43 110,-43 110,4 -4,4\"/>\n",
       "<!-- node140348748029440 -->\n",
       "<g id=\"node1\" class=\"node\">\n",
       "<title>node140348748029440</title>\n",
       "<polygon fill=\"#d9e6f5\" stroke=\"#444443\" stroke-width=\".5\" points=\"38,-39 0,-39 0,-7 38,-7 38,-39\"/>\n",
       "<polygon fill=\"#d9e6f5\" stroke=\"transparent\" points=\"2,-24 2,-37 36,-37 36,-24 2,-24\"/>\n",
       "<polyline fill=\"none\" stroke=\"#444443\" points=\"2,-24 36,-24 \"/>\n",
       "<text text-anchor=\"start\" x=\"2.8035\" y=\"-27.2\" font-family=\"Times,serif\" font-style=\"italic\" font-size=\"11.00\" fill=\"#444443\">globals</text>\n",
       "<polygon fill=\"#d9e6f5\" stroke=\"transparent\" points=\"2,-22 2,-24 36,-24 36,-22 2,-22\"/>\n",
       "<polygon fill=\"#d9e6f5\" stroke=\"transparent\" points=\"2,-9 2,-22 17,-22 17,-9 2,-9\"/>\n",
       "<polyline fill=\"none\" stroke=\"#444443\" points=\"17,-9 17,-22 \"/>\n",
       "<text text-anchor=\"start\" x=\"6.8262\" y=\"-12.2\" font-family=\"Helvetica,sans-Serif\" font-size=\"11.00\" fill=\"#444443\">a </text>\n",
       "<polygon fill=\"#d9e6f5\" stroke=\"transparent\" points=\"19,-9 19,-22 36,-22 36,-9 19,-9\"/>\n",
       "<text text-anchor=\"start\" x=\"20\" y=\"-12.2\" font-family=\"Helvetica,sans-Serif\" font-size=\"11.00\" fill=\"#444443\"> &#160;&#160;&#160;</text>\n",
       "</g>\n",
       "<!-- node140349350665600 -->\n",
       "<g id=\"node2\" class=\"node\">\n",
       "<title>node140349350665600</title>\n",
       "<polygon fill=\"none\" stroke=\"#000000\" stroke-width=\".5\" points=\"106,-30 46,-30 46,0 106,0 106,-30\"/>\n",
       "<polygon fill=\"#fefecd\" stroke=\"transparent\" points=\"47,-18 47,-29 62,-29 62,-18 47,-18\"/>\n",
       "<polyline fill=\"none\" stroke=\"#000000\" points=\"47,-18 62,-18 62,-29 \"/>\n",
       "<text text-anchor=\"start\" x=\"51.9973\" y=\"-20.8\" font-family=\"Helvetica,sans-Serif\" font-size=\"9.00\" fill=\"#444443\">0</text>\n",
       "<polygon fill=\"#fefecd\" stroke=\"transparent\" points=\"62,-18 62,-29 77,-29 77,-18 62,-18\"/>\n",
       "<polyline fill=\"none\" stroke=\"#000000\" points=\"62,-18 77,-18 77,-29 \"/>\n",
       "<text text-anchor=\"start\" x=\"66.9973\" y=\"-20.8\" font-family=\"Helvetica,sans-Serif\" font-size=\"9.00\" fill=\"#444443\">1</text>\n",
       "<polygon fill=\"#fefecd\" stroke=\"transparent\" points=\"77,-18 77,-29 92,-29 92,-18 77,-18\"/>\n",
       "<polyline fill=\"none\" stroke=\"#000000\" points=\"77,-18 92,-18 92,-29 \"/>\n",
       "<text text-anchor=\"start\" x=\"81.9973\" y=\"-20.8\" font-family=\"Helvetica,sans-Serif\" font-size=\"9.00\" fill=\"#444443\">2</text>\n",
       "<polygon fill=\"#fefecd\" stroke=\"transparent\" points=\"92,-18 92,-29 105,-29 105,-18 92,-18\"/>\n",
       "<polyline fill=\"none\" stroke=\"#000000\" points=\"92,-18 105,-18 \"/>\n",
       "<text text-anchor=\"start\" x=\"95.9973\" y=\"-20.8\" font-family=\"Helvetica,sans-Serif\" font-size=\"9.00\" fill=\"#444443\">3</text>\n",
       "<polygon fill=\"#fefecd\" stroke=\"transparent\" points=\"47,-1 47,-18 62,-18 62,-1 47,-1\"/>\n",
       "<polyline fill=\"none\" stroke=\"#000000\" points=\"62,-1 62,-18 \"/>\n",
       "<text text-anchor=\"start\" x=\"49.6096\" y=\"-6.2\" font-family=\"Helvetica,sans-Serif\" font-size=\"11.00\" fill=\"#444443\">&#45;1</text>\n",
       "<polygon fill=\"#fefecd\" stroke=\"transparent\" points=\"62,-1 62,-18 77,-18 77,-1 62,-1\"/>\n",
       "<polyline fill=\"none\" stroke=\"#000000\" points=\"77,-1 77,-18 \"/>\n",
       "<text text-anchor=\"start\" x=\"64.6096\" y=\"-6.2\" font-family=\"Helvetica,sans-Serif\" font-size=\"11.00\" fill=\"#444443\">&#45;3</text>\n",
       "<polygon fill=\"#fefecd\" stroke=\"transparent\" points=\"77,-1 77,-18 92,-18 92,-1 77,-1\"/>\n",
       "<polyline fill=\"none\" stroke=\"#000000\" points=\"92,-1 92,-18 \"/>\n",
       "<text text-anchor=\"start\" x=\"79.6096\" y=\"-6.2\" font-family=\"Helvetica,sans-Serif\" font-size=\"11.00\" fill=\"#444443\">&#45;5</text>\n",
       "<polygon fill=\"#fefecd\" stroke=\"transparent\" points=\"92,-1 92,-18 105,-18 105,-1 92,-1\"/>\n",
       "<text text-anchor=\"start\" x=\"93.6096\" y=\"-6.2\" font-family=\"Helvetica,sans-Serif\" font-size=\"11.00\" fill=\"#444443\">&#45;7</text>\n",
       "</g>\n",
       "<!-- node140348748029440&#45;&gt;node140349350665600 -->\n",
       "<g id=\"edge1\" class=\"edge\">\n",
       "<title>node140348748029440:c&#45;&gt;node140349350665600</title>\n",
       "<path fill=\"none\" stroke=\"#444443\" stroke-width=\".5\" d=\"M31.361,-15C33.8754,-15 37.6017,-15 41.8477,-15\"/>\n",
       "<ellipse fill=\"#444443\" stroke=\"#444443\" stroke-width=\".5\" cx=\"29.6\" cy=\"-15\" rx=\"1.6\" ry=\"1.6\"/>\n",
       "<polygon fill=\"#444443\" stroke=\"#444443\" stroke-width=\".5\" points=\"41.8735,-16.4001 45.8734,-15 41.8734,-13.6001 41.8735,-16.4001\"/>\n",
       "</g>\n",
       "</g>\n",
       "</svg>\n"
      ],
      "text/plain": [
       "<graphviz.files.Source at 0x7fa5b12dd700>"
      ]
     },
     "execution_count": 142,
     "metadata": {},
     "output_type": "execute_result"
    }
   ],
   "source": [
    "callviz(varnames=['a'])"
   ]
  },
  {
   "cell_type": "markdown",
   "metadata": {},
   "source": [
    "Another way to write a function is to make a copy of the argument and returned that, which leaves the original array untouched:"
   ]
  },
  {
   "cell_type": "code",
   "execution_count": 146,
   "metadata": {},
   "outputs": [],
   "source": [
    "def negate(x):\n",
    "    x = x.copy()\n",
    "    for i in range(len(x)):\n",
    "        x[i] = -x[i]\n",
    "    return x"
   ]
  },
  {
   "cell_type": "code",
   "execution_count": 147,
   "metadata": {},
   "outputs": [
    {
     "data": {
      "image/svg+xml": [
       "<?xml version=\"1.0\" encoding=\"UTF-8\" standalone=\"no\"?>\n",
       "<!DOCTYPE svg PUBLIC \"-//W3C//DTD SVG 1.1//EN\"\n",
       " \"http://www.w3.org/Graphics/SVG/1.1/DTD/svg11.dtd\">\n",
       "<!-- Generated by graphviz version 2.40.1 (20161225.0304)\n",
       " -->\n",
       "<!-- Title: G Pages: 1 -->\n",
       "<svg width=\"102pt\" height=\"47pt\"\n",
       " viewBox=\"0.00 0.00 102.00 47.00\" xmlns=\"http://www.w3.org/2000/svg\" xmlns:xlink=\"http://www.w3.org/1999/xlink\">\n",
       "<g id=\"graph0\" class=\"graph\" transform=\"scale(1 1) rotate(0) translate(4 43)\">\n",
       "<title>G</title>\n",
       "<polygon fill=\"#ffffff\" stroke=\"transparent\" points=\"-4,4 -4,-43 98,-43 98,4 -4,4\"/>\n",
       "<!-- node140348749800448 -->\n",
       "<g id=\"node1\" class=\"node\">\n",
       "<title>node140348749800448</title>\n",
       "<polygon fill=\"#d9e6f5\" stroke=\"#444443\" stroke-width=\".5\" points=\"38,-39 0,-39 0,-7 38,-7 38,-39\"/>\n",
       "<polygon fill=\"#d9e6f5\" stroke=\"transparent\" points=\"2,-24 2,-37 36,-37 36,-24 2,-24\"/>\n",
       "<polyline fill=\"none\" stroke=\"#444443\" points=\"2,-24 36,-24 \"/>\n",
       "<text text-anchor=\"start\" x=\"2.8035\" y=\"-27.2\" font-family=\"Times,serif\" font-style=\"italic\" font-size=\"11.00\" fill=\"#444443\">globals</text>\n",
       "<polygon fill=\"#d9e6f5\" stroke=\"transparent\" points=\"2,-22 2,-24 36,-24 36,-22 2,-22\"/>\n",
       "<polygon fill=\"#d9e6f5\" stroke=\"transparent\" points=\"2,-9 2,-22 17,-22 17,-9 2,-9\"/>\n",
       "<polyline fill=\"none\" stroke=\"#444443\" points=\"17,-9 17,-22 \"/>\n",
       "<text text-anchor=\"start\" x=\"6.8262\" y=\"-12.2\" font-family=\"Helvetica,sans-Serif\" font-size=\"11.00\" fill=\"#444443\">a </text>\n",
       "<polygon fill=\"#d9e6f5\" stroke=\"transparent\" points=\"19,-9 19,-22 36,-22 36,-9 19,-9\"/>\n",
       "<text text-anchor=\"start\" x=\"20\" y=\"-12.2\" font-family=\"Helvetica,sans-Serif\" font-size=\"11.00\" fill=\"#444443\"> &#160;&#160;&#160;</text>\n",
       "</g>\n",
       "<!-- node140349350581120 -->\n",
       "<g id=\"node2\" class=\"node\">\n",
       "<title>node140349350581120</title>\n",
       "<polygon fill=\"none\" stroke=\"#000000\" stroke-width=\".5\" points=\"94,-30 46,-30 46,0 94,0 94,-30\"/>\n",
       "<polygon fill=\"#fefecd\" stroke=\"transparent\" points=\"47,-18 47,-29 59,-29 59,-18 47,-18\"/>\n",
       "<polyline fill=\"none\" stroke=\"#000000\" points=\"47,-18 59,-18 59,-29 \"/>\n",
       "<text text-anchor=\"start\" x=\"50.4973\" y=\"-20.8\" font-family=\"Helvetica,sans-Serif\" font-size=\"9.00\" fill=\"#444443\">0</text>\n",
       "<polygon fill=\"#fefecd\" stroke=\"transparent\" points=\"59,-18 59,-29 71,-29 71,-18 59,-18\"/>\n",
       "<polyline fill=\"none\" stroke=\"#000000\" points=\"59,-18 71,-18 71,-29 \"/>\n",
       "<text text-anchor=\"start\" x=\"62.4973\" y=\"-20.8\" font-family=\"Helvetica,sans-Serif\" font-size=\"9.00\" fill=\"#444443\">1</text>\n",
       "<polygon fill=\"#fefecd\" stroke=\"transparent\" points=\"71,-18 71,-29 83,-29 83,-18 71,-18\"/>\n",
       "<polyline fill=\"none\" stroke=\"#000000\" points=\"71,-18 83,-18 83,-29 \"/>\n",
       "<text text-anchor=\"start\" x=\"74.4973\" y=\"-20.8\" font-family=\"Helvetica,sans-Serif\" font-size=\"9.00\" fill=\"#444443\">2</text>\n",
       "<polygon fill=\"#fefecd\" stroke=\"transparent\" points=\"83,-18 83,-29 93,-29 93,-18 83,-18\"/>\n",
       "<polyline fill=\"none\" stroke=\"#000000\" points=\"83,-18 93,-18 \"/>\n",
       "<text text-anchor=\"start\" x=\"85.4973\" y=\"-20.8\" font-family=\"Helvetica,sans-Serif\" font-size=\"9.00\" fill=\"#444443\">3</text>\n",
       "<polygon fill=\"#fefecd\" stroke=\"transparent\" points=\"47,-1 47,-18 59,-18 59,-1 47,-1\"/>\n",
       "<polyline fill=\"none\" stroke=\"#000000\" points=\"59,-1 59,-18 \"/>\n",
       "<text text-anchor=\"start\" x=\"49.9412\" y=\"-6.2\" font-family=\"Helvetica,sans-Serif\" font-size=\"11.00\" fill=\"#444443\">1</text>\n",
       "<polygon fill=\"#fefecd\" stroke=\"transparent\" points=\"59,-1 59,-18 71,-18 71,-1 59,-1\"/>\n",
       "<polyline fill=\"none\" stroke=\"#000000\" points=\"71,-1 71,-18 \"/>\n",
       "<text text-anchor=\"start\" x=\"61.9412\" y=\"-6.2\" font-family=\"Helvetica,sans-Serif\" font-size=\"11.00\" fill=\"#444443\">3</text>\n",
       "<polygon fill=\"#fefecd\" stroke=\"transparent\" points=\"71,-1 71,-18 83,-18 83,-1 71,-1\"/>\n",
       "<polyline fill=\"none\" stroke=\"#000000\" points=\"83,-1 83,-18 \"/>\n",
       "<text text-anchor=\"start\" x=\"73.9412\" y=\"-6.2\" font-family=\"Helvetica,sans-Serif\" font-size=\"11.00\" fill=\"#444443\">5</text>\n",
       "<polygon fill=\"#fefecd\" stroke=\"transparent\" points=\"83,-1 83,-18 93,-18 93,-1 83,-1\"/>\n",
       "<text text-anchor=\"start\" x=\"84.9412\" y=\"-6.2\" font-family=\"Helvetica,sans-Serif\" font-size=\"11.00\" fill=\"#444443\">7</text>\n",
       "</g>\n",
       "<!-- node140348749800448&#45;&gt;node140349350581120 -->\n",
       "<g id=\"edge1\" class=\"edge\">\n",
       "<title>node140348749800448:c&#45;&gt;node140349350581120</title>\n",
       "<path fill=\"none\" stroke=\"#444443\" stroke-width=\".5\" d=\"M31.3705,-15C33.827,-15 37.418,-15 41.4353,-15\"/>\n",
       "<ellipse fill=\"#444443\" stroke=\"#444443\" stroke-width=\".5\" cx=\"29.6\" cy=\"-15\" rx=\"1.6\" ry=\"1.6\"/>\n",
       "<polygon fill=\"#444443\" stroke=\"#444443\" stroke-width=\".5\" points=\"41.5685,-16.4001 45.5684,-15 41.5684,-13.6001 41.5685,-16.4001\"/>\n",
       "</g>\n",
       "</g>\n",
       "</svg>\n"
      ],
      "text/plain": [
       "<graphviz.files.Source at 0x7fa5b12dd670>"
      ]
     },
     "execution_count": 147,
     "metadata": {},
     "output_type": "execute_result"
    }
   ],
   "source": [
    "a = [1,3,5,7]\n",
    "callviz(varnames=['a']) # visualize the global variable space"
   ]
  },
  {
   "cell_type": "code",
   "execution_count": 151,
   "metadata": {},
   "outputs": [],
   "source": [
    "a2 = negate(a)"
   ]
  },
  {
   "cell_type": "code",
   "execution_count": 152,
   "metadata": {},
   "outputs": [
    {
     "data": {
      "text/plain": [
       "[-1, -3, -5, -7]"
      ]
     },
     "execution_count": 152,
     "metadata": {},
     "output_type": "execute_result"
    }
   ],
   "source": [
    "a2"
   ]
  },
  {
   "cell_type": "code",
   "execution_count": 154,
   "metadata": {},
   "outputs": [
    {
     "data": {
      "image/svg+xml": [
       "<?xml version=\"1.0\" encoding=\"UTF-8\" standalone=\"no\"?>\n",
       "<!DOCTYPE svg PUBLIC \"-//W3C//DTD SVG 1.1//EN\"\n",
       " \"http://www.w3.org/Graphics/SVG/1.1/DTD/svg11.dtd\">\n",
       "<!-- Generated by graphviz version 2.40.1 (20161225.0304)\n",
       " -->\n",
       "<!-- Title: G Pages: 1 -->\n",
       "<svg width=\"114pt\" height=\"75pt\"\n",
       " viewBox=\"0.00 0.00 114.00 75.00\" xmlns=\"http://www.w3.org/2000/svg\" xmlns:xlink=\"http://www.w3.org/1999/xlink\">\n",
       "<g id=\"graph0\" class=\"graph\" transform=\"scale(1 1) rotate(0) translate(4 71)\">\n",
       "<title>G</title>\n",
       "<polygon fill=\"#ffffff\" stroke=\"transparent\" points=\"-4,4 -4,-71 110,-71 110,4 -4,4\"/>\n",
       "<!-- node140350358880064 -->\n",
       "<g id=\"node1\" class=\"node\">\n",
       "<title>node140350358880064</title>\n",
       "<polygon fill=\"#d9e6f5\" stroke=\"#444443\" stroke-width=\".5\" points=\"38,-65.5 0,-65.5 0,-18.5 38,-18.5 38,-65.5\"/>\n",
       "<polygon fill=\"#d9e6f5\" stroke=\"transparent\" points=\"2,-50 2,-63 36,-63 36,-50 2,-50\"/>\n",
       "<polyline fill=\"none\" stroke=\"#444443\" points=\"2,-50 36,-50 \"/>\n",
       "<text text-anchor=\"start\" x=\"2.8035\" y=\"-53.2\" font-family=\"Times,serif\" font-style=\"italic\" font-size=\"11.00\" fill=\"#444443\">globals</text>\n",
       "<polygon fill=\"#d9e6f5\" stroke=\"transparent\" points=\"2,-48 2,-50 36,-50 36,-48 2,-48\"/>\n",
       "<polygon fill=\"#d9e6f5\" stroke=\"transparent\" points=\"2,-35 2,-48 20,-48 20,-35 2,-35\"/>\n",
       "<polyline fill=\"none\" stroke=\"#444443\" points=\"20,-35 20,-48 \"/>\n",
       "<text text-anchor=\"start\" x=\"9.8262\" y=\"-38.2\" font-family=\"Helvetica,sans-Serif\" font-size=\"11.00\" fill=\"#444443\">a </text>\n",
       "<polygon fill=\"#d9e6f5\" stroke=\"transparent\" points=\"21,-35 21,-48 36,-48 36,-35 21,-35\"/>\n",
       "<text text-anchor=\"start\" x=\"22\" y=\"-38.2\" font-family=\"Helvetica,sans-Serif\" font-size=\"11.00\" fill=\"#444443\"> &#160;&#160;&#160;</text>\n",
       "<polygon fill=\"#d9e6f5\" stroke=\"transparent\" points=\"2,-33 2,-35 36,-35 36,-33 2,-33\"/>\n",
       "<polygon fill=\"#d9e6f5\" stroke=\"transparent\" points=\"2,-20 2,-33 20,-33 20,-20 2,-20\"/>\n",
       "<polyline fill=\"none\" stroke=\"#444443\" points=\"20,-20 20,-33 \"/>\n",
       "<text text-anchor=\"start\" x=\"3.7085\" y=\"-23.2\" font-family=\"Helvetica,sans-Serif\" font-size=\"11.00\" fill=\"#444443\">a2 </text>\n",
       "<polygon fill=\"#d9e6f5\" stroke=\"transparent\" points=\"21,-20 21,-33 36,-33 36,-20 21,-20\"/>\n",
       "<text text-anchor=\"start\" x=\"22\" y=\"-23.2\" font-family=\"Helvetica,sans-Serif\" font-size=\"11.00\" fill=\"#444443\"> &#160;&#160;&#160;</text>\n",
       "</g>\n",
       "<!-- node140349350581120 -->\n",
       "<g id=\"node2\" class=\"node\">\n",
       "<title>node140349350581120</title>\n",
       "<polygon fill=\"none\" stroke=\"#000000\" stroke-width=\".5\" points=\"100,-67 52,-67 52,-37 100,-37 100,-67\"/>\n",
       "<polygon fill=\"#fefecd\" stroke=\"transparent\" points=\"53,-55 53,-66 65,-66 65,-55 53,-55\"/>\n",
       "<polyline fill=\"none\" stroke=\"#000000\" points=\"53,-55 65,-55 65,-66 \"/>\n",
       "<text text-anchor=\"start\" x=\"56.4973\" y=\"-57.8\" font-family=\"Helvetica,sans-Serif\" font-size=\"9.00\" fill=\"#444443\">0</text>\n",
       "<polygon fill=\"#fefecd\" stroke=\"transparent\" points=\"65,-55 65,-66 77,-66 77,-55 65,-55\"/>\n",
       "<polyline fill=\"none\" stroke=\"#000000\" points=\"65,-55 77,-55 77,-66 \"/>\n",
       "<text text-anchor=\"start\" x=\"68.4973\" y=\"-57.8\" font-family=\"Helvetica,sans-Serif\" font-size=\"9.00\" fill=\"#444443\">1</text>\n",
       "<polygon fill=\"#fefecd\" stroke=\"transparent\" points=\"77,-55 77,-66 89,-66 89,-55 77,-55\"/>\n",
       "<polyline fill=\"none\" stroke=\"#000000\" points=\"77,-55 89,-55 89,-66 \"/>\n",
       "<text text-anchor=\"start\" x=\"80.4973\" y=\"-57.8\" font-family=\"Helvetica,sans-Serif\" font-size=\"9.00\" fill=\"#444443\">2</text>\n",
       "<polygon fill=\"#fefecd\" stroke=\"transparent\" points=\"89,-55 89,-66 99,-66 99,-55 89,-55\"/>\n",
       "<polyline fill=\"none\" stroke=\"#000000\" points=\"89,-55 99,-55 \"/>\n",
       "<text text-anchor=\"start\" x=\"91.4973\" y=\"-57.8\" font-family=\"Helvetica,sans-Serif\" font-size=\"9.00\" fill=\"#444443\">3</text>\n",
       "<polygon fill=\"#fefecd\" stroke=\"transparent\" points=\"53,-38 53,-55 65,-55 65,-38 53,-38\"/>\n",
       "<polyline fill=\"none\" stroke=\"#000000\" points=\"65,-38 65,-55 \"/>\n",
       "<text text-anchor=\"start\" x=\"55.9412\" y=\"-43.2\" font-family=\"Helvetica,sans-Serif\" font-size=\"11.00\" fill=\"#444443\">1</text>\n",
       "<polygon fill=\"#fefecd\" stroke=\"transparent\" points=\"65,-38 65,-55 77,-55 77,-38 65,-38\"/>\n",
       "<polyline fill=\"none\" stroke=\"#000000\" points=\"77,-38 77,-55 \"/>\n",
       "<text text-anchor=\"start\" x=\"67.9412\" y=\"-43.2\" font-family=\"Helvetica,sans-Serif\" font-size=\"11.00\" fill=\"#444443\">3</text>\n",
       "<polygon fill=\"#fefecd\" stroke=\"transparent\" points=\"77,-38 77,-55 89,-55 89,-38 77,-38\"/>\n",
       "<polyline fill=\"none\" stroke=\"#000000\" points=\"89,-38 89,-55 \"/>\n",
       "<text text-anchor=\"start\" x=\"79.9412\" y=\"-43.2\" font-family=\"Helvetica,sans-Serif\" font-size=\"11.00\" fill=\"#444443\">5</text>\n",
       "<polygon fill=\"#fefecd\" stroke=\"transparent\" points=\"89,-38 89,-55 99,-55 99,-38 89,-38\"/>\n",
       "<text text-anchor=\"start\" x=\"90.9412\" y=\"-43.2\" font-family=\"Helvetica,sans-Serif\" font-size=\"11.00\" fill=\"#444443\">7</text>\n",
       "</g>\n",
       "<!-- node140350358880064&#45;&gt;node140349350581120 -->\n",
       "<g id=\"edge1\" class=\"edge\">\n",
       "<title>node140350358880064:c&#45;&gt;node140349350581120</title>\n",
       "<path fill=\"none\" stroke=\"#444443\" stroke-width=\".5\" d=\"M32.2816,-41.768C35.7675,-42.5839 41.6397,-43.9582 47.9676,-45.4392\"/>\n",
       "<ellipse fill=\"#444443\" stroke=\"#444443\" stroke-width=\".5\" cx=\"30.5579\" cy=\"-41.3647\" rx=\"1.6\" ry=\"1.6\"/>\n",
       "<polygon fill=\"#444443\" stroke=\"#444443\" stroke-width=\".5\" points=\"47.7354,-46.8227 51.9493,-46.3711 48.3736,-44.0963 47.7354,-46.8227\"/>\n",
       "</g>\n",
       "<!-- node140350150929856 -->\n",
       "<g id=\"node3\" class=\"node\">\n",
       "<title>node140350150929856</title>\n",
       "<polygon fill=\"none\" stroke=\"#000000\" stroke-width=\".5\" points=\"106,-30 46,-30 46,0 106,0 106,-30\"/>\n",
       "<polygon fill=\"#fefecd\" stroke=\"transparent\" points=\"47,-18 47,-29 62,-29 62,-18 47,-18\"/>\n",
       "<polyline fill=\"none\" stroke=\"#000000\" points=\"47,-18 62,-18 62,-29 \"/>\n",
       "<text text-anchor=\"start\" x=\"51.9973\" y=\"-20.8\" font-family=\"Helvetica,sans-Serif\" font-size=\"9.00\" fill=\"#444443\">0</text>\n",
       "<polygon fill=\"#fefecd\" stroke=\"transparent\" points=\"62,-18 62,-29 77,-29 77,-18 62,-18\"/>\n",
       "<polyline fill=\"none\" stroke=\"#000000\" points=\"62,-18 77,-18 77,-29 \"/>\n",
       "<text text-anchor=\"start\" x=\"66.9973\" y=\"-20.8\" font-family=\"Helvetica,sans-Serif\" font-size=\"9.00\" fill=\"#444443\">1</text>\n",
       "<polygon fill=\"#fefecd\" stroke=\"transparent\" points=\"77,-18 77,-29 92,-29 92,-18 77,-18\"/>\n",
       "<polyline fill=\"none\" stroke=\"#000000\" points=\"77,-18 92,-18 92,-29 \"/>\n",
       "<text text-anchor=\"start\" x=\"81.9973\" y=\"-20.8\" font-family=\"Helvetica,sans-Serif\" font-size=\"9.00\" fill=\"#444443\">2</text>\n",
       "<polygon fill=\"#fefecd\" stroke=\"transparent\" points=\"92,-18 92,-29 105,-29 105,-18 92,-18\"/>\n",
       "<polyline fill=\"none\" stroke=\"#000000\" points=\"92,-18 105,-18 \"/>\n",
       "<text text-anchor=\"start\" x=\"95.9973\" y=\"-20.8\" font-family=\"Helvetica,sans-Serif\" font-size=\"9.00\" fill=\"#444443\">3</text>\n",
       "<polygon fill=\"#fefecd\" stroke=\"transparent\" points=\"47,-1 47,-18 62,-18 62,-1 47,-1\"/>\n",
       "<polyline fill=\"none\" stroke=\"#000000\" points=\"62,-1 62,-18 \"/>\n",
       "<text text-anchor=\"start\" x=\"49.6096\" y=\"-6.2\" font-family=\"Helvetica,sans-Serif\" font-size=\"11.00\" fill=\"#444443\">&#45;1</text>\n",
       "<polygon fill=\"#fefecd\" stroke=\"transparent\" points=\"62,-1 62,-18 77,-18 77,-1 62,-1\"/>\n",
       "<polyline fill=\"none\" stroke=\"#000000\" points=\"77,-1 77,-18 \"/>\n",
       "<text text-anchor=\"start\" x=\"64.6096\" y=\"-6.2\" font-family=\"Helvetica,sans-Serif\" font-size=\"11.00\" fill=\"#444443\">&#45;3</text>\n",
       "<polygon fill=\"#fefecd\" stroke=\"transparent\" points=\"77,-1 77,-18 92,-18 92,-1 77,-1\"/>\n",
       "<polyline fill=\"none\" stroke=\"#000000\" points=\"92,-1 92,-18 \"/>\n",
       "<text text-anchor=\"start\" x=\"79.6096\" y=\"-6.2\" font-family=\"Helvetica,sans-Serif\" font-size=\"11.00\" fill=\"#444443\">&#45;5</text>\n",
       "<polygon fill=\"#fefecd\" stroke=\"transparent\" points=\"92,-1 92,-18 105,-18 105,-1 92,-1\"/>\n",
       "<text text-anchor=\"start\" x=\"93.6096\" y=\"-6.2\" font-family=\"Helvetica,sans-Serif\" font-size=\"11.00\" fill=\"#444443\">&#45;7</text>\n",
       "</g>\n",
       "<!-- node140350358880064&#45;&gt;node140350150929856 -->\n",
       "<g id=\"edge2\" class=\"edge\">\n",
       "<title>node140350358880064:c&#45;&gt;node140350150929856</title>\n",
       "<path fill=\"none\" stroke=\"#444443\" stroke-width=\".5\" d=\"M32.1751,-25.2569C34.5053,-24.7115 37.9414,-23.9073 41.8818,-22.9851\"/>\n",
       "<ellipse fill=\"#444443\" stroke=\"#444443\" stroke-width=\".5\" cx=\"30.5579\" cy=\"-25.6353\" rx=\"1.6\" ry=\"1.6\"/>\n",
       "<polygon fill=\"#444443\" stroke=\"#444443\" stroke-width=\".5\" points=\"42.3924,-24.3035 45.9681,-22.0287 41.7543,-21.5772 42.3924,-24.3035\"/>\n",
       "</g>\n",
       "</g>\n",
       "</svg>\n"
      ],
      "text/plain": [
       "<graphviz.files.Source at 0x7fa5e0d1fcd0>"
      ]
     },
     "execution_count": 154,
     "metadata": {},
     "output_type": "execute_result"
    }
   ],
   "source": [
    "callviz(varnames=['a','a2'])"
   ]
  }
 ],
 "metadata": {
  "kernelspec": {
   "display_name": "Python 3",
   "language": "python",
   "name": "python3"
  },
  "language_info": {
   "codemirror_mode": {
    "name": "ipython",
    "version": 3
   },
   "file_extension": ".py",
   "mimetype": "text/x-python",
   "name": "python",
   "nbconvert_exporter": "python",
   "pygments_lexer": "ipython3",
   "version": "3.8.6"
  }
 },
 "nbformat": 4,
 "nbformat_minor": 4
}
