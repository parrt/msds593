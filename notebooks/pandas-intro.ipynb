{
 "cells": [
  {
   "cell_type": "markdown",
   "metadata": {},
   "source": [
    "# Introduction to pandas\n",
    "\n",
    "*I'd like to thank Nick Ross who graciously allowed me to derive pieces of this notebook and others from his amazing SQL/pandas course notes.*\n",
    "\n",
    "Pandas is kind of like a table in the database or a spreadsheet that we can manipulate programmatically in Python. Pandas has two primary entities that you must be careful to distinguish to avoid getting confused:\n",
    "\n",
    "* `DataFrame` is 2D tabular data structure; it has both rows and columns\n",
    "* `Series` is a 1D array (colume) data structure\n",
    "\n",
    "While a series looks like  a column from a data frame, they are really separate kinds of objects with different sets of functions that you can apply to them.  It is so important to distinguish between them that I tend to prefix the name of all data frame objects with `df_`, such as `df_salesinfo`.\n",
    "\n",
    "Pandas lets you do a lot of querying, merging, and aggregation just like a database, but these data frames only exist in memory. That means:\n",
    "\n",
    "* you can only operate on data that fits in memory\n",
    "* data frames you construct disappear when you're Python program terminates, as opposed to the persistent disk\n",
    "* pandas is not suitable for use on problems requiring multiple computers\n",
    "\n",
    "Pandas data frames will be your primary data structure until machine learning, when we discuss building more complicated data structures such as decision trees."
   ]
  },
  {
   "cell_type": "markdown",
   "metadata": {},
   "source": [
    "## The first steps of EDA\n",
    "\n",
    "While we go through this material, keep in mind that there is a basic process you can follow when confronted with a new data set. I always start out the following way:\n",
    "\n",
    "1.  How many rows are there?\n",
    "1.   What are the column names and column datatypes?\n",
    "1.  Look at the data to see if the assigned/current column datatypes makes sense\n",
    "1.  Identify categorical columns, nominal and ordinal\n",
    "1.   Compute basic point statistics for numerical columns, such as min/max/mean/median\n",
    "1.   Visualize some or all of the numerical columns to examine their distributions\n",
    "1.  Which columns have missing values? Watch out for sentinel values that are physically present, but indicate missing values (e.g., 0, -1, -999, 'none or unspecified', '')"
   ]
  },
  {
   "cell_type": "markdown",
   "metadata": {},
   "source": [
    "## How to start using pandas\n",
    "\n",
    "First, we have to tell Python that we want to use pandas. I also tell it to import numpy, because I often want to use both of these libraries in conjunction with each other:"
   ]
  },
  {
   "cell_type": "code",
   "execution_count": 1,
   "metadata": {},
   "outputs": [],
   "source": [
    "import numpy as np\n",
    "import pandas as pd"
   ]
  },
  {
   "cell_type": "markdown",
   "metadata": {},
   "source": [
    "Let's load the cars data again from the `data` subdirectory under this `notebooks` directory (since we are already familiar with).  You can [download this file](https://raw.githubusercontent.com/parrt/msds593/master/notebooks/data/cars.csv) onto your own computer wherever you want, but make sure that you specify the appropriate file name when loading it with pandas."
   ]
  },
  {
   "cell_type": "code",
   "execution_count": 2,
   "metadata": {},
   "outputs": [
    {
     "name": "stdout",
     "output_type": "stream",
     "text": [
      "/Users/parrt/github/msds593/notebooks\n"
     ]
    }
   ],
   "source": [
    "# what is my current working directory? use \"pwd\": \"print working directory\"\n",
    "!pwd        # Anything after ! char is sent to Terminal for execution"
   ]
  },
  {
   "cell_type": "code",
   "execution_count": 3,
   "metadata": {},
   "outputs": [
    {
     "name": "stdout",
     "output_type": "stream",
     "text": [
      "total 365392\n",
      "-rw-r--r--@ 1 parrt  staff  116403970 Jan 24  2013 Train.csv\n",
      "-rw-r--r--@ 1 parrt  staff       5996 Aug 15 11:49 cars.csv\n",
      "-rw-r--r--@ 1 parrt  staff      16557 Aug 25 14:59 happy-2015.csv\n",
      "-rw-r--r--@ 1 parrt  staff      17132 Aug 25 14:59 happy-2016.csv\n",
      "-rw-r--r--+ 1 parrt  staff      21963 Aug 15 15:35 kaggle-uber-other-federal.csv\n",
      "-rw-r--r--@ 1 parrt  staff      35959 Aug 15 10:32 organdonation.csv\n",
      "-rw-r--r--@ 1 parrt  staff   70562621 Nov  1  2016 train.json\n"
     ]
    }
   ],
   "source": [
    "!ls -l data # list information about files in the data subdirectory"
   ]
  },
  {
   "cell_type": "markdown",
   "metadata": {},
   "source": [
    "In a spreadsheet, the start of the `cars.csv` file looks like:\n",
    "\n",
    "<img src=\"images/excel.png\" width=\"250\">"
   ]
  },
  {
   "cell_type": "code",
   "execution_count": 4,
   "metadata": {},
   "outputs": [
    {
     "data": {
      "text/html": [
       "<div>\n",
       "<style scoped>\n",
       "    .dataframe tbody tr th:only-of-type {\n",
       "        vertical-align: middle;\n",
       "    }\n",
       "\n",
       "    .dataframe tbody tr th {\n",
       "        vertical-align: top;\n",
       "    }\n",
       "\n",
       "    .dataframe thead th {\n",
       "        text-align: right;\n",
       "    }\n",
       "</style>\n",
       "<table border=\"1\" class=\"dataframe\">\n",
       "  <thead>\n",
       "    <tr style=\"text-align: right;\">\n",
       "      <th></th>\n",
       "      <th>MPG</th>\n",
       "      <th>CYL</th>\n",
       "      <th>ENG</th>\n",
       "      <th>WGT</th>\n",
       "    </tr>\n",
       "  </thead>\n",
       "  <tbody>\n",
       "    <tr>\n",
       "      <th>0</th>\n",
       "      <td>18.0</td>\n",
       "      <td>8</td>\n",
       "      <td>307.0</td>\n",
       "      <td>3504</td>\n",
       "    </tr>\n",
       "    <tr>\n",
       "      <th>1</th>\n",
       "      <td>15.0</td>\n",
       "      <td>8</td>\n",
       "      <td>350.0</td>\n",
       "      <td>3693</td>\n",
       "    </tr>\n",
       "    <tr>\n",
       "      <th>2</th>\n",
       "      <td>18.0</td>\n",
       "      <td>8</td>\n",
       "      <td>318.0</td>\n",
       "      <td>3436</td>\n",
       "    </tr>\n",
       "    <tr>\n",
       "      <th>3</th>\n",
       "      <td>16.0</td>\n",
       "      <td>8</td>\n",
       "      <td>304.0</td>\n",
       "      <td>3433</td>\n",
       "    </tr>\n",
       "    <tr>\n",
       "      <th>4</th>\n",
       "      <td>17.0</td>\n",
       "      <td>8</td>\n",
       "      <td>302.0</td>\n",
       "      <td>3449</td>\n",
       "    </tr>\n",
       "  </tbody>\n",
       "</table>\n",
       "</div>"
      ],
      "text/plain": [
       "    MPG  CYL    ENG   WGT\n",
       "0  18.0    8  307.0  3504\n",
       "1  15.0    8  350.0  3693\n",
       "2  18.0    8  318.0  3436\n",
       "3  16.0    8  304.0  3433\n",
       "4  17.0    8  302.0  3449"
      ]
     },
     "execution_count": 4,
     "metadata": {},
     "output_type": "execute_result"
    }
   ],
   "source": [
    "df_cars = pd.read_csv(\"data/cars.csv\")\n",
    "df_cars.head()"
   ]
  },
  {
   "cell_type": "markdown",
   "metadata": {},
   "source": [
    "###  Exercise 0\n",
    "\n",
    "Just so that you have your notebook set up for today's lab, make sure you can load the CSV file as shown above."
   ]
  },
  {
   "cell_type": "markdown",
   "metadata": {},
   "source": [
    "## Element data types\n",
    "\n",
    "You can learn more about all of the [pandas data types](https://numpy.org/doc/stable/user/basics.types.html), but the key idea is that we must distinguish between integers, floating-point values (reals), boolean, strings, and datetime.\n",
    "\n",
    "|Description| Python | Pandas|\n",
    "| ----------- | --------- | ---- |\n",
    "|Integers| `int`|`int64`|\n",
    "|Text| `str`| `object`|\n",
    "|Double/Float| `float`|`float64` |\n",
    "|Boolean (T/F)| `bool`| `bool`|\n",
    "|Date/Time| `datetime` | `datetime64`|\n",
    "|Categorical| n/a | `category` (held internally as an integer)|\n",
    "\n",
    "The reason that we emphasize knowing types is that these objects behave differently and respond to a different set of functions, which we'll see shortly.\n",
    "\n",
    "Let me drive home this point about types and values.  All entities in Python have both a value and associated type; everything is just bits in the computer and so Python needs to know how to interpret the bits as a string or number or date. The Python literal `34` has value 34 and type `int`.  The Python literal `'hi'` has value *hi* and type `str`."
   ]
  },
  {
   "cell_type": "code",
   "execution_count": 5,
   "metadata": {},
   "outputs": [
    {
     "data": {
      "text/plain": [
       "(int, str, int, str, 'int', 'str')"
      ]
     },
     "execution_count": 5,
     "metadata": {},
     "output_type": "execute_result"
    }
   ],
   "source": [
    "a = 34\n",
    "b = 'hi'\n",
    "type(a), type(b), a.__class__, b.__class__, a.__class__.__name__, b.__class__.__name__"
   ]
  },
  {
   "cell_type": "markdown",
   "metadata": {},
   "source": [
    "Here are some more complicated types:"
   ]
  },
  {
   "cell_type": "code",
   "execution_count": 6,
   "metadata": {},
   "outputs": [
    {
     "data": {
      "text/plain": [
       "(list, numpy.ndarray)"
      ]
     },
     "execution_count": 6,
     "metadata": {},
     "output_type": "execute_result"
    }
   ],
   "source": [
    "type([1,2,3]), type(np.array([1,2,3]))"
   ]
  },
  {
   "cell_type": "code",
   "execution_count": 7,
   "metadata": {},
   "outputs": [
    {
     "data": {
      "text/plain": [
       "(pandas.core.frame.DataFrame, pandas.core.series.Series)"
      ]
     },
     "execution_count": 7,
     "metadata": {},
     "output_type": "execute_result"
    }
   ],
   "source": [
    "type(df_cars), type(df_cars['MPG'])  # `[..]` indexing a data frame returns a column (as a series object)"
   ]
  },
  {
   "cell_type": "code",
   "execution_count": 8,
   "metadata": {},
   "outputs": [
    {
     "data": {
      "text/plain": [
       "(float, dtype('float64'))"
      ]
     },
     "execution_count": 8,
     "metadata": {},
     "output_type": "execute_result"
    }
   ],
   "source": [
    "type(3.14159), df_cars['MPG'].dtype # what is data type of a float and the MPG column?"
   ]
  },
  {
   "cell_type": "markdown",
   "metadata": {},
   "source": [
    "You can think of `float` and  pandas' `float64` as the same thing, but they are technically distinct types in the Python runtime environment; they could behave differently, depending on the operation you perform."
   ]
  },
  {
   "cell_type": "markdown",
   "metadata": {},
   "source": [
    "### Reading in nonnumeric data\n",
    "\n",
    "Next, let's look at some public domain data from [Kaggle's Uber Pickups in New York City competition](https://www.kaggle.com/fivethirtyeight/uber-pickups-in-new-york-city). (The license says public domain so it should be okay to host the 100 rows in this repository for educational purposes.)  The goal is to look at date-related, string, and [categorical data types](https://pandas.pydata.org/pandas-docs/stable/user_guide/categorical.html)."
   ]
  },
  {
   "cell_type": "code",
   "execution_count": 9,
   "metadata": {},
   "outputs": [
    {
     "data": {
      "text/html": [
       "<div>\n",
       "<style scoped>\n",
       "    .dataframe tbody tr th:only-of-type {\n",
       "        vertical-align: middle;\n",
       "    }\n",
       "\n",
       "    .dataframe tbody tr th {\n",
       "        vertical-align: top;\n",
       "    }\n",
       "\n",
       "    .dataframe thead th {\n",
       "        text-align: right;\n",
       "    }\n",
       "</style>\n",
       "<table border=\"1\" class=\"dataframe\">\n",
       "  <thead>\n",
       "    <tr style=\"text-align: right;\">\n",
       "      <th></th>\n",
       "      <th>Date</th>\n",
       "      <th>Time</th>\n",
       "      <th>PU_Address</th>\n",
       "      <th>DO_Address</th>\n",
       "      <th>Routing Details</th>\n",
       "      <th>PU_Address.1</th>\n",
       "      <th>Status</th>\n",
       "    </tr>\n",
       "  </thead>\n",
       "  <tbody>\n",
       "    <tr>\n",
       "      <th>0</th>\n",
       "      <td>07/01/2014</td>\n",
       "      <td>07:15 AM</td>\n",
       "      <td>Brooklyn Museum, 200 Eastern Pkwy., BK NY;</td>\n",
       "      <td>1 Brookdale Plaza, BK NY;</td>\n",
       "      <td>PU: Brooklyn Museum, 200 Eastern Pkwy., BK NY;...</td>\n",
       "      <td>Brooklyn Museum, 200 Eastern Pkwy., BK NY; DO:...</td>\n",
       "      <td>Cancelled</td>\n",
       "    </tr>\n",
       "    <tr>\n",
       "      <th>1</th>\n",
       "      <td>07/01/2014</td>\n",
       "      <td>07:30 AM</td>\n",
       "      <td>33 Robert Dr., Short Hills NJ;</td>\n",
       "      <td>John F Kennedy International Airport, vitona A...</td>\n",
       "      <td>PU: 33 Robert Dr., Short Hills NJ; DO: John F ...</td>\n",
       "      <td>33 Robert Dr., Short Hills NJ; DO: John F Kenn...</td>\n",
       "      <td>Arrived</td>\n",
       "    </tr>\n",
       "    <tr>\n",
       "      <th>2</th>\n",
       "      <td>07/01/2014</td>\n",
       "      <td>08:00 AM</td>\n",
       "      <td>60 Glenmore Ave., BK NY;</td>\n",
       "      <td>2171 Nostrand Ave., BK NY;</td>\n",
       "      <td>PU: 60 Glenmore Ave., BK NY; DO: 2171 Nostrand...</td>\n",
       "      <td>60 Glenmore Ave., BK NY; DO: 2171 Nostrand Ave...</td>\n",
       "      <td>Assigned</td>\n",
       "    </tr>\n",
       "  </tbody>\n",
       "</table>\n",
       "</div>"
      ],
      "text/plain": [
       "         Date      Time                                  PU_Address  \\\n",
       "0  07/01/2014  07:15 AM  Brooklyn Museum, 200 Eastern Pkwy., BK NY;   \n",
       "1  07/01/2014  07:30 AM              33 Robert Dr., Short Hills NJ;   \n",
       "2  07/01/2014  08:00 AM                    60 Glenmore Ave., BK NY;   \n",
       "\n",
       "                                          DO_Address  \\\n",
       "0                         1 Brookdale Plaza, BK NY;    \n",
       "1  John F Kennedy International Airport, vitona A...   \n",
       "2                        2171 Nostrand Ave., BK NY;    \n",
       "\n",
       "                                     Routing Details  \\\n",
       "0  PU: Brooklyn Museum, 200 Eastern Pkwy., BK NY;...   \n",
       "1  PU: 33 Robert Dr., Short Hills NJ; DO: John F ...   \n",
       "2  PU: 60 Glenmore Ave., BK NY; DO: 2171 Nostrand...   \n",
       "\n",
       "                                        PU_Address.1     Status  \n",
       "0  Brooklyn Museum, 200 Eastern Pkwy., BK NY; DO:...  Cancelled  \n",
       "1  33 Robert Dr., Short Hills NJ; DO: John F Kenn...    Arrived  \n",
       "2  60 Glenmore Ave., BK NY; DO: 2171 Nostrand Ave...   Assigned  "
      ]
     },
     "execution_count": 9,
     "metadata": {},
     "output_type": "execute_result"
    }
   ],
   "source": [
    "df_uber = pd.read_csv(\"data/kaggle-uber-other-federal.csv\")\n",
    "df_uber.head(3)"
   ]
  },
  {
   "cell_type": "code",
   "execution_count": 10,
   "metadata": {},
   "outputs": [
    {
     "name": "stdout",
     "output_type": "stream",
     "text": [
      "<class 'pandas.core.frame.DataFrame'>\n",
      "RangeIndex: 99 entries, 0 to 98\n",
      "Data columns (total 7 columns):\n",
      " #   Column           Non-Null Count  Dtype \n",
      "---  ------           --------------  ----- \n",
      " 0   Date             99 non-null     object\n",
      " 1   Time             99 non-null     object\n",
      " 2   PU_Address       99 non-null     object\n",
      " 3   DO_Address       98 non-null     object\n",
      " 4   Routing Details  99 non-null     object\n",
      " 5   PU_Address.1     99 non-null     object\n",
      " 6   Status           99 non-null     object\n",
      "dtypes: object(7)\n",
      "memory usage: 5.5+ KB\n"
     ]
    }
   ],
   "source": [
    "df_uber.info() # everything looks like a string (object)"
   ]
  },
  {
   "cell_type": "markdown",
   "metadata": {},
   "source": [
    "Ooops.  It read everything in as a string (`object`). Let's try this again being more specific using a dictionary to specify the type of `Status` and tell it to parse two of the columns as date related types:"
   ]
  },
  {
   "cell_type": "code",
   "execution_count": 11,
   "metadata": {},
   "outputs": [
    {
     "name": "stdout",
     "output_type": "stream",
     "text": [
      "<class 'pandas.core.frame.DataFrame'>\n",
      "RangeIndex: 99 entries, 0 to 98\n",
      "Data columns (total 7 columns):\n",
      " #   Column           Non-Null Count  Dtype         \n",
      "---  ------           --------------  -----         \n",
      " 0   Date             99 non-null     datetime64[ns]\n",
      " 1   Time             99 non-null     datetime64[ns]\n",
      " 2   PU_Address       99 non-null     object        \n",
      " 3   DO_Address       98 non-null     object        \n",
      " 4   Routing Details  99 non-null     object        \n",
      " 5   PU_Address.1     99 non-null     object        \n",
      " 6   Status           99 non-null     category      \n",
      "dtypes: category(1), datetime64[ns](2), object(4)\n",
      "memory usage: 5.0+ KB\n"
     ]
    }
   ],
   "source": [
    "df_uber = pd.read_csv(\"data/kaggle-uber-other-federal.csv\",\n",
    "                      parse_dates=['Date','Time'],\n",
    "                      dtype={'Status':'category'})\n",
    "df_uber.info()"
   ]
  },
  {
   "cell_type": "code",
   "execution_count": 137,
   "metadata": {},
   "outputs": [
    {
     "data": {
      "text/html": [
       "<div>\n",
       "<style scoped>\n",
       "    .dataframe tbody tr th:only-of-type {\n",
       "        vertical-align: middle;\n",
       "    }\n",
       "\n",
       "    .dataframe tbody tr th {\n",
       "        vertical-align: top;\n",
       "    }\n",
       "\n",
       "    .dataframe thead th {\n",
       "        text-align: right;\n",
       "    }\n",
       "</style>\n",
       "<table border=\"1\" class=\"dataframe\">\n",
       "  <thead>\n",
       "    <tr style=\"text-align: right;\">\n",
       "      <th></th>\n",
       "      <th>Date</th>\n",
       "      <th>Time</th>\n",
       "      <th>PU_Address</th>\n",
       "      <th>DO_Address</th>\n",
       "      <th>Routing Details</th>\n",
       "      <th>PU_Address.1</th>\n",
       "      <th>Status</th>\n",
       "    </tr>\n",
       "  </thead>\n",
       "  <tbody>\n",
       "    <tr>\n",
       "      <th>0</th>\n",
       "      <td>2014-07-01</td>\n",
       "      <td>2020-09-10 07:15:00</td>\n",
       "      <td>Brooklyn Museum, 200 Eastern Pkwy., BK NY;</td>\n",
       "      <td>1 Brookdale Plaza, BK NY;</td>\n",
       "      <td>PU: Brooklyn Museum, 200 Eastern Pkwy., BK NY;...</td>\n",
       "      <td>Brooklyn Museum, 200 Eastern Pkwy., BK NY; DO:...</td>\n",
       "      <td>Cancelled</td>\n",
       "    </tr>\n",
       "    <tr>\n",
       "      <th>1</th>\n",
       "      <td>2014-07-01</td>\n",
       "      <td>2020-09-10 07:30:00</td>\n",
       "      <td>33 Robert Dr., Short Hills NJ;</td>\n",
       "      <td>John F Kennedy International Airport, vitona A...</td>\n",
       "      <td>PU: 33 Robert Dr., Short Hills NJ; DO: John F ...</td>\n",
       "      <td>33 Robert Dr., Short Hills NJ; DO: John F Kenn...</td>\n",
       "      <td>Arrived</td>\n",
       "    </tr>\n",
       "  </tbody>\n",
       "</table>\n",
       "</div>"
      ],
      "text/plain": [
       "        Date                Time                                  PU_Address  \\\n",
       "0 2014-07-01 2020-09-10 07:15:00  Brooklyn Museum, 200 Eastern Pkwy., BK NY;   \n",
       "1 2014-07-01 2020-09-10 07:30:00              33 Robert Dr., Short Hills NJ;   \n",
       "\n",
       "                                          DO_Address  \\\n",
       "0                         1 Brookdale Plaza, BK NY;    \n",
       "1  John F Kennedy International Airport, vitona A...   \n",
       "\n",
       "                                     Routing Details  \\\n",
       "0  PU: Brooklyn Museum, 200 Eastern Pkwy., BK NY;...   \n",
       "1  PU: 33 Robert Dr., Short Hills NJ; DO: John F ...   \n",
       "\n",
       "                                        PU_Address.1     Status  \n",
       "0  Brooklyn Museum, 200 Eastern Pkwy., BK NY; DO:...  Cancelled  \n",
       "1  33 Robert Dr., Short Hills NJ; DO: John F Kenn...    Arrived  "
      ]
     },
     "execution_count": 137,
     "metadata": {},
     "output_type": "execute_result"
    }
   ],
   "source": [
    "df_uber.head(2)"
   ]
  },
  {
   "cell_type": "markdown",
   "metadata": {},
   "source": [
    "Ooops. That `Time` column got today's date added on. Convert to just time info:"
   ]
  },
  {
   "cell_type": "code",
   "execution_count": 142,
   "metadata": {},
   "outputs": [
    {
     "data": {
      "text/html": [
       "<div>\n",
       "<style scoped>\n",
       "    .dataframe tbody tr th:only-of-type {\n",
       "        vertical-align: middle;\n",
       "    }\n",
       "\n",
       "    .dataframe tbody tr th {\n",
       "        vertical-align: top;\n",
       "    }\n",
       "\n",
       "    .dataframe thead th {\n",
       "        text-align: right;\n",
       "    }\n",
       "</style>\n",
       "<table border=\"1\" class=\"dataframe\">\n",
       "  <thead>\n",
       "    <tr style=\"text-align: right;\">\n",
       "      <th></th>\n",
       "      <th>Date</th>\n",
       "      <th>Time</th>\n",
       "      <th>PU_Address</th>\n",
       "      <th>DO_Address</th>\n",
       "      <th>Routing Details</th>\n",
       "      <th>PU_Address.1</th>\n",
       "      <th>Status</th>\n",
       "    </tr>\n",
       "  </thead>\n",
       "  <tbody>\n",
       "    <tr>\n",
       "      <th>0</th>\n",
       "      <td>2014-07-01</td>\n",
       "      <td>07:15:00</td>\n",
       "      <td>Brooklyn Museum, 200 Eastern Pkwy., BK NY;</td>\n",
       "      <td>1 Brookdale Plaza, BK NY;</td>\n",
       "      <td>PU: Brooklyn Museum, 200 Eastern Pkwy., BK NY;...</td>\n",
       "      <td>Brooklyn Museum, 200 Eastern Pkwy., BK NY; DO:...</td>\n",
       "      <td>Cancelled</td>\n",
       "    </tr>\n",
       "    <tr>\n",
       "      <th>1</th>\n",
       "      <td>2014-07-01</td>\n",
       "      <td>07:30:00</td>\n",
       "      <td>33 Robert Dr., Short Hills NJ;</td>\n",
       "      <td>John F Kennedy International Airport, vitona A...</td>\n",
       "      <td>PU: 33 Robert Dr., Short Hills NJ; DO: John F ...</td>\n",
       "      <td>33 Robert Dr., Short Hills NJ; DO: John F Kenn...</td>\n",
       "      <td>Arrived</td>\n",
       "    </tr>\n",
       "  </tbody>\n",
       "</table>\n",
       "</div>"
      ],
      "text/plain": [
       "        Date      Time                                  PU_Address  \\\n",
       "0 2014-07-01  07:15:00  Brooklyn Museum, 200 Eastern Pkwy., BK NY;   \n",
       "1 2014-07-01  07:30:00              33 Robert Dr., Short Hills NJ;   \n",
       "\n",
       "                                          DO_Address  \\\n",
       "0                         1 Brookdale Plaza, BK NY;    \n",
       "1  John F Kennedy International Airport, vitona A...   \n",
       "\n",
       "                                     Routing Details  \\\n",
       "0  PU: Brooklyn Museum, 200 Eastern Pkwy., BK NY;...   \n",
       "1  PU: 33 Robert Dr., Short Hills NJ; DO: John F ...   \n",
       "\n",
       "                                        PU_Address.1     Status  \n",
       "0  Brooklyn Museum, 200 Eastern Pkwy., BK NY; DO:...  Cancelled  \n",
       "1  33 Robert Dr., Short Hills NJ; DO: John F Kenn...    Arrived  "
      ]
     },
     "execution_count": 142,
     "metadata": {},
     "output_type": "execute_result"
    }
   ],
   "source": [
    "df_uber['Time'] = df_uber['Time'].dt.time\n",
    "df_uber.head(2)"
   ]
  },
  {
   "cell_type": "markdown",
   "metadata": {},
   "source": [
    "### Exercise 1\n",
    "\n",
    "1. Make sure that you can load the `kaggle-uber-other-federal.csv` data into a data frame  with the specified column type overrides for dates and categorical `Status`.\n",
    "1. Display the `Date` column\n",
    "1. Display the `Status` column"
   ]
  },
  {
   "cell_type": "markdown",
   "metadata": {},
   "source": [
    "## Getting an initial sniff of the data\n",
    "\n",
    "The first step in EDA (of course, after you've decided what problem you're trying to solve) is to get a basic idea of what the data looks like. We've already seen how to get all of the data types:"
   ]
  },
  {
   "cell_type": "code",
   "execution_count": 13,
   "metadata": {},
   "outputs": [
    {
     "name": "stdout",
     "output_type": "stream",
     "text": [
      "<class 'pandas.core.frame.DataFrame'>\n",
      "RangeIndex: 392 entries, 0 to 391\n",
      "Data columns (total 4 columns):\n",
      " #   Column  Non-Null Count  Dtype  \n",
      "---  ------  --------------  -----  \n",
      " 0   MPG     392 non-null    float64\n",
      " 1   CYL     392 non-null    int64  \n",
      " 2   ENG     392 non-null    float64\n",
      " 3   WGT     392 non-null    int64  \n",
      "dtypes: float64(2), int64(2)\n",
      "memory usage: 12.4 KB\n"
     ]
    }
   ],
   "source": [
    "df_cars.info()"
   ]
  },
  {
   "cell_type": "markdown",
   "metadata": {},
   "source": [
    "We also want to know the names of the columns which is provided by `info()` but we can ask for it explicitly, which is useful because we sometimes want to operate on the column names:"
   ]
  },
  {
   "cell_type": "code",
   "execution_count": 14,
   "metadata": {},
   "outputs": [
    {
     "data": {
      "text/plain": [
       "(Index(['MPG', 'CYL', 'ENG', 'WGT'], dtype='object'),\n",
       " pandas.core.indexes.base.Index)"
      ]
     },
     "execution_count": 14,
     "metadata": {},
     "output_type": "execute_result"
    }
   ],
   "source": [
    "df_cars.columns, type(df_cars.columns) # gets a pandas `Index` object"
   ]
  },
  {
   "cell_type": "code",
   "execution_count": 15,
   "metadata": {},
   "outputs": [
    {
     "data": {
      "text/plain": [
       "(array(['MPG', 'CYL', 'ENG', 'WGT'], dtype=object), numpy.ndarray)"
      ]
     },
     "execution_count": 15,
     "metadata": {},
     "output_type": "execute_result"
    }
   ],
   "source": [
    "df_cars.columns.values, type(df_cars.columns.values) # gets a numpy version"
   ]
  },
  {
   "cell_type": "code",
   "execution_count": 16,
   "metadata": {},
   "outputs": [
    {
     "data": {
      "text/plain": [
       "['MPG', 'CYL', 'ENG', 'WGT']"
      ]
     },
     "execution_count": 16,
     "metadata": {},
     "output_type": "execute_result"
    }
   ],
   "source": [
    "list(df_cars.columns) # get a simple Python list of column names"
   ]
  },
  {
   "cell_type": "markdown",
   "metadata": {},
   "source": [
    "Next, we want to know how many rows there are:"
   ]
  },
  {
   "cell_type": "code",
   "execution_count": 17,
   "metadata": {},
   "outputs": [
    {
     "data": {
      "text/plain": [
       "392"
      ]
     },
     "execution_count": 17,
     "metadata": {},
     "output_type": "execute_result"
    }
   ],
   "source": [
    "len(df_cars)"
   ]
  },
  {
   "cell_type": "markdown",
   "metadata": {},
   "source": [
    "The next thing to do is probably to get some summary statistics about the data, at least for numeric columns, which is what we have in the cars data set:"
   ]
  },
  {
   "cell_type": "code",
   "execution_count": 18,
   "metadata": {},
   "outputs": [
    {
     "data": {
      "text/html": [
       "<div>\n",
       "<style scoped>\n",
       "    .dataframe tbody tr th:only-of-type {\n",
       "        vertical-align: middle;\n",
       "    }\n",
       "\n",
       "    .dataframe tbody tr th {\n",
       "        vertical-align: top;\n",
       "    }\n",
       "\n",
       "    .dataframe thead th {\n",
       "        text-align: right;\n",
       "    }\n",
       "</style>\n",
       "<table border=\"1\" class=\"dataframe\">\n",
       "  <thead>\n",
       "    <tr style=\"text-align: right;\">\n",
       "      <th></th>\n",
       "      <th>MPG</th>\n",
       "      <th>CYL</th>\n",
       "      <th>ENG</th>\n",
       "      <th>WGT</th>\n",
       "    </tr>\n",
       "  </thead>\n",
       "  <tbody>\n",
       "    <tr>\n",
       "      <th>count</th>\n",
       "      <td>392.000000</td>\n",
       "      <td>392.000000</td>\n",
       "      <td>392.000000</td>\n",
       "      <td>392.000000</td>\n",
       "    </tr>\n",
       "    <tr>\n",
       "      <th>mean</th>\n",
       "      <td>23.445918</td>\n",
       "      <td>5.471939</td>\n",
       "      <td>194.411990</td>\n",
       "      <td>2977.584184</td>\n",
       "    </tr>\n",
       "    <tr>\n",
       "      <th>std</th>\n",
       "      <td>7.805007</td>\n",
       "      <td>1.705783</td>\n",
       "      <td>104.644004</td>\n",
       "      <td>849.402560</td>\n",
       "    </tr>\n",
       "    <tr>\n",
       "      <th>min</th>\n",
       "      <td>9.000000</td>\n",
       "      <td>3.000000</td>\n",
       "      <td>68.000000</td>\n",
       "      <td>1613.000000</td>\n",
       "    </tr>\n",
       "    <tr>\n",
       "      <th>25%</th>\n",
       "      <td>17.000000</td>\n",
       "      <td>4.000000</td>\n",
       "      <td>105.000000</td>\n",
       "      <td>2225.250000</td>\n",
       "    </tr>\n",
       "    <tr>\n",
       "      <th>50%</th>\n",
       "      <td>22.750000</td>\n",
       "      <td>4.000000</td>\n",
       "      <td>151.000000</td>\n",
       "      <td>2803.500000</td>\n",
       "    </tr>\n",
       "    <tr>\n",
       "      <th>75%</th>\n",
       "      <td>29.000000</td>\n",
       "      <td>8.000000</td>\n",
       "      <td>275.750000</td>\n",
       "      <td>3614.750000</td>\n",
       "    </tr>\n",
       "    <tr>\n",
       "      <th>max</th>\n",
       "      <td>46.599998</td>\n",
       "      <td>8.000000</td>\n",
       "      <td>455.000000</td>\n",
       "      <td>5140.000000</td>\n",
       "    </tr>\n",
       "  </tbody>\n",
       "</table>\n",
       "</div>"
      ],
      "text/plain": [
       "              MPG         CYL         ENG          WGT\n",
       "count  392.000000  392.000000  392.000000   392.000000\n",
       "mean    23.445918    5.471939  194.411990  2977.584184\n",
       "std      7.805007    1.705783  104.644004   849.402560\n",
       "min      9.000000    3.000000   68.000000  1613.000000\n",
       "25%     17.000000    4.000000  105.000000  2225.250000\n",
       "50%     22.750000    4.000000  151.000000  2803.500000\n",
       "75%     29.000000    8.000000  275.750000  3614.750000\n",
       "max     46.599998    8.000000  455.000000  5140.000000"
      ]
     },
     "execution_count": 18,
     "metadata": {},
     "output_type": "execute_result"
    }
   ],
   "source": [
    "df_cars.describe()"
   ]
  },
  {
   "cell_type": "code",
   "execution_count": 19,
   "metadata": {},
   "outputs": [
    {
     "data": {
      "text/plain": [
       "(23.445918359693874, 9190.799997)"
      ]
     },
     "execution_count": 19,
     "metadata": {},
     "output_type": "execute_result"
    }
   ],
   "source": [
    "mpg = df_cars['MPG']\n",
    "mpg.mean(), mpg.sum()"
   ]
  },
  {
   "cell_type": "code",
   "execution_count": 20,
   "metadata": {},
   "outputs": [
    {
     "data": {
      "text/plain": [
       "0      0.058632\n",
       "1      0.042857\n",
       "2      0.056604\n",
       "3      0.052632\n",
       "4      0.056291\n",
       "         ...   \n",
       "387    0.192857\n",
       "388    0.453608\n",
       "389    0.237037\n",
       "390    0.233333\n",
       "391    0.260504\n",
       "Length: 392, dtype: float64"
      ]
     },
     "execution_count": 20,
     "metadata": {},
     "output_type": "execute_result"
    }
   ],
   "source": [
    "df_cars['MPG'] / df_cars['ENG']  # element-wise division of column"
   ]
  },
  {
   "cell_type": "markdown",
   "metadata": {},
   "source": [
    "Here's a cool trick for formatting the output of dataframes in notebooks:"
   ]
  },
  {
   "cell_type": "code",
   "execution_count": 21,
   "metadata": {},
   "outputs": [
    {
     "data": {
      "text/html": [
       "<style  type=\"text/css\" >\n",
       "</style><table id=\"T_5fe1d226_f39f_11ea_b9d8_ac87a3395368\" ><thead>    <tr>        <th class=\"blank level0\" ></th>        <th class=\"col_heading level0 col0\" >MPG</th>        <th class=\"col_heading level0 col1\" >CYL</th>        <th class=\"col_heading level0 col2\" >ENG</th>        <th class=\"col_heading level0 col3\" >WGT</th>    </tr></thead><tbody>\n",
       "                <tr>\n",
       "                        <th id=\"T_5fe1d226_f39f_11ea_b9d8_ac87a3395368level0_row0\" class=\"row_heading level0 row0\" >count</th>\n",
       "                        <td id=\"T_5fe1d226_f39f_11ea_b9d8_ac87a3395368row0_col0\" class=\"data row0 col0\" >392.00</td>\n",
       "                        <td id=\"T_5fe1d226_f39f_11ea_b9d8_ac87a3395368row0_col1\" class=\"data row0 col1\" >392.00</td>\n",
       "                        <td id=\"T_5fe1d226_f39f_11ea_b9d8_ac87a3395368row0_col2\" class=\"data row0 col2\" >392.00</td>\n",
       "                        <td id=\"T_5fe1d226_f39f_11ea_b9d8_ac87a3395368row0_col3\" class=\"data row0 col3\" >392.00</td>\n",
       "            </tr>\n",
       "            <tr>\n",
       "                        <th id=\"T_5fe1d226_f39f_11ea_b9d8_ac87a3395368level0_row1\" class=\"row_heading level0 row1\" >mean</th>\n",
       "                        <td id=\"T_5fe1d226_f39f_11ea_b9d8_ac87a3395368row1_col0\" class=\"data row1 col0\" >23.45</td>\n",
       "                        <td id=\"T_5fe1d226_f39f_11ea_b9d8_ac87a3395368row1_col1\" class=\"data row1 col1\" >5.47</td>\n",
       "                        <td id=\"T_5fe1d226_f39f_11ea_b9d8_ac87a3395368row1_col2\" class=\"data row1 col2\" >194.41</td>\n",
       "                        <td id=\"T_5fe1d226_f39f_11ea_b9d8_ac87a3395368row1_col3\" class=\"data row1 col3\" >2977.58</td>\n",
       "            </tr>\n",
       "            <tr>\n",
       "                        <th id=\"T_5fe1d226_f39f_11ea_b9d8_ac87a3395368level0_row2\" class=\"row_heading level0 row2\" >std</th>\n",
       "                        <td id=\"T_5fe1d226_f39f_11ea_b9d8_ac87a3395368row2_col0\" class=\"data row2 col0\" >7.81</td>\n",
       "                        <td id=\"T_5fe1d226_f39f_11ea_b9d8_ac87a3395368row2_col1\" class=\"data row2 col1\" >1.71</td>\n",
       "                        <td id=\"T_5fe1d226_f39f_11ea_b9d8_ac87a3395368row2_col2\" class=\"data row2 col2\" >104.64</td>\n",
       "                        <td id=\"T_5fe1d226_f39f_11ea_b9d8_ac87a3395368row2_col3\" class=\"data row2 col3\" >849.40</td>\n",
       "            </tr>\n",
       "            <tr>\n",
       "                        <th id=\"T_5fe1d226_f39f_11ea_b9d8_ac87a3395368level0_row3\" class=\"row_heading level0 row3\" >min</th>\n",
       "                        <td id=\"T_5fe1d226_f39f_11ea_b9d8_ac87a3395368row3_col0\" class=\"data row3 col0\" >9.00</td>\n",
       "                        <td id=\"T_5fe1d226_f39f_11ea_b9d8_ac87a3395368row3_col1\" class=\"data row3 col1\" >3.00</td>\n",
       "                        <td id=\"T_5fe1d226_f39f_11ea_b9d8_ac87a3395368row3_col2\" class=\"data row3 col2\" >68.00</td>\n",
       "                        <td id=\"T_5fe1d226_f39f_11ea_b9d8_ac87a3395368row3_col3\" class=\"data row3 col3\" >1613.00</td>\n",
       "            </tr>\n",
       "            <tr>\n",
       "                        <th id=\"T_5fe1d226_f39f_11ea_b9d8_ac87a3395368level0_row4\" class=\"row_heading level0 row4\" >25%</th>\n",
       "                        <td id=\"T_5fe1d226_f39f_11ea_b9d8_ac87a3395368row4_col0\" class=\"data row4 col0\" >17.00</td>\n",
       "                        <td id=\"T_5fe1d226_f39f_11ea_b9d8_ac87a3395368row4_col1\" class=\"data row4 col1\" >4.00</td>\n",
       "                        <td id=\"T_5fe1d226_f39f_11ea_b9d8_ac87a3395368row4_col2\" class=\"data row4 col2\" >105.00</td>\n",
       "                        <td id=\"T_5fe1d226_f39f_11ea_b9d8_ac87a3395368row4_col3\" class=\"data row4 col3\" >2225.25</td>\n",
       "            </tr>\n",
       "            <tr>\n",
       "                        <th id=\"T_5fe1d226_f39f_11ea_b9d8_ac87a3395368level0_row5\" class=\"row_heading level0 row5\" >50%</th>\n",
       "                        <td id=\"T_5fe1d226_f39f_11ea_b9d8_ac87a3395368row5_col0\" class=\"data row5 col0\" >22.75</td>\n",
       "                        <td id=\"T_5fe1d226_f39f_11ea_b9d8_ac87a3395368row5_col1\" class=\"data row5 col1\" >4.00</td>\n",
       "                        <td id=\"T_5fe1d226_f39f_11ea_b9d8_ac87a3395368row5_col2\" class=\"data row5 col2\" >151.00</td>\n",
       "                        <td id=\"T_5fe1d226_f39f_11ea_b9d8_ac87a3395368row5_col3\" class=\"data row5 col3\" >2803.50</td>\n",
       "            </tr>\n",
       "            <tr>\n",
       "                        <th id=\"T_5fe1d226_f39f_11ea_b9d8_ac87a3395368level0_row6\" class=\"row_heading level0 row6\" >75%</th>\n",
       "                        <td id=\"T_5fe1d226_f39f_11ea_b9d8_ac87a3395368row6_col0\" class=\"data row6 col0\" >29.00</td>\n",
       "                        <td id=\"T_5fe1d226_f39f_11ea_b9d8_ac87a3395368row6_col1\" class=\"data row6 col1\" >8.00</td>\n",
       "                        <td id=\"T_5fe1d226_f39f_11ea_b9d8_ac87a3395368row6_col2\" class=\"data row6 col2\" >275.75</td>\n",
       "                        <td id=\"T_5fe1d226_f39f_11ea_b9d8_ac87a3395368row6_col3\" class=\"data row6 col3\" >3614.75</td>\n",
       "            </tr>\n",
       "            <tr>\n",
       "                        <th id=\"T_5fe1d226_f39f_11ea_b9d8_ac87a3395368level0_row7\" class=\"row_heading level0 row7\" >max</th>\n",
       "                        <td id=\"T_5fe1d226_f39f_11ea_b9d8_ac87a3395368row7_col0\" class=\"data row7 col0\" >46.60</td>\n",
       "                        <td id=\"T_5fe1d226_f39f_11ea_b9d8_ac87a3395368row7_col1\" class=\"data row7 col1\" >8.00</td>\n",
       "                        <td id=\"T_5fe1d226_f39f_11ea_b9d8_ac87a3395368row7_col2\" class=\"data row7 col2\" >455.00</td>\n",
       "                        <td id=\"T_5fe1d226_f39f_11ea_b9d8_ac87a3395368row7_col3\" class=\"data row7 col3\" >5140.00</td>\n",
       "            </tr>\n",
       "    </tbody></table>"
      ],
      "text/plain": [
       "<pandas.io.formats.style.Styler at 0x7ff640687fa0>"
      ]
     },
     "execution_count": 21,
     "metadata": {},
     "output_type": "execute_result"
    }
   ],
   "source": [
    "df_cars.describe().style.format(\"{:.2f}\")"
   ]
  },
  {
   "cell_type": "code",
   "execution_count": 22,
   "metadata": {},
   "outputs": [
    {
     "data": {
      "text/html": [
       "<style  type=\"text/css\" >\n",
       "</style><table id=\"T_5fe30696_f39f_11ea_b9d8_ac87a3395368\" ><thead>    <tr>        <th class=\"blank level0\" ></th>        <th class=\"col_heading level0 col0\" >MPG</th>        <th class=\"col_heading level0 col1\" >CYL</th>        <th class=\"col_heading level0 col2\" >ENG</th>        <th class=\"col_heading level0 col3\" >WGT</th>    </tr></thead><tbody>\n",
       "                <tr>\n",
       "                        <th id=\"T_5fe30696_f39f_11ea_b9d8_ac87a3395368level0_row0\" class=\"row_heading level0 row0\" >0</th>\n",
       "                        <td id=\"T_5fe30696_f39f_11ea_b9d8_ac87a3395368row0_col0\" class=\"data row0 col0\" >18.00</td>\n",
       "                        <td id=\"T_5fe30696_f39f_11ea_b9d8_ac87a3395368row0_col1\" class=\"data row0 col1\" >8.00</td>\n",
       "                        <td id=\"T_5fe30696_f39f_11ea_b9d8_ac87a3395368row0_col2\" class=\"data row0 col2\" >307.00</td>\n",
       "                        <td id=\"T_5fe30696_f39f_11ea_b9d8_ac87a3395368row0_col3\" class=\"data row0 col3\" >3504.00</td>\n",
       "            </tr>\n",
       "            <tr>\n",
       "                        <th id=\"T_5fe30696_f39f_11ea_b9d8_ac87a3395368level0_row1\" class=\"row_heading level0 row1\" >1</th>\n",
       "                        <td id=\"T_5fe30696_f39f_11ea_b9d8_ac87a3395368row1_col0\" class=\"data row1 col0\" >15.00</td>\n",
       "                        <td id=\"T_5fe30696_f39f_11ea_b9d8_ac87a3395368row1_col1\" class=\"data row1 col1\" >8.00</td>\n",
       "                        <td id=\"T_5fe30696_f39f_11ea_b9d8_ac87a3395368row1_col2\" class=\"data row1 col2\" >350.00</td>\n",
       "                        <td id=\"T_5fe30696_f39f_11ea_b9d8_ac87a3395368row1_col3\" class=\"data row1 col3\" >3693.00</td>\n",
       "            </tr>\n",
       "            <tr>\n",
       "                        <th id=\"T_5fe30696_f39f_11ea_b9d8_ac87a3395368level0_row2\" class=\"row_heading level0 row2\" >2</th>\n",
       "                        <td id=\"T_5fe30696_f39f_11ea_b9d8_ac87a3395368row2_col0\" class=\"data row2 col0\" >18.00</td>\n",
       "                        <td id=\"T_5fe30696_f39f_11ea_b9d8_ac87a3395368row2_col1\" class=\"data row2 col1\" >8.00</td>\n",
       "                        <td id=\"T_5fe30696_f39f_11ea_b9d8_ac87a3395368row2_col2\" class=\"data row2 col2\" >318.00</td>\n",
       "                        <td id=\"T_5fe30696_f39f_11ea_b9d8_ac87a3395368row2_col3\" class=\"data row2 col3\" >3436.00</td>\n",
       "            </tr>\n",
       "            <tr>\n",
       "                        <th id=\"T_5fe30696_f39f_11ea_b9d8_ac87a3395368level0_row3\" class=\"row_heading level0 row3\" >3</th>\n",
       "                        <td id=\"T_5fe30696_f39f_11ea_b9d8_ac87a3395368row3_col0\" class=\"data row3 col0\" >16.00</td>\n",
       "                        <td id=\"T_5fe30696_f39f_11ea_b9d8_ac87a3395368row3_col1\" class=\"data row3 col1\" >8.00</td>\n",
       "                        <td id=\"T_5fe30696_f39f_11ea_b9d8_ac87a3395368row3_col2\" class=\"data row3 col2\" >304.00</td>\n",
       "                        <td id=\"T_5fe30696_f39f_11ea_b9d8_ac87a3395368row3_col3\" class=\"data row3 col3\" >3433.00</td>\n",
       "            </tr>\n",
       "            <tr>\n",
       "                        <th id=\"T_5fe30696_f39f_11ea_b9d8_ac87a3395368level0_row4\" class=\"row_heading level0 row4\" >4</th>\n",
       "                        <td id=\"T_5fe30696_f39f_11ea_b9d8_ac87a3395368row4_col0\" class=\"data row4 col0\" >17.00</td>\n",
       "                        <td id=\"T_5fe30696_f39f_11ea_b9d8_ac87a3395368row4_col1\" class=\"data row4 col1\" >8.00</td>\n",
       "                        <td id=\"T_5fe30696_f39f_11ea_b9d8_ac87a3395368row4_col2\" class=\"data row4 col2\" >302.00</td>\n",
       "                        <td id=\"T_5fe30696_f39f_11ea_b9d8_ac87a3395368row4_col3\" class=\"data row4 col3\" >3449.00</td>\n",
       "            </tr>\n",
       "    </tbody></table>"
      ],
      "text/plain": [
       "<pandas.io.formats.style.Styler at 0x7ff620d884f0>"
      ]
     },
     "execution_count": 22,
     "metadata": {},
     "output_type": "execute_result"
    }
   ],
   "source": [
    "df_cars.head(5).style.format(\"{:.2f}\")"
   ]
  },
  {
   "cell_type": "markdown",
   "metadata": {},
   "source": [
    "### Exercise 2\n",
    "\n",
    "1. Display the column names for `df_cars` data frame.\n",
    "1. Display the number of rows\n",
    "1. Display the average of the `WGT` column\n",
    "1. Display the median of the `CYL` column\n",
    "1. Display the ratio of `ENG` to `CYL`, indicating how much horsepower each car gets per cylinder"
   ]
  },
  {
   "cell_type": "markdown",
   "metadata": {},
   "source": [
    "### Visualizing the raw data\n",
    "\n",
    "Summary statistics are great but they can often hide a great deal of variability, so I like to visualize the data to get the broad \"shape\" of the data.  We've seen histograms before so let's pull in our `histo` function and look at the distribution of car weight and engine power."
   ]
  },
  {
   "cell_type": "code",
   "execution_count": 23,
   "metadata": {},
   "outputs": [],
   "source": [
    "import matplotlib.pyplot as plt\n",
    "%config InlineBackend.figure_format = 'retina'"
   ]
  },
  {
   "cell_type": "code",
   "execution_count": 24,
   "metadata": {},
   "outputs": [],
   "source": [
    "# incorporate function created in previous notebook\n",
    "def histo(ax, X, color='#FEE08F'):\n",
    "    n, bins, bpatches = ax.hist(X, color=color)\n",
    "    # make it look good\n",
    "    ax.spines['top'].set_visible(False)\n",
    "    ax.spines['right'].set_visible(False)\n",
    "    ax.spines['left'].set_linewidth(.5)\n",
    "    ax.spines['bottom'].set_linewidth(.5)\n",
    "    for rect in bpatches:\n",
    "        rect.set_linewidth(.5)\n",
    "        rect.set_edgecolor('grey')\n",
    "    return n, bins, bpatches"
   ]
  },
  {
   "cell_type": "code",
   "execution_count": 25,
   "metadata": {},
   "outputs": [
    {
     "data": {
      "image/png": "[encoded data removed]",
      "text/plain": [
       "<Figure size 216x144 with 1 Axes>"
      ]
     },
     "metadata": {
      "image/png": {
       "height": 153,
       "width": 215
      },
      "needs_background": "light"
     },
     "output_type": "display_data"
    }
   ],
   "source": [
    "fig, ax = plt.subplots(figsize=(3,2))  # make one subplot (ax) on the figure\n",
    "histo(ax, df_cars['WGT'])\n",
    "ax.set_xlabel(\"Weight\")\n",
    "ax.set_ylabel(\"Count\")\n",
    "plt.show() # not needed actually as plot shows up by default in notebook"
   ]
  },
  {
   "cell_type": "markdown",
   "metadata": {},
   "source": [
    "### Exercise 3\n",
    "\n",
    "Repeat the same process for the `ENG` column to get a histogram."
   ]
  },
  {
   "cell_type": "markdown",
   "metadata": {},
   "source": [
    "## Series objects\n",
    "\n",
    "Let's look in more detail at the `Series` objects that I think of as representing columns of dataframes, but are actually useful on their own. For example, I might simply have some timeseries data I want to store. A series object is a one-dimensional sequence of values, all with the same data type. For example, I could have a series of integers, strings, or floating-point numbers. Here's a numeric series:"
   ]
  },
  {
   "cell_type": "code",
   "execution_count": 26,
   "metadata": {},
   "outputs": [
    {
     "data": {
      "text/plain": [
       "0      10.0\n",
       "1       2.4\n",
       "2      81.0\n",
       "3    1005.0\n",
       "dtype: float64"
      ]
     },
     "execution_count": 26,
     "metadata": {},
     "output_type": "execute_result"
    }
   ],
   "source": [
    "a = pd.Series([10,2.4,81,1005]) # make a series with four numbers of type float\n",
    "a"
   ]
  },
  {
   "cell_type": "code",
   "execution_count": 27,
   "metadata": {},
   "outputs": [
    {
     "data": {
      "text/plain": [
       "(4, dtype('float64'))"
      ]
     },
     "execution_count": 27,
     "metadata": {},
     "output_type": "execute_result"
    }
   ],
   "source": [
    "len(a), a.dtype"
   ]
  },
  {
   "cell_type": "code",
   "execution_count": 28,
   "metadata": {},
   "outputs": [
    {
     "name": "stdout",
     "output_type": "stream",
     "text": [
      "Type is object\n"
     ]
    },
    {
     "data": {
      "text/plain": [
       "0      Xue\n",
       "1     Mary\n",
       "2    Ollie\n",
       "dtype: object"
      ]
     },
     "execution_count": 28,
     "metadata": {},
     "output_type": "execute_result"
    }
   ],
   "source": [
    "b = pd.Series(['Xue','Mary','Ollie'])\n",
    "print(\"Type is\", b.dtype)\n",
    "b"
   ]
  },
  {
   "cell_type": "markdown",
   "metadata": {},
   "source": [
    "There are lots of functions you can perform on series. For example, here are some operations for numerical columns:"
   ]
  },
  {
   "cell_type": "code",
   "execution_count": 29,
   "metadata": {},
   "outputs": [
    {
     "data": {
      "text/plain": [
       "(2.4, 1005.0, 274.6, 1098.4, 4)"
      ]
     },
     "execution_count": 29,
     "metadata": {},
     "output_type": "execute_result"
    }
   ],
   "source": [
    "a.min(), a.max(), a.mean(), a.sum(), a.count()"
   ]
  },
  {
   "cell_type": "markdown",
   "metadata": {},
   "source": [
    "The string-related functions or available using the `str` member of the series:"
   ]
  },
  {
   "cell_type": "code",
   "execution_count": 30,
   "metadata": {},
   "outputs": [
    {
     "data": {
      "text/plain": [
       "0      xue\n",
       "1     mary\n",
       "2    ollie\n",
       "dtype: object"
      ]
     },
     "execution_count": 30,
     "metadata": {},
     "output_type": "execute_result"
    }
   ],
   "source": [
    "b.str.lower()"
   ]
  },
  {
   "cell_type": "code",
   "execution_count": 31,
   "metadata": {},
   "outputs": [
    {
     "data": {
      "text/html": [
       "<div>\n",
       "<style scoped>\n",
       "    .dataframe tbody tr th:only-of-type {\n",
       "        vertical-align: middle;\n",
       "    }\n",
       "\n",
       "    .dataframe tbody tr th {\n",
       "        vertical-align: top;\n",
       "    }\n",
       "\n",
       "    .dataframe thead th {\n",
       "        text-align: right;\n",
       "    }\n",
       "</style>\n",
       "<table border=\"1\" class=\"dataframe\">\n",
       "  <thead>\n",
       "    <tr style=\"text-align: right;\">\n",
       "      <th></th>\n",
       "      <th>0</th>\n",
       "    </tr>\n",
       "  </thead>\n",
       "  <tbody>\n",
       "    <tr>\n",
       "      <th>0</th>\n",
       "      <td>u</td>\n",
       "    </tr>\n",
       "    <tr>\n",
       "      <th>1</th>\n",
       "      <td>a</td>\n",
       "    </tr>\n",
       "    <tr>\n",
       "      <th>2</th>\n",
       "      <td>l</td>\n",
       "    </tr>\n",
       "  </tbody>\n",
       "</table>\n",
       "</div>"
      ],
      "text/plain": [
       "   0\n",
       "0  u\n",
       "1  a\n",
       "2  l"
      ]
     },
     "execution_count": 31,
     "metadata": {},
     "output_type": "execute_result"
    }
   ],
   "source": [
    "b.str.extract(\"([a-z])\") # get first letter using regular expression"
   ]
  },
  {
   "cell_type": "markdown",
   "metadata": {},
   "source": [
    "### Series indexes and indexing\n",
    "\n",
    "Each series object has an associated index that sort of names the elements of the series, just as the index of the data frame identifies the rows of the data (see below).  The index values are commonly integers or strings. If we don't specifically specify an index, the index is just a series of consecutive integers starting from zero. That behaves then just like a list in Python when we use the `[...]` index operator.\n",
    "\n",
    "We all understand the idea of a list of numbers in Python and we access the elements using the same syntax. The only difference is that the values inside the `[...]` can only be integers for Python lists. In pandas, the index type to use must be the same as the type of the index of the series.\n",
    "\n",
    "This shows the standard index is simply the integer positions:"
   ]
  },
  {
   "cell_type": "code",
   "execution_count": 32,
   "metadata": {},
   "outputs": [
    {
     "data": {
      "text/plain": [
       "RangeIndex(start=0, stop=4, step=1)"
      ]
     },
     "execution_count": 32,
     "metadata": {},
     "output_type": "execute_result"
    }
   ],
   "source": [
    "a.index"
   ]
  },
  {
   "cell_type": "markdown",
   "metadata": {},
   "source": [
    "But, we can create a series with, for example, an index whose members are strings:"
   ]
  },
  {
   "cell_type": "code",
   "execution_count": 33,
   "metadata": {},
   "outputs": [
    {
     "data": {
      "text/plain": [
       "t      10.0\n",
       "u       2.4\n",
       "v      81.0\n",
       "w    1005.0\n",
       "dtype: float64"
      ]
     },
     "execution_count": 33,
     "metadata": {},
     "output_type": "execute_result"
    }
   ],
   "source": [
    "b = pd.Series([10,2.4,81,1005], index=['t','u','v','w'])\n",
    "b"
   ]
  },
  {
   "cell_type": "code",
   "execution_count": 34,
   "metadata": {},
   "outputs": [
    {
     "data": {
      "text/plain": [
       "Index(['t', 'u', 'v', 'w'], dtype='object')"
      ]
     },
     "execution_count": 34,
     "metadata": {},
     "output_type": "execute_result"
    }
   ],
   "source": [
    "b.index"
   ]
  },
  {
   "cell_type": "code",
   "execution_count": 35,
   "metadata": {},
   "outputs": [
    {
     "data": {
      "text/plain": [
       "(81.0, 1005.0)"
      ]
     },
     "execution_count": 35,
     "metadata": {},
     "output_type": "execute_result"
    }
   ],
   "source": [
    "a[2], a[3]"
   ]
  },
  {
   "cell_type": "code",
   "execution_count": 36,
   "metadata": {},
   "outputs": [
    {
     "data": {
      "text/plain": [
       "(2.4, 1005.0)"
      ]
     },
     "execution_count": 36,
     "metadata": {},
     "output_type": "execute_result"
    }
   ],
   "source": [
    "b['u'], b['w']"
   ]
  },
  {
   "cell_type": "markdown",
   "metadata": {},
   "source": [
    "While convenient, this direct indexing makes it very easy to get confused if you are not very good with keeping types in your head or naming your variables with type information. It's better to use the more verbose but explicit `iloc` or `loc`:"
   ]
  },
  {
   "cell_type": "code",
   "execution_count": 37,
   "metadata": {},
   "outputs": [
    {
     "data": {
      "text/plain": [
       "(81.0, 81.0, 2.4)"
      ]
     },
     "execution_count": 37,
     "metadata": {},
     "output_type": "execute_result"
    }
   ],
   "source": [
    "a.iloc[2], a.loc[2], b.loc['u']"
   ]
  },
  {
   "cell_type": "markdown",
   "metadata": {},
   "source": [
    "We use the same notation to set values:"
   ]
  },
  {
   "cell_type": "code",
   "execution_count": 38,
   "metadata": {},
   "outputs": [
    {
     "data": {
      "text/plain": [
       "0      10.0\n",
       "1       2.4\n",
       "2    9999.0\n",
       "3    1005.0\n",
       "dtype: float64"
      ]
     },
     "execution_count": 38,
     "metadata": {},
     "output_type": "execute_result"
    }
   ],
   "source": [
    "a.iloc[2] = 9999\n",
    "a"
   ]
  },
  {
   "cell_type": "code",
   "execution_count": 39,
   "metadata": {},
   "outputs": [
    {
     "data": {
      "text/plain": [
       "t      10.0\n",
       "u    9999.0\n",
       "v      81.0\n",
       "w    1005.0\n",
       "dtype: float64"
      ]
     },
     "execution_count": 39,
     "metadata": {},
     "output_type": "execute_result"
    }
   ],
   "source": [
    "b.loc['u'] = 9999\n",
    "b"
   ]
  },
  {
   "cell_type": "markdown",
   "metadata": {},
   "source": [
    "### Selecting multiple values with indexing\n",
    "\n",
    "We can even use **multiple values** when indexing:"
   ]
  },
  {
   "cell_type": "code",
   "execution_count": 40,
   "metadata": {},
   "outputs": [
    {
     "data": {
      "text/plain": [
       "u    9999.0\n",
       "w    1005.0\n",
       "dtype: float64"
      ]
     },
     "execution_count": 40,
     "metadata": {},
     "output_type": "execute_result"
    }
   ],
   "source": [
    "b.loc[['u','w']]"
   ]
  },
  {
   "cell_type": "code",
   "execution_count": 41,
   "metadata": {},
   "outputs": [
    {
     "data": {
      "text/plain": [
       "[9999.0, 1005.0]"
      ]
     },
     "execution_count": 41,
     "metadata": {},
     "output_type": "execute_result"
    }
   ],
   "source": [
    "list(b.loc[['u','w']])  # get a simple Python list of values"
   ]
  },
  {
   "cell_type": "markdown",
   "metadata": {},
   "source": [
    "Note the ambiguity of the square brackets, which mean both index operator and list literal in Python: `[['u','w']]`."
   ]
  },
  {
   "cell_type": "markdown",
   "metadata": {},
   "source": [
    "### Pandas matches up series index values\n",
    "\n",
    "The index of the series elements  makes column arithmetic (like `a+b`) a little more complex but much more sophisticated. For example, imagine that we have values associated with multiple states in the US, but where the values are not lined up according to state:"
   ]
  },
  {
   "cell_type": "code",
   "execution_count": 102,
   "metadata": {},
   "outputs": [
    {
     "name": "stdout",
     "output_type": "stream",
     "text": [
      "WA    100\n",
      "NV    110\n",
      "CA    200\n",
      "IA     45\n",
      "dtype: int64\n",
      "IA    20\n",
      "CA    50\n",
      "NV    25\n",
      "WA     5\n",
      "dtype: int64\n"
     ]
    }
   ],
   "source": [
    "income = pd.Series([100,110,200,45], index=['WA','NV','CA','IA'])\n",
    "taxes  = pd.Series([20,50,25,5], index=['IA','CA','NV','WA']) # diff order\n",
    "print(income)\n",
    "print(taxes)"
   ]
  },
  {
   "cell_type": "code",
   "execution_count": 103,
   "metadata": {},
   "outputs": [
    {
     "data": {
      "text/plain": [
       "CA    150\n",
       "IA     25\n",
       "NV     85\n",
       "WA     95\n",
       "dtype: int64"
      ]
     },
     "execution_count": 103,
     "metadata": {},
     "output_type": "execute_result"
    }
   ],
   "source": [
    "income - taxes"
   ]
  },
  {
   "cell_type": "markdown",
   "metadata": {},
   "source": [
    "The key thing to notice here is that we don't have tax information for CA. When we add the two series together, pandas lines them up according to the index values so that things match up: WA to WA etc."
   ]
  },
  {
   "cell_type": "markdown",
   "metadata": {},
   "source": [
    "### Relational operators for series\n",
    "\n",
    "To give you a taste of the power of pandas,  we can even use relational operators to select elements from a series. Here's how to get all values less than 100 from `a`:"
   ]
  },
  {
   "cell_type": "code",
   "execution_count": 42,
   "metadata": {},
   "outputs": [
    {
     "data": {
      "text/plain": [
       "0    10.0\n",
       "1     2.4\n",
       "dtype: float64"
      ]
     },
     "execution_count": 42,
     "metadata": {},
     "output_type": "execute_result"
    }
   ],
   "source": [
    "a.loc[a<100]"
   ]
  },
  {
   "cell_type": "code",
   "execution_count": 43,
   "metadata": {},
   "outputs": [
    {
     "data": {
      "text/plain": [
       "u    9999.0\n",
       "w    1005.0\n",
       "dtype: float64"
      ]
     },
     "execution_count": 43,
     "metadata": {},
     "output_type": "execute_result"
    }
   ],
   "source": [
    "b.loc[b>100]"
   ]
  },
  {
   "cell_type": "markdown",
   "metadata": {},
   "source": [
    "Wow. How does that work? Relational operators like `a<100` give a series of Boolean values indicating where the expression is true."
   ]
  },
  {
   "cell_type": "code",
   "execution_count": 44,
   "metadata": {},
   "outputs": [
    {
     "data": {
      "text/plain": [
       "0     True\n",
       "1     True\n",
       "2    False\n",
       "3    False\n",
       "dtype: bool"
      ]
     },
     "execution_count": 44,
     "metadata": {},
     "output_type": "execute_result"
    }
   ],
   "source": [
    "a<100"
   ]
  },
  {
   "cell_type": "markdown",
   "metadata": {},
   "source": [
    "And, just like with other multiple index values, we can ask for the index of a list of Booleans (there must be a Boolean for each value in the series):"
   ]
  },
  {
   "cell_type": "code",
   "execution_count": 45,
   "metadata": {},
   "outputs": [
    {
     "data": {
      "text/plain": [
       "0      10.0\n",
       "2    9999.0\n",
       "dtype: float64"
      ]
     },
     "execution_count": 45,
     "metadata": {},
     "output_type": "execute_result"
    }
   ],
   "source": [
    "a.loc[[True,False,True,False]] # note the list within the index operators"
   ]
  },
  {
   "cell_type": "markdown",
   "metadata": {},
   "source": [
    "###  Series look like dictionaries\n",
    "\n",
    "You can think of a series as a dictionary where the index values map to values in the series. But, unlike dictionaries, Series index values do not have to be unique:"
   ]
  },
  {
   "cell_type": "code",
   "execution_count": 46,
   "metadata": {},
   "outputs": [
    {
     "data": {
      "text/plain": [
       "u    1\n",
       "u    2\n",
       "t    3\n",
       "dtype: int64"
      ]
     },
     "execution_count": 46,
     "metadata": {},
     "output_type": "execute_result"
    }
   ],
   "source": [
    "x = pd.Series([1,2,3], index=['u','u','t'])\n",
    "x"
   ]
  },
  {
   "cell_type": "markdown",
   "metadata": {},
   "source": [
    "So, here's how to get all `u` members from series `x`."
   ]
  },
  {
   "cell_type": "code",
   "execution_count": 47,
   "metadata": {},
   "outputs": [
    {
     "data": {
      "text/plain": [
       "u    1\n",
       "u    2\n",
       "dtype: int64"
      ]
     },
     "execution_count": 47,
     "metadata": {},
     "output_type": "execute_result"
    }
   ],
   "source": [
    "x.loc['u']"
   ]
  },
  {
   "cell_type": "markdown",
   "metadata": {},
   "source": [
    "To avoid using the index and use simply the integer position of the series value, remember you can use `iloc`:"
   ]
  },
  {
   "cell_type": "code",
   "execution_count": 48,
   "metadata": {},
   "outputs": [
    {
     "data": {
      "text/plain": [
       "1"
      ]
     },
     "execution_count": 48,
     "metadata": {},
     "output_type": "execute_result"
    }
   ],
   "source": [
    "x.iloc[0]"
   ]
  },
  {
   "cell_type": "markdown",
   "metadata": {},
   "source": [
    "### Arithmetic with series\n",
    "\n",
    "As with numpy vectors, we can add series together and perform lots of other operations. Let's make some simple series of numbers and add them together:"
   ]
  },
  {
   "cell_type": "code",
   "execution_count": 49,
   "metadata": {},
   "outputs": [
    {
     "name": "stdout",
     "output_type": "stream",
     "text": [
      "0    5\n",
      "1    6\n",
      "2    7\n",
      "3    8\n",
      "4    9\n",
      "dtype: int64\n",
      "0    30\n",
      "1    31\n",
      "2    32\n",
      "3    33\n",
      "4    34\n",
      "dtype: int64\n"
     ]
    }
   ],
   "source": [
    "a = pd.Series(range(5,10))\n",
    "b = pd.Series(range(30,35))\n",
    "print(a)\n",
    "print(b)"
   ]
  },
  {
   "cell_type": "code",
   "execution_count": 50,
   "metadata": {},
   "outputs": [
    {
     "data": {
      "text/plain": [
       "0    35\n",
       "1    37\n",
       "2    39\n",
       "3    41\n",
       "4    43\n",
       "dtype: int64"
      ]
     },
     "execution_count": 50,
     "metadata": {},
     "output_type": "execute_result"
    }
   ],
   "source": [
    "a+b"
   ]
  },
  {
   "cell_type": "code",
   "execution_count": 95,
   "metadata": {},
   "outputs": [
    {
     "data": {
      "text/plain": [
       "array([5, 6, 7, 8, 9])"
      ]
     },
     "execution_count": 95,
     "metadata": {},
     "output_type": "execute_result"
    }
   ],
   "source": [
    "a.values # get numpy array underlying the series"
   ]
  },
  {
   "cell_type": "code",
   "execution_count": 51,
   "metadata": {},
   "outputs": [
    {
     "data": {
      "text/plain": [
       "array([35, 37, 39, 41, 43])"
      ]
     },
     "execution_count": 51,
     "metadata": {},
     "output_type": "execute_result"
    }
   ],
   "source": [
    "a.values + b.values  # using \".values\" extract the underlying numpy array"
   ]
  },
  {
   "cell_type": "code",
   "execution_count": 52,
   "metadata": {},
   "outputs": [
    {
     "data": {
      "text/plain": [
       "array([35, 37, 39, 41, 43])"
      ]
     },
     "execution_count": 52,
     "metadata": {},
     "output_type": "execute_result"
    }
   ],
   "source": [
    "(a+b).values"
   ]
  },
  {
   "cell_type": "markdown",
   "metadata": {},
   "source": [
    "Keep in mind: Any arithmetic involving a nan, results in a nan.\n",
    "\n",
    "We can also scale series very easily using arithmetic operators:"
   ]
  },
  {
   "cell_type": "code",
   "execution_count": 55,
   "metadata": {},
   "outputs": [
    {
     "data": {
      "text/plain": [
       "WA    200\n",
       "NV    220\n",
       "CA    400\n",
       "IA     90\n",
       "dtype: int64"
      ]
     },
     "execution_count": 55,
     "metadata": {},
     "output_type": "execute_result"
    }
   ],
   "source": [
    "income*2"
   ]
  },
  {
   "cell_type": "markdown",
   "metadata": {},
   "source": [
    "###  Exercise 4\n",
    "\n",
    "1. Make a `Series` object with year values: `1991,1992,1993,1994,1995,1996,1997,1998,1999,2000`.\n",
    "1. Print out how many total values there are using code not manual counting\n",
    "1. Print all values less than 1997\n",
    "1. Make another series with rainfall values `12.09,12.35,12.51,10.25,10.18,10.59,10.26,10.48,8.67,10.23`\n",
    "1. Print out the years for which rainfall was less than 11.\n",
    "1. Scale that rainfall series by 20% and print it out"
   ]
  },
  {
   "cell_type": "markdown",
   "metadata": {},
   "source": [
    "## Something's missing\n",
    "\n",
    "Real-world data sets often have missing values. For example, if we are capturing ocean temperature with a series of devices bobbing in the ocean, some of them will be swallowed by sharks or be destroyed and we won't get any more data from them. Or,  if we are conducting a survey, some respondents will leave some entries blank. \n",
    "\n",
    "We need a way to represent missing data. A common way to do this is to choose a sentinel value like -1 or a string like 'n/a' or 'missing'. I've even seen data set where 1000 was used as the missing value indicator for year values. Pandas formalizes missing values by representing them as \"not a number\", a special floating-point value, `np.nan`, from numpy that indicates the value is invalid and should not be treated as valid."
   ]
  },
  {
   "cell_type": "code",
   "execution_count": 104,
   "metadata": {},
   "outputs": [
    {
     "data": {
      "text/plain": [
       "0    10.0\n",
       "1    20.0\n",
       "2     NaN\n",
       "3    40.0\n",
       "dtype: float64"
      ]
     },
     "execution_count": 104,
     "metadata": {},
     "output_type": "execute_result"
    }
   ],
   "source": [
    "c = pd.Series([10,20,np.nan,40])\n",
    "c"
   ]
  },
  {
   "cell_type": "markdown",
   "metadata": {},
   "source": [
    "When doing EDA, it's very common to ask if there are missing values, which we can do with `isnull()`:"
   ]
  },
  {
   "cell_type": "code",
   "execution_count": 105,
   "metadata": {},
   "outputs": [
    {
     "data": {
      "text/plain": [
       "0    False\n",
       "1    False\n",
       "2     True\n",
       "3    False\n",
       "dtype: bool"
      ]
     },
     "execution_count": 105,
     "metadata": {},
     "output_type": "execute_result"
    }
   ],
   "source": [
    "c.isnull() # return a Boolean indicating whether the series value is nan or correct"
   ]
  },
  {
   "cell_type": "markdown",
   "metadata": {},
   "source": [
    "**A subtle but important point here**: `np.nan` has type `float` and, since all values in a series must be the same type, a series of integer values with at least one missing value causes the entire series to be floating-point. But, non-numeric series stay as `object`."
   ]
  },
  {
   "cell_type": "code",
   "execution_count": 58,
   "metadata": {},
   "outputs": [
    {
     "data": {
      "text/plain": [
       "0     hi\n",
       "1    mom\n",
       "2    NaN\n",
       "dtype: object"
      ]
     },
     "execution_count": 58,
     "metadata": {},
     "output_type": "execute_result"
    }
   ],
   "source": [
    "d = pd.Series(['hi','mom',np.nan])\n",
    "d"
   ]
  },
  {
   "cell_type": "code",
   "execution_count": 59,
   "metadata": {},
   "outputs": [
    {
     "data": {
      "text/plain": [
       "0    False\n",
       "1    False\n",
       "2     True\n",
       "dtype: bool"
      ]
     },
     "execution_count": 59,
     "metadata": {},
     "output_type": "execute_result"
    }
   ],
   "source": [
    "d.isnull()"
   ]
  },
  {
   "cell_type": "markdown",
   "metadata": {},
   "source": [
    "BTW, `isna()` is a synonym:"
   ]
  },
  {
   "cell_type": "markdown",
   "metadata": {},
   "source": [
    "To get all of the non-missing data, we can use that function as an index value!"
   ]
  },
  {
   "cell_type": "code",
   "execution_count": 107,
   "metadata": {},
   "outputs": [
    {
     "data": {
      "text/plain": [
       "0    False\n",
       "1    False\n",
       "2     True\n",
       "dtype: bool"
      ]
     },
     "execution_count": 107,
     "metadata": {},
     "output_type": "execute_result"
    }
   ],
   "source": [
    "d.isna()"
   ]
  },
  {
   "cell_type": "code",
   "execution_count": 60,
   "metadata": {},
   "outputs": [
    {
     "data": {
      "text/plain": [
       "t    10.0\n",
       "u    20.0\n",
       "w    40.0\n",
       "dtype: float64"
      ]
     },
     "execution_count": 60,
     "metadata": {},
     "output_type": "execute_result"
    }
   ],
   "source": [
    "c.loc[~c.isnull()]  # ~c.isnull() means \"not null\" or \"not np.nan\""
   ]
  },
  {
   "cell_type": "code",
   "execution_count": 61,
   "metadata": {},
   "outputs": [
    {
     "data": {
      "text/plain": [
       "0     hi\n",
       "1    mom\n",
       "dtype: object"
      ]
     },
     "execution_count": 61,
     "metadata": {},
     "output_type": "execute_result"
    }
   ],
   "source": [
    "d.loc[~d.isnull()]"
   ]
  },
  {
   "cell_type": "markdown",
   "metadata": {},
   "source": [
    "If you ever want a version of a series with the NaNs replaced with a fill value, there is a handy function for you:"
   ]
  },
  {
   "cell_type": "code",
   "execution_count": 116,
   "metadata": {},
   "outputs": [
    {
     "data": {
      "text/plain": [
       "0    10.0\n",
       "1    20.0\n",
       "2    -1.0\n",
       "3    40.0\n",
       "dtype: float64"
      ]
     },
     "execution_count": 116,
     "metadata": {},
     "output_type": "execute_result"
    }
   ],
   "source": [
    "c.fillna(-1)"
   ]
  },
  {
   "cell_type": "markdown",
   "metadata": {},
   "source": [
    "###  Functions do different things with missing values\n",
    "\n",
    "To be very careful that you know how the various functions behave with respect to np.nan. Here are some samples:"
   ]
  },
  {
   "cell_type": "code",
   "execution_count": 108,
   "metadata": {},
   "outputs": [
    {
     "data": {
      "text/plain": [
       "0    10.0\n",
       "1    20.0\n",
       "2     NaN\n",
       "3    40.0\n",
       "dtype: float64"
      ]
     },
     "execution_count": 108,
     "metadata": {},
     "output_type": "execute_result"
    }
   ],
   "source": [
    "c = pd.Series([10,20,np.nan,40])\n",
    "c"
   ]
  },
  {
   "cell_type": "code",
   "execution_count": 114,
   "metadata": {},
   "outputs": [
    {
     "data": {
      "text/plain": [
       "(4, 3, 70.0, nan, 70.0, nan)"
      ]
     },
     "execution_count": 114,
     "metadata": {},
     "output_type": "execute_result"
    }
   ],
   "source": [
    "len(c), c.count(), c.sum(), c.sum(skipna=False), np.sum(c), sum(c)"
   ]
  },
  {
   "cell_type": "code",
   "execution_count": 64,
   "metadata": {},
   "outputs": [
    {
     "data": {
      "text/plain": [
       "t     30.0\n",
       "u     60.0\n",
       "v      NaN\n",
       "w    120.0\n",
       "dtype: float64"
      ]
     },
     "execution_count": 64,
     "metadata": {},
     "output_type": "execute_result"
    }
   ],
   "source": [
    "c * 3"
   ]
  },
  {
   "cell_type": "markdown",
   "metadata": {},
   "source": [
    "###  Exercise 5\n",
    "\n",
    "1. Make a `Series` object with values: `1991,1992,1993,1994,1995,np.nan,1997,1998,1999,2000`.\n",
    "1. Print out the non-NAN values\n",
    "1. Set the NaN value to be 1996 and print the series out again\n",
    "1. Verify that `count()` on that series does not include the NaN"
   ]
  },
  {
   "cell_type": "markdown",
   "metadata": {},
   "source": [
    "## Data frames\n",
    "\n",
    "A `DataFrame` object is a two-dimensional matrix with rows and columns just like a spreadsheet or database table.  Each column can have different data types, but all values within a column must be of the same data type; the columns behave like series objects.\n",
    "\n",
    "Data frames columns are ordered and the name-to-column mapping is stored in an index.  Data frames also have an index for the rows, just like a series has an index into the values of the series. So, a data frame has two indexes which lets us zero in, for example, on a specific element using row and column index values.\n",
    "\n",
    "Here is the car data again:"
   ]
  },
  {
   "cell_type": "code",
   "execution_count": 65,
   "metadata": {},
   "outputs": [
    {
     "data": {
      "text/html": [
       "<div>\n",
       "<style scoped>\n",
       "    .dataframe tbody tr th:only-of-type {\n",
       "        vertical-align: middle;\n",
       "    }\n",
       "\n",
       "    .dataframe tbody tr th {\n",
       "        vertical-align: top;\n",
       "    }\n",
       "\n",
       "    .dataframe thead th {\n",
       "        text-align: right;\n",
       "    }\n",
       "</style>\n",
       "<table border=\"1\" class=\"dataframe\">\n",
       "  <thead>\n",
       "    <tr style=\"text-align: right;\">\n",
       "      <th></th>\n",
       "      <th>MPG</th>\n",
       "      <th>CYL</th>\n",
       "      <th>ENG</th>\n",
       "      <th>WGT</th>\n",
       "    </tr>\n",
       "  </thead>\n",
       "  <tbody>\n",
       "    <tr>\n",
       "      <th>0</th>\n",
       "      <td>18.0</td>\n",
       "      <td>8</td>\n",
       "      <td>307.0</td>\n",
       "      <td>3504</td>\n",
       "    </tr>\n",
       "    <tr>\n",
       "      <th>1</th>\n",
       "      <td>15.0</td>\n",
       "      <td>8</td>\n",
       "      <td>350.0</td>\n",
       "      <td>3693</td>\n",
       "    </tr>\n",
       "    <tr>\n",
       "      <th>2</th>\n",
       "      <td>18.0</td>\n",
       "      <td>8</td>\n",
       "      <td>318.0</td>\n",
       "      <td>3436</td>\n",
       "    </tr>\n",
       "    <tr>\n",
       "      <th>3</th>\n",
       "      <td>16.0</td>\n",
       "      <td>8</td>\n",
       "      <td>304.0</td>\n",
       "      <td>3433</td>\n",
       "    </tr>\n",
       "    <tr>\n",
       "      <th>4</th>\n",
       "      <td>17.0</td>\n",
       "      <td>8</td>\n",
       "      <td>302.0</td>\n",
       "      <td>3449</td>\n",
       "    </tr>\n",
       "  </tbody>\n",
       "</table>\n",
       "</div>"
      ],
      "text/plain": [
       "    MPG  CYL    ENG   WGT\n",
       "0  18.0    8  307.0  3504\n",
       "1  15.0    8  350.0  3693\n",
       "2  18.0    8  318.0  3436\n",
       "3  16.0    8  304.0  3433\n",
       "4  17.0    8  302.0  3449"
      ]
     },
     "execution_count": 65,
     "metadata": {},
     "output_type": "execute_result"
    }
   ],
   "source": [
    "df_cars = pd.read_csv(\"data/cars.csv\")\n",
    "df_cars.head()"
   ]
  },
  {
   "cell_type": "markdown",
   "metadata": {},
   "source": [
    "To extract a column, we have seen the `[...]` index operator, which gets a series object:"
   ]
  },
  {
   "cell_type": "code",
   "execution_count": 66,
   "metadata": {},
   "outputs": [
    {
     "data": {
      "text/plain": [
       "pandas.core.series.Series"
      ]
     },
     "execution_count": 66,
     "metadata": {},
     "output_type": "execute_result"
    }
   ],
   "source": [
    "type(df_cars['MPG'])"
   ]
  },
  {
   "cell_type": "code",
   "execution_count": 67,
   "metadata": {},
   "outputs": [
    {
     "data": {
      "text/plain": [
       "0      18.0\n",
       "1      15.0\n",
       "2      18.0\n",
       "3      16.0\n",
       "4      17.0\n",
       "       ... \n",
       "387    27.0\n",
       "388    44.0\n",
       "389    32.0\n",
       "390    28.0\n",
       "391    31.0\n",
       "Name: MPG, Length: 392, dtype: float64"
      ]
     },
     "execution_count": 67,
     "metadata": {},
     "output_type": "execute_result"
    }
   ],
   "source": [
    "mpg = df_cars['MPG']\n",
    "mpg"
   ]
  },
  {
   "cell_type": "markdown",
   "metadata": {},
   "source": [
    "Once we have a series object, we can use the series index to get elements (repetition to improve your retention):"
   ]
  },
  {
   "cell_type": "code",
   "execution_count": 155,
   "metadata": {},
   "outputs": [
    {
     "data": {
      "text/plain": [
       "(16.0, 16.0)"
      ]
     },
     "execution_count": 155,
     "metadata": {},
     "output_type": "execute_result"
    }
   ],
   "source": [
    "mpg.iloc[3], mpg.loc[3]   # the default index is just the integer position like iloc"
   ]
  },
  {
   "cell_type": "markdown",
   "metadata": {},
   "source": [
    "<img src=\"images/redbang.png\" width=\"30\" align=\"left\">So, when you index into a data frame, you get a column. When you index into a series, you get an element. That's why I recommend that you use `.loc[...]` initially until you are good at keeping track of datatypes, such as series versus dataframes. It's a well-known confusion point for new students.\n",
    "\n",
    "Let's look at the Uber data again and extract three columns. Please note the use of a list as an index value and the fact that we get a data frame back not a series because we asked for more than one column:"
   ]
  },
  {
   "cell_type": "code",
   "execution_count": 69,
   "metadata": {},
   "outputs": [
    {
     "name": "stdout",
     "output_type": "stream",
     "text": [
      "<class 'pandas.core.frame.DataFrame'>\n"
     ]
    },
    {
     "data": {
      "text/html": [
       "<div>\n",
       "<style scoped>\n",
       "    .dataframe tbody tr th:only-of-type {\n",
       "        vertical-align: middle;\n",
       "    }\n",
       "\n",
       "    .dataframe tbody tr th {\n",
       "        vertical-align: top;\n",
       "    }\n",
       "\n",
       "    .dataframe thead th {\n",
       "        text-align: right;\n",
       "    }\n",
       "</style>\n",
       "<table border=\"1\" class=\"dataframe\">\n",
       "  <thead>\n",
       "    <tr style=\"text-align: right;\">\n",
       "      <th></th>\n",
       "      <th>Date</th>\n",
       "      <th>Time</th>\n",
       "      <th>Status</th>\n",
       "    </tr>\n",
       "  </thead>\n",
       "  <tbody>\n",
       "    <tr>\n",
       "      <th>0</th>\n",
       "      <td>2014-07-01</td>\n",
       "      <td>2020-09-10 07:15:00</td>\n",
       "      <td>Cancelled</td>\n",
       "    </tr>\n",
       "    <tr>\n",
       "      <th>1</th>\n",
       "      <td>2014-07-01</td>\n",
       "      <td>2020-09-10 07:30:00</td>\n",
       "      <td>Arrived</td>\n",
       "    </tr>\n",
       "    <tr>\n",
       "      <th>2</th>\n",
       "      <td>2014-07-01</td>\n",
       "      <td>2020-09-10 08:00:00</td>\n",
       "      <td>Assigned</td>\n",
       "    </tr>\n",
       "  </tbody>\n",
       "</table>\n",
       "</div>"
      ],
      "text/plain": [
       "        Date                Time     Status\n",
       "0 2014-07-01 2020-09-10 07:15:00  Cancelled\n",
       "1 2014-07-01 2020-09-10 07:30:00    Arrived\n",
       "2 2014-07-01 2020-09-10 08:00:00   Assigned"
      ]
     },
     "execution_count": 69,
     "metadata": {},
     "output_type": "execute_result"
    }
   ],
   "source": [
    "df_status = df_uber[['Date','Time','Status']]\n",
    "print(type(df_status))\n",
    "df_status.head(3)"
   ]
  },
  {
   "cell_type": "markdown",
   "metadata": {},
   "source": [
    "### Dataframe indexing"
   ]
  },
  {
   "cell_type": "markdown",
   "metadata": {},
   "source": [
    "The columns form an index but there is also an index for the rows. The default index for the rows is just the integer position."
   ]
  },
  {
   "cell_type": "code",
   "execution_count": 70,
   "metadata": {},
   "outputs": [
    {
     "data": {
      "text/plain": [
       "RangeIndex(start=0, stop=99, step=1)"
      ]
     },
     "execution_count": 70,
     "metadata": {},
     "output_type": "execute_result"
    }
   ],
   "source": [
    "df_status.index"
   ]
  },
  {
   "cell_type": "markdown",
   "metadata": {},
   "source": [
    "To get a data frame row at a specific integer position as a Series, use `iloc`:"
   ]
  },
  {
   "cell_type": "code",
   "execution_count": 71,
   "metadata": {},
   "outputs": [
    {
     "data": {
      "text/plain": [
       "Date      2014-07-01 00:00:00\n",
       "Time      2020-09-10 07:30:00\n",
       "Status                Arrived\n",
       "Name: 1, dtype: object"
      ]
     },
     "execution_count": 71,
     "metadata": {},
     "output_type": "execute_result"
    }
   ],
   "source": [
    "df_status.iloc[1]"
   ]
  },
  {
   "cell_type": "code",
   "execution_count": 72,
   "metadata": {},
   "outputs": [
    {
     "data": {
      "text/html": [
       "<div>\n",
       "<style scoped>\n",
       "    .dataframe tbody tr th:only-of-type {\n",
       "        vertical-align: middle;\n",
       "    }\n",
       "\n",
       "    .dataframe tbody tr th {\n",
       "        vertical-align: top;\n",
       "    }\n",
       "\n",
       "    .dataframe thead th {\n",
       "        text-align: right;\n",
       "    }\n",
       "</style>\n",
       "<table border=\"1\" class=\"dataframe\">\n",
       "  <thead>\n",
       "    <tr style=\"text-align: right;\">\n",
       "      <th></th>\n",
       "      <th>Date</th>\n",
       "      <th>Time</th>\n",
       "      <th>Status</th>\n",
       "    </tr>\n",
       "  </thead>\n",
       "  <tbody>\n",
       "    <tr>\n",
       "      <th>2</th>\n",
       "      <td>2014-07-01</td>\n",
       "      <td>2020-09-10 08:00:00</td>\n",
       "      <td>Assigned</td>\n",
       "    </tr>\n",
       "    <tr>\n",
       "      <th>3</th>\n",
       "      <td>2014-07-01</td>\n",
       "      <td>2020-09-10 09:00:00</td>\n",
       "      <td>Assigned</td>\n",
       "    </tr>\n",
       "  </tbody>\n",
       "</table>\n",
       "</div>"
      ],
      "text/plain": [
       "        Date                Time    Status\n",
       "2 2014-07-01 2020-09-10 08:00:00  Assigned\n",
       "3 2014-07-01 2020-09-10 09:00:00  Assigned"
      ]
     },
     "execution_count": 72,
     "metadata": {},
     "output_type": "execute_result"
    }
   ],
   "source": [
    "df_status.iloc[2:4] # a slice of rows"
   ]
  },
  {
   "cell_type": "code",
   "execution_count": 145,
   "metadata": {},
   "outputs": [
    {
     "data": {
      "text/html": [
       "<div>\n",
       "<style scoped>\n",
       "    .dataframe tbody tr th:only-of-type {\n",
       "        vertical-align: middle;\n",
       "    }\n",
       "\n",
       "    .dataframe tbody tr th {\n",
       "        vertical-align: top;\n",
       "    }\n",
       "\n",
       "    .dataframe thead th {\n",
       "        text-align: right;\n",
       "    }\n",
       "</style>\n",
       "<table border=\"1\" class=\"dataframe\">\n",
       "  <thead>\n",
       "    <tr style=\"text-align: right;\">\n",
       "      <th></th>\n",
       "      <th>Date</th>\n",
       "      <th>Time</th>\n",
       "      <th>Status</th>\n",
       "    </tr>\n",
       "  </thead>\n",
       "  <tbody>\n",
       "    <tr>\n",
       "      <th>0</th>\n",
       "      <td>2014-07-01</td>\n",
       "      <td>2020-09-10 07:15:00</td>\n",
       "      <td>Arrived</td>\n",
       "    </tr>\n",
       "    <tr>\n",
       "      <th>1</th>\n",
       "      <td>2014-07-01</td>\n",
       "      <td>2020-09-10 07:30:00</td>\n",
       "      <td>Arrived</td>\n",
       "    </tr>\n",
       "    <tr>\n",
       "      <th>2</th>\n",
       "      <td>2014-07-01</td>\n",
       "      <td>2020-09-10 08:00:00</td>\n",
       "      <td>Assigned</td>\n",
       "    </tr>\n",
       "    <tr>\n",
       "      <th>3</th>\n",
       "      <td>2014-07-01</td>\n",
       "      <td>2020-09-10 09:00:00</td>\n",
       "      <td>Assigned</td>\n",
       "    </tr>\n",
       "    <tr>\n",
       "      <th>4</th>\n",
       "      <td>2014-07-01</td>\n",
       "      <td>2020-09-10 09:30:00</td>\n",
       "      <td>Assigned</td>\n",
       "    </tr>\n",
       "    <tr>\n",
       "      <th>...</th>\n",
       "      <td>...</td>\n",
       "      <td>...</td>\n",
       "      <td>...</td>\n",
       "    </tr>\n",
       "    <tr>\n",
       "      <th>94</th>\n",
       "      <td>2014-07-21</td>\n",
       "      <td>2020-09-10 06:00:00</td>\n",
       "      <td>Assigned</td>\n",
       "    </tr>\n",
       "    <tr>\n",
       "      <th>95</th>\n",
       "      <td>2014-07-21</td>\n",
       "      <td>2020-09-10 08:30:00</td>\n",
       "      <td>Cancelled</td>\n",
       "    </tr>\n",
       "    <tr>\n",
       "      <th>96</th>\n",
       "      <td>2014-07-21</td>\n",
       "      <td>2020-09-10 12:00:00</td>\n",
       "      <td>Arrived</td>\n",
       "    </tr>\n",
       "    <tr>\n",
       "      <th>97</th>\n",
       "      <td>2014-07-21</td>\n",
       "      <td>2020-09-10 16:45:00</td>\n",
       "      <td>Assigned</td>\n",
       "    </tr>\n",
       "    <tr>\n",
       "      <th>98</th>\n",
       "      <td>2014-07-22</td>\n",
       "      <td>2020-09-10 13:30:00</td>\n",
       "      <td>Arrived</td>\n",
       "    </tr>\n",
       "  </tbody>\n",
       "</table>\n",
       "<p>99 rows × 3 columns</p>\n",
       "</div>"
      ],
      "text/plain": [
       "         Date                Time     Status\n",
       "0  2014-07-01 2020-09-10 07:15:00    Arrived\n",
       "1  2014-07-01 2020-09-10 07:30:00    Arrived\n",
       "2  2014-07-01 2020-09-10 08:00:00   Assigned\n",
       "3  2014-07-01 2020-09-10 09:00:00   Assigned\n",
       "4  2014-07-01 2020-09-10 09:30:00   Assigned\n",
       "..        ...                 ...        ...\n",
       "94 2014-07-21 2020-09-10 06:00:00   Assigned\n",
       "95 2014-07-21 2020-09-10 08:30:00  Cancelled\n",
       "96 2014-07-21 2020-09-10 12:00:00    Arrived\n",
       "97 2014-07-21 2020-09-10 16:45:00   Assigned\n",
       "98 2014-07-22 2020-09-10 13:30:00    Arrived\n",
       "\n",
       "[99 rows x 3 columns]"
      ]
     },
     "execution_count": 145,
     "metadata": {},
     "output_type": "execute_result"
    }
   ],
   "source": [
    "df_status.iloc[:] # get all rows"
   ]
  },
  {
   "cell_type": "code",
   "execution_count": 157,
   "metadata": {},
   "outputs": [
    {
     "data": {
      "text/html": [
       "<div>\n",
       "<style scoped>\n",
       "    .dataframe tbody tr th:only-of-type {\n",
       "        vertical-align: middle;\n",
       "    }\n",
       "\n",
       "    .dataframe tbody tr th {\n",
       "        vertical-align: top;\n",
       "    }\n",
       "\n",
       "    .dataframe thead th {\n",
       "        text-align: right;\n",
       "    }\n",
       "</style>\n",
       "<table border=\"1\" class=\"dataframe\">\n",
       "  <thead>\n",
       "    <tr style=\"text-align: right;\">\n",
       "      <th></th>\n",
       "      <th>Date</th>\n",
       "      <th>Time</th>\n",
       "      <th>Status</th>\n",
       "    </tr>\n",
       "  </thead>\n",
       "  <tbody>\n",
       "    <tr>\n",
       "      <th>0</th>\n",
       "      <td>2014-07-01</td>\n",
       "      <td>2020-09-10 07:15:00</td>\n",
       "      <td>Arrived</td>\n",
       "    </tr>\n",
       "    <tr>\n",
       "      <th>1</th>\n",
       "      <td>2014-07-01</td>\n",
       "      <td>2020-09-10 07:30:00</td>\n",
       "      <td>Arrived</td>\n",
       "    </tr>\n",
       "    <tr>\n",
       "      <th>2</th>\n",
       "      <td>2014-07-01</td>\n",
       "      <td>2020-09-10 08:00:00</td>\n",
       "      <td>Assigned</td>\n",
       "    </tr>\n",
       "    <tr>\n",
       "      <th>3</th>\n",
       "      <td>2014-07-01</td>\n",
       "      <td>2020-09-10 09:00:00</td>\n",
       "      <td>Assigned</td>\n",
       "    </tr>\n",
       "    <tr>\n",
       "      <th>4</th>\n",
       "      <td>2014-07-01</td>\n",
       "      <td>2020-09-10 09:30:00</td>\n",
       "      <td>Assigned</td>\n",
       "    </tr>\n",
       "    <tr>\n",
       "      <th>...</th>\n",
       "      <td>...</td>\n",
       "      <td>...</td>\n",
       "      <td>...</td>\n",
       "    </tr>\n",
       "    <tr>\n",
       "      <th>94</th>\n",
       "      <td>2014-07-21</td>\n",
       "      <td>2020-09-10 06:00:00</td>\n",
       "      <td>Assigned</td>\n",
       "    </tr>\n",
       "    <tr>\n",
       "      <th>95</th>\n",
       "      <td>2014-07-21</td>\n",
       "      <td>2020-09-10 08:30:00</td>\n",
       "      <td>Cancelled</td>\n",
       "    </tr>\n",
       "    <tr>\n",
       "      <th>96</th>\n",
       "      <td>2014-07-21</td>\n",
       "      <td>2020-09-10 12:00:00</td>\n",
       "      <td>Arrived</td>\n",
       "    </tr>\n",
       "    <tr>\n",
       "      <th>97</th>\n",
       "      <td>2014-07-21</td>\n",
       "      <td>2020-09-10 16:45:00</td>\n",
       "      <td>Assigned</td>\n",
       "    </tr>\n",
       "    <tr>\n",
       "      <th>98</th>\n",
       "      <td>2014-07-22</td>\n",
       "      <td>2020-09-10 13:30:00</td>\n",
       "      <td>Arrived</td>\n",
       "    </tr>\n",
       "  </tbody>\n",
       "</table>\n",
       "<p>99 rows × 3 columns</p>\n",
       "</div>"
      ],
      "text/plain": [
       "         Date                Time     Status\n",
       "0  2014-07-01 2020-09-10 07:15:00    Arrived\n",
       "1  2014-07-01 2020-09-10 07:30:00    Arrived\n",
       "2  2014-07-01 2020-09-10 08:00:00   Assigned\n",
       "3  2014-07-01 2020-09-10 09:00:00   Assigned\n",
       "4  2014-07-01 2020-09-10 09:30:00   Assigned\n",
       "..        ...                 ...        ...\n",
       "94 2014-07-21 2020-09-10 06:00:00   Assigned\n",
       "95 2014-07-21 2020-09-10 08:30:00  Cancelled\n",
       "96 2014-07-21 2020-09-10 12:00:00    Arrived\n",
       "97 2014-07-21 2020-09-10 16:45:00   Assigned\n",
       "98 2014-07-22 2020-09-10 13:30:00    Arrived\n",
       "\n",
       "[99 rows x 3 columns]"
      ]
     },
     "execution_count": 157,
     "metadata": {},
     "output_type": "execute_result"
    }
   ],
   "source": [
    "df_status.iloc[0:len(df_status)] # SAME"
   ]
  },
  {
   "cell_type": "code",
   "execution_count": 149,
   "metadata": {},
   "outputs": [
    {
     "data": {
      "text/plain": [
       "0    2020-09-10 07:15:00\n",
       "1    2020-09-10 07:30:00\n",
       "2    2020-09-10 08:00:00\n",
       "3    2020-09-10 09:00:00\n",
       "4    2020-09-10 09:30:00\n",
       "             ...        \n",
       "94   2020-09-10 06:00:00\n",
       "95   2020-09-10 08:30:00\n",
       "96   2020-09-10 12:00:00\n",
       "97   2020-09-10 16:45:00\n",
       "98   2020-09-10 13:30:00\n",
       "Name: Time, Length: 99, dtype: datetime64[ns]"
      ]
     },
     "execution_count": 149,
     "metadata": {},
     "output_type": "execute_result"
    }
   ],
   "source": [
    "df_status.iloc[:,1] # get all rows for column at position 1 as a Series"
   ]
  },
  {
   "cell_type": "code",
   "execution_count": 150,
   "metadata": {},
   "outputs": [
    {
     "data": {
      "text/plain": [
       "0    2020-09-10 07:15:00\n",
       "1    2020-09-10 07:30:00\n",
       "2    2020-09-10 08:00:00\n",
       "3    2020-09-10 09:00:00\n",
       "4    2020-09-10 09:30:00\n",
       "             ...        \n",
       "94   2020-09-10 06:00:00\n",
       "95   2020-09-10 08:30:00\n",
       "96   2020-09-10 12:00:00\n",
       "97   2020-09-10 16:45:00\n",
       "98   2020-09-10 13:30:00\n",
       "Name: Time, Length: 99, dtype: datetime64[ns]"
      ]
     },
     "execution_count": 150,
     "metadata": {},
     "output_type": "execute_result"
    }
   ],
   "source": [
    "df_status.iloc[0:len(df_status),1] # SAME"
   ]
  },
  {
   "cell_type": "markdown",
   "metadata": {},
   "source": [
    "**To access a row using the index**, instead of by position, use `loc`:"
   ]
  },
  {
   "cell_type": "code",
   "execution_count": 117,
   "metadata": {},
   "outputs": [
    {
     "data": {
      "text/plain": [
       "Date      2014-07-01 00:00:00\n",
       "Time      2020-09-10 07:30:00\n",
       "Status                Arrived\n",
       "Name: 1, dtype: object"
      ]
     },
     "execution_count": 117,
     "metadata": {},
     "output_type": "execute_result"
    }
   ],
   "source": [
    "df_status.loc[1] # default index is the position"
   ]
  },
  {
   "cell_type": "markdown",
   "metadata": {},
   "source": [
    "We can actually specify both a row and column using the `loc` operator:"
   ]
  },
  {
   "cell_type": "code",
   "execution_count": 74,
   "metadata": {},
   "outputs": [
    {
     "data": {
      "text/plain": [
       "(Timestamp('2020-09-10 07:30:00'), 'Arrived')"
      ]
     },
     "execution_count": 74,
     "metadata": {},
     "output_type": "execute_result"
    }
   ],
   "source": [
    "df_status.loc[1,'Time'], df_status.loc[1,'Status']"
   ]
  },
  {
   "cell_type": "markdown",
   "metadata": {},
   "source": [
    "Another very useful operation is to set the index to one of the columns of the data frame:"
   ]
  },
  {
   "cell_type": "code",
   "execution_count": 75,
   "metadata": {},
   "outputs": [
    {
     "data": {
      "text/html": [
       "<div>\n",
       "<style scoped>\n",
       "    .dataframe tbody tr th:only-of-type {\n",
       "        vertical-align: middle;\n",
       "    }\n",
       "\n",
       "    .dataframe tbody tr th {\n",
       "        vertical-align: top;\n",
       "    }\n",
       "\n",
       "    .dataframe thead th {\n",
       "        text-align: right;\n",
       "    }\n",
       "</style>\n",
       "<table border=\"1\" class=\"dataframe\">\n",
       "  <thead>\n",
       "    <tr style=\"text-align: right;\">\n",
       "      <th></th>\n",
       "      <th>Time</th>\n",
       "      <th>Status</th>\n",
       "    </tr>\n",
       "    <tr>\n",
       "      <th>Date</th>\n",
       "      <th></th>\n",
       "      <th></th>\n",
       "    </tr>\n",
       "  </thead>\n",
       "  <tbody>\n",
       "    <tr>\n",
       "      <th>2014-07-01</th>\n",
       "      <td>2020-09-10 07:15:00</td>\n",
       "      <td>Cancelled</td>\n",
       "    </tr>\n",
       "    <tr>\n",
       "      <th>2014-07-01</th>\n",
       "      <td>2020-09-10 07:30:00</td>\n",
       "      <td>Arrived</td>\n",
       "    </tr>\n",
       "    <tr>\n",
       "      <th>2014-07-01</th>\n",
       "      <td>2020-09-10 08:00:00</td>\n",
       "      <td>Assigned</td>\n",
       "    </tr>\n",
       "    <tr>\n",
       "      <th>2014-07-01</th>\n",
       "      <td>2020-09-10 09:00:00</td>\n",
       "      <td>Assigned</td>\n",
       "    </tr>\n",
       "    <tr>\n",
       "      <th>2014-07-01</th>\n",
       "      <td>2020-09-10 09:30:00</td>\n",
       "      <td>Assigned</td>\n",
       "    </tr>\n",
       "  </tbody>\n",
       "</table>\n",
       "</div>"
      ],
      "text/plain": [
       "                          Time     Status\n",
       "Date                                     \n",
       "2014-07-01 2020-09-10 07:15:00  Cancelled\n",
       "2014-07-01 2020-09-10 07:30:00    Arrived\n",
       "2014-07-01 2020-09-10 08:00:00   Assigned\n",
       "2014-07-01 2020-09-10 09:00:00   Assigned\n",
       "2014-07-01 2020-09-10 09:30:00   Assigned"
      ]
     },
     "execution_count": 75,
     "metadata": {},
     "output_type": "execute_result"
    }
   ],
   "source": [
    "df_status = df_status.set_index('Date')   # note that I reassign it to itself\n",
    "df_status.head(5)"
   ]
  },
  {
   "cell_type": "markdown",
   "metadata": {},
   "source": [
    "Then we can conveniently ask for all rows with a specific date using the index:"
   ]
  },
  {
   "cell_type": "code",
   "execution_count": 76,
   "metadata": {},
   "outputs": [
    {
     "data": {
      "text/html": [
       "<div>\n",
       "<style scoped>\n",
       "    .dataframe tbody tr th:only-of-type {\n",
       "        vertical-align: middle;\n",
       "    }\n",
       "\n",
       "    .dataframe tbody tr th {\n",
       "        vertical-align: top;\n",
       "    }\n",
       "\n",
       "    .dataframe thead th {\n",
       "        text-align: right;\n",
       "    }\n",
       "</style>\n",
       "<table border=\"1\" class=\"dataframe\">\n",
       "  <thead>\n",
       "    <tr style=\"text-align: right;\">\n",
       "      <th></th>\n",
       "      <th>Time</th>\n",
       "      <th>Status</th>\n",
       "    </tr>\n",
       "    <tr>\n",
       "      <th>Date</th>\n",
       "      <th></th>\n",
       "      <th></th>\n",
       "    </tr>\n",
       "  </thead>\n",
       "  <tbody>\n",
       "    <tr>\n",
       "      <th>2014-07-03</th>\n",
       "      <td>2020-09-10 05:00:00</td>\n",
       "      <td>Arrived</td>\n",
       "    </tr>\n",
       "    <tr>\n",
       "      <th>2014-07-03</th>\n",
       "      <td>2020-09-10 05:45:00</td>\n",
       "      <td>Assigned</td>\n",
       "    </tr>\n",
       "    <tr>\n",
       "      <th>2014-07-03</th>\n",
       "      <td>2020-09-10 06:55:00</td>\n",
       "      <td>Arrived</td>\n",
       "    </tr>\n",
       "  </tbody>\n",
       "</table>\n",
       "</div>"
      ],
      "text/plain": [
       "                          Time    Status\n",
       "Date                                    \n",
       "2014-07-03 2020-09-10 05:00:00   Arrived\n",
       "2014-07-03 2020-09-10 05:45:00  Assigned\n",
       "2014-07-03 2020-09-10 06:55:00   Arrived"
      ]
     },
     "execution_count": 76,
     "metadata": {},
     "output_type": "execute_result"
    }
   ],
   "source": [
    "df_status.loc['07/03/2014'].head(3)"
   ]
  },
  {
   "cell_type": "markdown",
   "metadata": {},
   "source": [
    "We can reset the index as well to make the index become a column again:"
   ]
  },
  {
   "cell_type": "code",
   "execution_count": 77,
   "metadata": {},
   "outputs": [
    {
     "data": {
      "text/html": [
       "<div>\n",
       "<style scoped>\n",
       "    .dataframe tbody tr th:only-of-type {\n",
       "        vertical-align: middle;\n",
       "    }\n",
       "\n",
       "    .dataframe tbody tr th {\n",
       "        vertical-align: top;\n",
       "    }\n",
       "\n",
       "    .dataframe thead th {\n",
       "        text-align: right;\n",
       "    }\n",
       "</style>\n",
       "<table border=\"1\" class=\"dataframe\">\n",
       "  <thead>\n",
       "    <tr style=\"text-align: right;\">\n",
       "      <th></th>\n",
       "      <th>Date</th>\n",
       "      <th>Time</th>\n",
       "      <th>Status</th>\n",
       "    </tr>\n",
       "  </thead>\n",
       "  <tbody>\n",
       "    <tr>\n",
       "      <th>0</th>\n",
       "      <td>2014-07-01</td>\n",
       "      <td>2020-09-10 07:15:00</td>\n",
       "      <td>Cancelled</td>\n",
       "    </tr>\n",
       "    <tr>\n",
       "      <th>1</th>\n",
       "      <td>2014-07-01</td>\n",
       "      <td>2020-09-10 07:30:00</td>\n",
       "      <td>Arrived</td>\n",
       "    </tr>\n",
       "    <tr>\n",
       "      <th>2</th>\n",
       "      <td>2014-07-01</td>\n",
       "      <td>2020-09-10 08:00:00</td>\n",
       "      <td>Assigned</td>\n",
       "    </tr>\n",
       "  </tbody>\n",
       "</table>\n",
       "</div>"
      ],
      "text/plain": [
       "        Date                Time     Status\n",
       "0 2014-07-01 2020-09-10 07:15:00  Cancelled\n",
       "1 2014-07-01 2020-09-10 07:30:00    Arrived\n",
       "2 2014-07-01 2020-09-10 08:00:00   Assigned"
      ]
     },
     "execution_count": 77,
     "metadata": {},
     "output_type": "execute_result"
    }
   ],
   "source": [
    "df_status = df_status.reset_index()\n",
    "df_status.head(3)"
   ]
  },
  {
   "cell_type": "markdown",
   "metadata": {},
   "source": [
    "### Functions on columns\n",
    "\n",
    "As we did in the section on series, we can apply functions to columns in a data frame. A very common task is to look at the unique values:"
   ]
  },
  {
   "cell_type": "code",
   "execution_count": 78,
   "metadata": {},
   "outputs": [
    {
     "data": {
      "text/plain": [
       "[Cancelled, Arrived, Assigned]\n",
       "Categories (3, object): [Cancelled, Arrived, Assigned]"
      ]
     },
     "execution_count": 78,
     "metadata": {},
     "output_type": "execute_result"
    }
   ],
   "source": [
    "df_status['Status'].unique()"
   ]
  },
  {
   "cell_type": "code",
   "execution_count": 79,
   "metadata": {},
   "outputs": [
    {
     "data": {
      "text/plain": [
       "array(['2014-07-01T00:00:00.000000000', '2014-07-02T00:00:00.000000000',\n",
       "       '2014-07-03T00:00:00.000000000', '2014-07-04T00:00:00.000000000',\n",
       "       '2014-07-05T00:00:00.000000000', '2014-07-06T00:00:00.000000000',\n",
       "       '2014-07-07T00:00:00.000000000', '2014-07-09T00:00:00.000000000',\n",
       "       '2014-07-11T00:00:00.000000000', '2014-07-12T00:00:00.000000000',\n",
       "       '2014-07-13T00:00:00.000000000', '2014-07-14T00:00:00.000000000',\n",
       "       '2014-07-15T00:00:00.000000000', '2014-07-16T00:00:00.000000000',\n",
       "       '2014-07-17T00:00:00.000000000', '2014-07-18T00:00:00.000000000',\n",
       "       '2014-07-19T00:00:00.000000000', '2014-07-20T00:00:00.000000000',\n",
       "       '2014-07-21T00:00:00.000000000', '2014-07-22T00:00:00.000000000'],\n",
       "      dtype='datetime64[ns]')"
      ]
     },
     "execution_count": 79,
     "metadata": {},
     "output_type": "execute_result"
    }
   ],
   "source": [
    "df_status['Date'].unique()"
   ]
  },
  {
   "cell_type": "markdown",
   "metadata": {},
   "source": [
    "Aside from computing the unique values, we can also ask for the count for each unique value:"
   ]
  },
  {
   "cell_type": "code",
   "execution_count": 118,
   "metadata": {},
   "outputs": [
    {
     "data": {
      "text/plain": [
       "Arrived      59\n",
       "Assigned     32\n",
       "Cancelled     8\n",
       "Name: Status, dtype: int64"
      ]
     },
     "execution_count": 118,
     "metadata": {},
     "output_type": "execute_result"
    }
   ],
   "source": [
    "df_status['Status'].value_counts() # like a histogram"
   ]
  },
  {
   "cell_type": "markdown",
   "metadata": {},
   "source": [
    "Because the columns are retrieved as series objects, we can do the same column arithmetic:"
   ]
  },
  {
   "cell_type": "code",
   "execution_count": 152,
   "metadata": {},
   "outputs": [
    {
     "data": {
      "text/plain": [
       "0      0.005137\n",
       "1      0.004062\n",
       "2      0.005239\n",
       "3      0.004661\n",
       "4      0.004929\n",
       "         ...   \n",
       "387    0.009677\n",
       "388    0.020657\n",
       "389    0.013943\n",
       "390    0.010667\n",
       "391    0.011397\n",
       "Length: 392, dtype: float64"
      ]
     },
     "execution_count": 152,
     "metadata": {},
     "output_type": "execute_result"
    }
   ],
   "source": [
    "df_cars['MPG']/df_cars['WGT']"
   ]
  },
  {
   "cell_type": "markdown",
   "metadata": {},
   "source": [
    "### Missing values in a data frame"
   ]
  },
  {
   "cell_type": "markdown",
   "metadata": {},
   "source": [
    "Returning to our friend the missing value, we can ask for a matrix of Boolean values indicating whether a specific row and column value is missing:"
   ]
  },
  {
   "cell_type": "code",
   "execution_count": 81,
   "metadata": {},
   "outputs": [
    {
     "data": {
      "text/html": [
       "<div>\n",
       "<style scoped>\n",
       "    .dataframe tbody tr th:only-of-type {\n",
       "        vertical-align: middle;\n",
       "    }\n",
       "\n",
       "    .dataframe tbody tr th {\n",
       "        vertical-align: top;\n",
       "    }\n",
       "\n",
       "    .dataframe thead th {\n",
       "        text-align: right;\n",
       "    }\n",
       "</style>\n",
       "<table border=\"1\" class=\"dataframe\">\n",
       "  <thead>\n",
       "    <tr style=\"text-align: right;\">\n",
       "      <th></th>\n",
       "      <th>Date</th>\n",
       "      <th>Time</th>\n",
       "      <th>Status</th>\n",
       "    </tr>\n",
       "  </thead>\n",
       "  <tbody>\n",
       "    <tr>\n",
       "      <th>0</th>\n",
       "      <td>False</td>\n",
       "      <td>False</td>\n",
       "      <td>False</td>\n",
       "    </tr>\n",
       "    <tr>\n",
       "      <th>1</th>\n",
       "      <td>False</td>\n",
       "      <td>False</td>\n",
       "      <td>False</td>\n",
       "    </tr>\n",
       "    <tr>\n",
       "      <th>2</th>\n",
       "      <td>False</td>\n",
       "      <td>False</td>\n",
       "      <td>False</td>\n",
       "    </tr>\n",
       "    <tr>\n",
       "      <th>3</th>\n",
       "      <td>False</td>\n",
       "      <td>False</td>\n",
       "      <td>False</td>\n",
       "    </tr>\n",
       "    <tr>\n",
       "      <th>4</th>\n",
       "      <td>False</td>\n",
       "      <td>False</td>\n",
       "      <td>False</td>\n",
       "    </tr>\n",
       "  </tbody>\n",
       "</table>\n",
       "</div>"
      ],
      "text/plain": [
       "    Date   Time  Status\n",
       "0  False  False   False\n",
       "1  False  False   False\n",
       "2  False  False   False\n",
       "3  False  False   False\n",
       "4  False  False   False"
      ]
     },
     "execution_count": 81,
     "metadata": {},
     "output_type": "execute_result"
    }
   ],
   "source": [
    "df_status.isnull().head(5)   # notice I am chaining the functions here isnull->head"
   ]
  },
  {
   "cell_type": "code",
   "execution_count": 82,
   "metadata": {},
   "outputs": [
    {
     "data": {
      "text/plain": [
       "Date      0\n",
       "Time      0\n",
       "Status    0\n",
       "dtype: int64"
      ]
     },
     "execution_count": 82,
     "metadata": {},
     "output_type": "execute_result"
    }
   ],
   "source": [
    "df_status.isnull().sum()  # how many in each column are missing? it turns out none are missing:"
   ]
  },
  {
   "cell_type": "markdown",
   "metadata": {},
   "source": [
    "By default, the summation occurs down the rows, which pandas indicates with a default of `axis=0`:"
   ]
  },
  {
   "cell_type": "code",
   "execution_count": 122,
   "metadata": {},
   "outputs": [
    {
     "data": {
      "text/plain": [
       "Date      0\n",
       "Time      0\n",
       "Status    0\n",
       "dtype: int64"
      ]
     },
     "execution_count": 122,
     "metadata": {},
     "output_type": "execute_result"
    }
   ],
   "source": [
    "df_status.isnull().sum(axis=0)"
   ]
  },
  {
   "cell_type": "markdown",
   "metadata": {},
   "source": [
    "We can sum down the columsn with `axis=1`:"
   ]
  },
  {
   "cell_type": "code",
   "execution_count": 123,
   "metadata": {},
   "outputs": [
    {
     "data": {
      "text/plain": [
       "0     0\n",
       "1     0\n",
       "2     0\n",
       "3     0\n",
       "4     0\n",
       "     ..\n",
       "94    0\n",
       "95    0\n",
       "96    0\n",
       "97    0\n",
       "98    0\n",
       "Length: 99, dtype: int64"
      ]
     },
     "execution_count": 123,
     "metadata": {},
     "output_type": "execute_result"
    }
   ],
   "source": [
    "df_status.isnull().sum(axis=1)  # how many in each row are missing?"
   ]
  },
  {
   "cell_type": "code",
   "execution_count": 124,
   "metadata": {},
   "outputs": [
    {
     "data": {
      "text/plain": [
       "Date      False\n",
       "Time      False\n",
       "Status    False\n",
       "dtype: bool"
      ]
     },
     "execution_count": 124,
     "metadata": {},
     "output_type": "execute_result"
    }
   ],
   "source": [
    "df_status.isnull().any() # don't care about the count, just absence of values"
   ]
  },
  {
   "cell_type": "code",
   "execution_count": 125,
   "metadata": {},
   "outputs": [
    {
     "data": {
      "text/plain": [
       "False"
      ]
     },
     "execution_count": 125,
     "metadata": {},
     "output_type": "execute_result"
    }
   ],
   "source": [
    "df_status.isnull().any().any()"
   ]
  },
  {
   "cell_type": "markdown",
   "metadata": {},
   "source": [
    "### Altering data frames\n",
    "\n",
    "We often want to alter the values in a data frame, such as when we clean up data in preparation for modeling. We can set individual values, rows, or entire columns."
   ]
  },
  {
   "cell_type": "code",
   "execution_count": 126,
   "metadata": {},
   "outputs": [
    {
     "data": {
      "text/html": [
       "<div>\n",
       "<style scoped>\n",
       "    .dataframe tbody tr th:only-of-type {\n",
       "        vertical-align: middle;\n",
       "    }\n",
       "\n",
       "    .dataframe tbody tr th {\n",
       "        vertical-align: top;\n",
       "    }\n",
       "\n",
       "    .dataframe thead th {\n",
       "        text-align: right;\n",
       "    }\n",
       "</style>\n",
       "<table border=\"1\" class=\"dataframe\">\n",
       "  <thead>\n",
       "    <tr style=\"text-align: right;\">\n",
       "      <th></th>\n",
       "      <th>Date</th>\n",
       "      <th>Time</th>\n",
       "      <th>Status</th>\n",
       "      <th>junk</th>\n",
       "    </tr>\n",
       "  </thead>\n",
       "  <tbody>\n",
       "    <tr>\n",
       "      <th>0</th>\n",
       "      <td>2014-07-01</td>\n",
       "      <td>2020-09-10 07:15:00</td>\n",
       "      <td>Arrived</td>\n",
       "      <td>0</td>\n",
       "    </tr>\n",
       "    <tr>\n",
       "      <th>1</th>\n",
       "      <td>2014-07-01</td>\n",
       "      <td>2020-09-10 07:30:00</td>\n",
       "      <td>Arrived</td>\n",
       "      <td>0</td>\n",
       "    </tr>\n",
       "    <tr>\n",
       "      <th>2</th>\n",
       "      <td>2014-07-01</td>\n",
       "      <td>2020-09-10 08:00:00</td>\n",
       "      <td>Assigned</td>\n",
       "      <td>0</td>\n",
       "    </tr>\n",
       "  </tbody>\n",
       "</table>\n",
       "</div>"
      ],
      "text/plain": [
       "        Date                Time    Status  junk\n",
       "0 2014-07-01 2020-09-10 07:15:00   Arrived     0\n",
       "1 2014-07-01 2020-09-10 07:30:00   Arrived     0\n",
       "2 2014-07-01 2020-09-10 08:00:00  Assigned     0"
      ]
     },
     "execution_count": 126,
     "metadata": {},
     "output_type": "execute_result"
    }
   ],
   "source": [
    "df_status['junk'] = 0      # insert a new column and set to 0\n",
    "df_status.head(3)"
   ]
  },
  {
   "cell_type": "code",
   "execution_count": 127,
   "metadata": {},
   "outputs": [
    {
     "data": {
      "text/html": [
       "<div>\n",
       "<style scoped>\n",
       "    .dataframe tbody tr th:only-of-type {\n",
       "        vertical-align: middle;\n",
       "    }\n",
       "\n",
       "    .dataframe tbody tr th {\n",
       "        vertical-align: top;\n",
       "    }\n",
       "\n",
       "    .dataframe thead th {\n",
       "        text-align: right;\n",
       "    }\n",
       "</style>\n",
       "<table border=\"1\" class=\"dataframe\">\n",
       "  <thead>\n",
       "    <tr style=\"text-align: right;\">\n",
       "      <th></th>\n",
       "      <th>Date</th>\n",
       "      <th>Time</th>\n",
       "      <th>Status</th>\n",
       "      <th>junk</th>\n",
       "    </tr>\n",
       "  </thead>\n",
       "  <tbody>\n",
       "    <tr>\n",
       "      <th>0</th>\n",
       "      <td>2014-07-01</td>\n",
       "      <td>2020-09-10 07:15:00</td>\n",
       "      <td>Arrived</td>\n",
       "      <td>99</td>\n",
       "    </tr>\n",
       "    <tr>\n",
       "      <th>1</th>\n",
       "      <td>2014-07-01</td>\n",
       "      <td>2020-09-10 07:30:00</td>\n",
       "      <td>Arrived</td>\n",
       "      <td>99</td>\n",
       "    </tr>\n",
       "    <tr>\n",
       "      <th>2</th>\n",
       "      <td>2014-07-01</td>\n",
       "      <td>2020-09-10 08:00:00</td>\n",
       "      <td>Assigned</td>\n",
       "      <td>99</td>\n",
       "    </tr>\n",
       "  </tbody>\n",
       "</table>\n",
       "</div>"
      ],
      "text/plain": [
       "        Date                Time    Status  junk\n",
       "0 2014-07-01 2020-09-10 07:15:00   Arrived    99\n",
       "1 2014-07-01 2020-09-10 07:30:00   Arrived    99\n",
       "2 2014-07-01 2020-09-10 08:00:00  Assigned    99"
      ]
     },
     "execution_count": 127,
     "metadata": {},
     "output_type": "execute_result"
    }
   ],
   "source": [
    "df_status['junk'] = 99     # overwrite a column with a single value\n",
    "df_status.head(3)"
   ]
  },
  {
   "cell_type": "code",
   "execution_count": 128,
   "metadata": {},
   "outputs": [
    {
     "data": {
      "text/html": [
       "<div>\n",
       "<style scoped>\n",
       "    .dataframe tbody tr th:only-of-type {\n",
       "        vertical-align: middle;\n",
       "    }\n",
       "\n",
       "    .dataframe tbody tr th {\n",
       "        vertical-align: top;\n",
       "    }\n",
       "\n",
       "    .dataframe thead th {\n",
       "        text-align: right;\n",
       "    }\n",
       "</style>\n",
       "<table border=\"1\" class=\"dataframe\">\n",
       "  <thead>\n",
       "    <tr style=\"text-align: right;\">\n",
       "      <th></th>\n",
       "      <th>Date</th>\n",
       "      <th>Time</th>\n",
       "      <th>Status</th>\n",
       "      <th>junk</th>\n",
       "    </tr>\n",
       "  </thead>\n",
       "  <tbody>\n",
       "    <tr>\n",
       "      <th>0</th>\n",
       "      <td>2014-07-01</td>\n",
       "      <td>2020-09-10 07:15:00</td>\n",
       "      <td>Arrived</td>\n",
       "      <td>100</td>\n",
       "    </tr>\n",
       "    <tr>\n",
       "      <th>1</th>\n",
       "      <td>2014-07-01</td>\n",
       "      <td>2020-09-10 07:30:00</td>\n",
       "      <td>Arrived</td>\n",
       "      <td>101</td>\n",
       "    </tr>\n",
       "    <tr>\n",
       "      <th>2</th>\n",
       "      <td>2014-07-01</td>\n",
       "      <td>2020-09-10 08:00:00</td>\n",
       "      <td>Assigned</td>\n",
       "      <td>102</td>\n",
       "    </tr>\n",
       "  </tbody>\n",
       "</table>\n",
       "</div>"
      ],
      "text/plain": [
       "        Date                Time    Status  junk\n",
       "0 2014-07-01 2020-09-10 07:15:00   Arrived   100\n",
       "1 2014-07-01 2020-09-10 07:30:00   Arrived   101\n",
       "2 2014-07-01 2020-09-10 08:00:00  Assigned   102"
      ]
     },
     "execution_count": 128,
     "metadata": {},
     "output_type": "execute_result"
    }
   ],
   "source": [
    "df_status['junk'] = range(100,199)  # set a column to a new series of data\n",
    "df_status.head(3)"
   ]
  },
  {
   "cell_type": "code",
   "execution_count": 129,
   "metadata": {},
   "outputs": [
    {
     "data": {
      "text/html": [
       "<div>\n",
       "<style scoped>\n",
       "    .dataframe tbody tr th:only-of-type {\n",
       "        vertical-align: middle;\n",
       "    }\n",
       "\n",
       "    .dataframe tbody tr th {\n",
       "        vertical-align: top;\n",
       "    }\n",
       "\n",
       "    .dataframe thead th {\n",
       "        text-align: right;\n",
       "    }\n",
       "</style>\n",
       "<table border=\"1\" class=\"dataframe\">\n",
       "  <thead>\n",
       "    <tr style=\"text-align: right;\">\n",
       "      <th></th>\n",
       "      <th>Date</th>\n",
       "      <th>Time</th>\n",
       "      <th>Status</th>\n",
       "    </tr>\n",
       "  </thead>\n",
       "  <tbody>\n",
       "    <tr>\n",
       "      <th>0</th>\n",
       "      <td>2014-07-01</td>\n",
       "      <td>2020-09-10 07:15:00</td>\n",
       "      <td>Arrived</td>\n",
       "    </tr>\n",
       "    <tr>\n",
       "      <th>1</th>\n",
       "      <td>2014-07-01</td>\n",
       "      <td>2020-09-10 07:30:00</td>\n",
       "      <td>Arrived</td>\n",
       "    </tr>\n",
       "    <tr>\n",
       "      <th>2</th>\n",
       "      <td>2014-07-01</td>\n",
       "      <td>2020-09-10 08:00:00</td>\n",
       "      <td>Assigned</td>\n",
       "    </tr>\n",
       "  </tbody>\n",
       "</table>\n",
       "</div>"
      ],
      "text/plain": [
       "        Date                Time    Status\n",
       "0 2014-07-01 2020-09-10 07:15:00   Arrived\n",
       "1 2014-07-01 2020-09-10 07:30:00   Arrived\n",
       "2 2014-07-01 2020-09-10 08:00:00  Assigned"
      ]
     },
     "execution_count": 129,
     "metadata": {},
     "output_type": "execute_result"
    }
   ],
   "source": [
    "df_status = df_status.drop('junk', axis=1)    # axis=1 means drop a column\n",
    "df_status.head(3)"
   ]
  },
  {
   "cell_type": "markdown",
   "metadata": {},
   "source": [
    "Or you can use `del df_status['junk']` which might be a bit more obvious."
   ]
  },
  {
   "cell_type": "code",
   "execution_count": 130,
   "metadata": {},
   "outputs": [
    {
     "data": {
      "text/html": [
       "<div>\n",
       "<style scoped>\n",
       "    .dataframe tbody tr th:only-of-type {\n",
       "        vertical-align: middle;\n",
       "    }\n",
       "\n",
       "    .dataframe tbody tr th {\n",
       "        vertical-align: top;\n",
       "    }\n",
       "\n",
       "    .dataframe thead th {\n",
       "        text-align: right;\n",
       "    }\n",
       "</style>\n",
       "<table border=\"1\" class=\"dataframe\">\n",
       "  <thead>\n",
       "    <tr style=\"text-align: right;\">\n",
       "      <th></th>\n",
       "      <th>Date</th>\n",
       "      <th>Time</th>\n",
       "      <th>Status</th>\n",
       "    </tr>\n",
       "  </thead>\n",
       "  <tbody>\n",
       "    <tr>\n",
       "      <th>0</th>\n",
       "      <td>2014-07-01</td>\n",
       "      <td>2020-09-10 07:15:00</td>\n",
       "      <td>Arrived</td>\n",
       "    </tr>\n",
       "    <tr>\n",
       "      <th>1</th>\n",
       "      <td>2014-07-01</td>\n",
       "      <td>2020-09-10 07:30:00</td>\n",
       "      <td>Arrived</td>\n",
       "    </tr>\n",
       "    <tr>\n",
       "      <th>2</th>\n",
       "      <td>2014-07-01</td>\n",
       "      <td>2020-09-10 08:00:00</td>\n",
       "      <td>Assigned</td>\n",
       "    </tr>\n",
       "  </tbody>\n",
       "</table>\n",
       "</div>"
      ],
      "text/plain": [
       "        Date                Time    Status\n",
       "0 2014-07-01 2020-09-10 07:15:00   Arrived\n",
       "1 2014-07-01 2020-09-10 07:30:00   Arrived\n",
       "2 2014-07-01 2020-09-10 08:00:00  Assigned"
      ]
     },
     "execution_count": 130,
     "metadata": {},
     "output_type": "execute_result"
    }
   ],
   "source": [
    "df_status.loc[0,'Status'] = 'Arrived'     # Update a single categorical value in one column\n",
    "df_status.head(3)"
   ]
  },
  {
   "cell_type": "markdown",
   "metadata": {},
   "source": [
    "**WARNING**: Injecting a new column into, say, `df_status` is no problem as long as the data frame referred to is the entire data frame, and not a subset (sometimes called a view).  For example, the following gets an error because I'm updating a \"slice\" of the original data frame."
   ]
  },
  {
   "cell_type": "code",
   "execution_count": 90,
   "metadata": {},
   "outputs": [
    {
     "name": "stderr",
     "output_type": "stream",
     "text": [
      "<ipython-input-90-68d97c138c04>:2: SettingWithCopyWarning: \n",
      "A value is trying to be set on a copy of a slice from a DataFrame.\n",
      "Try using .loc[row_indexer,col_indexer] = value instead\n",
      "\n",
      "See the caveats in the documentation: https://pandas.pydata.org/pandas-docs/stable/user_guide/indexing.html#returning-a-view-versus-a-copy\n",
      "  df_x['foo'] = 0\n"
     ]
    }
   ],
   "source": [
    "df_x = df_status.iloc[5:10]\n",
    "df_x['foo'] = 0"
   ]
  },
  {
   "cell_type": "markdown",
   "metadata": {},
   "source": [
    "My usual solution is simply to make a copy so I get a copy and not a subset view of the original data frame:"
   ]
  },
  {
   "cell_type": "code",
   "execution_count": 91,
   "metadata": {},
   "outputs": [
    {
     "data": {
      "text/html": [
       "<div>\n",
       "<style scoped>\n",
       "    .dataframe tbody tr th:only-of-type {\n",
       "        vertical-align: middle;\n",
       "    }\n",
       "\n",
       "    .dataframe tbody tr th {\n",
       "        vertical-align: top;\n",
       "    }\n",
       "\n",
       "    .dataframe thead th {\n",
       "        text-align: right;\n",
       "    }\n",
       "</style>\n",
       "<table border=\"1\" class=\"dataframe\">\n",
       "  <thead>\n",
       "    <tr style=\"text-align: right;\">\n",
       "      <th></th>\n",
       "      <th>Date</th>\n",
       "      <th>Time</th>\n",
       "      <th>Status</th>\n",
       "      <th>foo</th>\n",
       "    </tr>\n",
       "  </thead>\n",
       "  <tbody>\n",
       "    <tr>\n",
       "      <th>5</th>\n",
       "      <td>2014-07-01</td>\n",
       "      <td>2020-09-10 12:00:00</td>\n",
       "      <td>Arrived</td>\n",
       "      <td>0</td>\n",
       "    </tr>\n",
       "    <tr>\n",
       "      <th>6</th>\n",
       "      <td>2014-07-01</td>\n",
       "      <td>2020-09-10 12:30:00</td>\n",
       "      <td>Assigned</td>\n",
       "      <td>0</td>\n",
       "    </tr>\n",
       "  </tbody>\n",
       "</table>\n",
       "</div>"
      ],
      "text/plain": [
       "        Date                Time    Status  foo\n",
       "5 2014-07-01 2020-09-10 12:00:00   Arrived    0\n",
       "6 2014-07-01 2020-09-10 12:30:00  Assigned    0"
      ]
     },
     "execution_count": 91,
     "metadata": {},
     "output_type": "execute_result"
    }
   ],
   "source": [
    "df_x = df_status.iloc[5:10].copy()\n",
    "df_x['foo'] = 0\n",
    "df_x.head(2)"
   ]
  },
  {
   "cell_type": "code",
   "execution_count": 92,
   "metadata": {},
   "outputs": [
    {
     "data": {
      "text/html": [
       "<div>\n",
       "<style scoped>\n",
       "    .dataframe tbody tr th:only-of-type {\n",
       "        vertical-align: middle;\n",
       "    }\n",
       "\n",
       "    .dataframe tbody tr th {\n",
       "        vertical-align: top;\n",
       "    }\n",
       "\n",
       "    .dataframe thead th {\n",
       "        text-align: right;\n",
       "    }\n",
       "</style>\n",
       "<table border=\"1\" class=\"dataframe\">\n",
       "  <thead>\n",
       "    <tr style=\"text-align: right;\">\n",
       "      <th></th>\n",
       "      <th>Date</th>\n",
       "      <th>Time</th>\n",
       "      <th>Status</th>\n",
       "    </tr>\n",
       "  </thead>\n",
       "  <tbody>\n",
       "    <tr>\n",
       "      <th>0</th>\n",
       "      <td>2014-07-01</td>\n",
       "      <td>2020-09-10 07:15:00</td>\n",
       "      <td>Arrived</td>\n",
       "    </tr>\n",
       "    <tr>\n",
       "      <th>1</th>\n",
       "      <td>2014-07-01</td>\n",
       "      <td>2020-09-10 07:30:00</td>\n",
       "      <td>Arrived</td>\n",
       "    </tr>\n",
       "  </tbody>\n",
       "</table>\n",
       "</div>"
      ],
      "text/plain": [
       "        Date                Time   Status\n",
       "0 2014-07-01 2020-09-10 07:15:00  Arrived\n",
       "1 2014-07-01 2020-09-10 07:30:00  Arrived"
      ]
     },
     "execution_count": 92,
     "metadata": {},
     "output_type": "execute_result"
    }
   ],
   "source": [
    "df_status.head(2)   # original does not have the 'foo' column"
   ]
  },
  {
   "cell_type": "markdown",
   "metadata": {},
   "source": [
    "Most of the time we are not deleting rows but we can do so using use `drop`.  Most likely we are asking for a subset of the data.  For example, here is how to find all trips that arrived:"
   ]
  },
  {
   "cell_type": "code",
   "execution_count": 93,
   "metadata": {},
   "outputs": [
    {
     "data": {
      "text/html": [
       "<div>\n",
       "<style scoped>\n",
       "    .dataframe tbody tr th:only-of-type {\n",
       "        vertical-align: middle;\n",
       "    }\n",
       "\n",
       "    .dataframe tbody tr th {\n",
       "        vertical-align: top;\n",
       "    }\n",
       "\n",
       "    .dataframe thead th {\n",
       "        text-align: right;\n",
       "    }\n",
       "</style>\n",
       "<table border=\"1\" class=\"dataframe\">\n",
       "  <thead>\n",
       "    <tr style=\"text-align: right;\">\n",
       "      <th></th>\n",
       "      <th>Date</th>\n",
       "      <th>Time</th>\n",
       "      <th>Status</th>\n",
       "    </tr>\n",
       "  </thead>\n",
       "  <tbody>\n",
       "    <tr>\n",
       "      <th>0</th>\n",
       "      <td>2014-07-01</td>\n",
       "      <td>2020-09-10 07:15:00</td>\n",
       "      <td>Arrived</td>\n",
       "    </tr>\n",
       "    <tr>\n",
       "      <th>1</th>\n",
       "      <td>2014-07-01</td>\n",
       "      <td>2020-09-10 07:30:00</td>\n",
       "      <td>Arrived</td>\n",
       "    </tr>\n",
       "    <tr>\n",
       "      <th>5</th>\n",
       "      <td>2014-07-01</td>\n",
       "      <td>2020-09-10 12:00:00</td>\n",
       "      <td>Arrived</td>\n",
       "    </tr>\n",
       "  </tbody>\n",
       "</table>\n",
       "</div>"
      ],
      "text/plain": [
       "        Date                Time   Status\n",
       "0 2014-07-01 2020-09-10 07:15:00  Arrived\n",
       "1 2014-07-01 2020-09-10 07:30:00  Arrived\n",
       "5 2014-07-01 2020-09-10 12:00:00  Arrived"
      ]
     },
     "execution_count": 93,
     "metadata": {},
     "output_type": "execute_result"
    }
   ],
   "source": [
    "df_status[df_status['Status']=='Arrived'].head(3)"
   ]
  },
  {
   "cell_type": "markdown",
   "metadata": {},
   "source": [
    "### Exercise 6\n",
    "\n",
    "For the cars data set:\n",
    "\n",
    "1. Use numpy's function `np.corrcoef(x,y)` to compute the correlation between a car's weight and the miles per gallon; that function returns a matrix of x with x, x with y, etc... so the diagonal will always be correlation 1.0.  You should see a strongly negative correlation\n",
    "1. Display the records for all 8 cylinder cars\n",
    "1. Create a new column called `ENG2WGT` that has the engine to weight ratio\n",
    "\n",
    "From the `df_uber` data frame:\n",
    "\n",
    "1.  Create a new data frame containing `Time`, `Status`, and `PU_Address` columns\n",
    "1.  Set the index of that data frame to `Time`\n",
    "1.  Display records at positions between 10 and 15 inclusively\n",
    "1.  Display the `PU_Address` for records whose index is `'2020-09-10 07:30:00'`\n",
    "1.  Reset the data frame so that `Time` is a column again.\n",
    "1.  Create a new column called `year` that has the year extracted from the `Time` column using `.dt.year`"
   ]
  },
  {
   "cell_type": "markdown",
   "metadata": {},
   "source": [
    "### Exercise 7\n",
    "\n",
    "Make a list of all of the key operations we performed in this notebook. For example, you can give an example of each and then a brief description. The goal here is to get these commands into your brain and the only way to do that is repetition. If you cut-and-paste, you will not learn very quickly at all!"
   ]
  }
 ],
 "metadata": {
  "kernelspec": {
   "display_name": "Python 3",
   "language": "python",
   "name": "python3"
  },
  "language_info": {
   "codemirror_mode": {
    "name": "ipython",
    "version": 3
   },
   "file_extension": ".py",
   "mimetype": "text/x-python",
   "name": "python",
   "nbconvert_exporter": "python",
   "pygments_lexer": "ipython3",
   "version": "3.8.6"
  },
  "toc-autonumbering": false,
  "toc-showcode": false,
  "toc-showmarkdowntxt": false,
  "toc-showtags": false
 },
 "nbformat": 4,
 "nbformat_minor": 4
}
